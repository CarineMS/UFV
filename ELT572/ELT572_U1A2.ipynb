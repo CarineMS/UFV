{
  "nbformat": 4,
  "nbformat_minor": 0,
  "metadata": {
    "colab": {
      "provenance": [],
      "authorship_tag": "ABX9TyMWFlBNtDyKd9zZLrlfo8yz",
      "include_colab_link": true
    },
    "kernelspec": {
      "name": "python3",
      "display_name": "Python 3"
    },
    "language_info": {
      "name": "python"
    }
  },
  "cells": [
    {
      "cell_type": "markdown",
      "metadata": {
        "id": "view-in-github",
        "colab_type": "text"
      },
      "source": [
        "<a href=\"https://colab.research.google.com/github/CarineMS/UFV/blob/main/ELT572_U1A2.ipynb\" target=\"_parent\"><img src=\"https://colab.research.google.com/assets/colab-badge.svg\" alt=\"Open In Colab\"/></a>"
      ]
    },
    {
      "cell_type": "markdown",
      "source": [
        "## Caderno de Exercícios Python\n",
        "\n",
        "\n",
        "#### Capítulo 02 - Comandos básicos da linguagem Python\n",
        "#### Disciplina: Linguagens de Programação para Inteligência Artificial\n",
        "\n",
        "**Aluna:** Carine Madeira Soares  \n",
        "**Instituição:** Universidade Federal de Viçosa\n"
      ],
      "metadata": {
        "id": "5R6sg85RBSne"
      }
    },
    {
      "cell_type": "code",
      "execution_count": 1,
      "metadata": {
        "id": "wuAuMwwpZeZg"
      },
      "outputs": [],
      "source": [
        "import pandas as pd\n",
        "import numpy as np"
      ]
    },
    {
      "cell_type": "code",
      "source": [
        "from google.colab import drive\n",
        "drive.mount('/content/drive')"
      ],
      "metadata": {
        "colab": {
          "base_uri": "https://localhost:8080/"
        },
        "id": "0r_KBTQbxRZ0",
        "outputId": "240af56f-33ff-4bc5-b62a-fe8210b29011"
      },
      "execution_count": 2,
      "outputs": [
        {
          "output_type": "stream",
          "name": "stdout",
          "text": [
            "Mounted at /content/drive\n"
          ]
        }
      ]
    },
    {
      "cell_type": "markdown",
      "source": [
        "## Capítulo 02\n",
        "### Comandos básicos da linguagem Python"
      ],
      "metadata": {
        "id": "3PrHdVq8dzxb"
      }
    },
    {
      "cell_type": "markdown",
      "source": [
        "#### 1.Atribuição"
      ],
      "metadata": {
        "id": "xys_aAuMd_-u"
      }
    },
    {
      "cell_type": "code",
      "source": [
        "i = 1\n",
        "a = 7\n",
        "n = i * a"
      ],
      "metadata": {
        "id": "KQkAOnJFtkJU"
      },
      "execution_count": null,
      "outputs": []
    },
    {
      "cell_type": "code",
      "source": [
        "a += n\n",
        "a"
      ],
      "metadata": {
        "colab": {
          "base_uri": "https://localhost:8080/"
        },
        "id": "vNfo0IVGtkme",
        "outputId": "3e3079bf-9039-4e57-89a0-25e1a57e7b6c"
      },
      "execution_count": null,
      "outputs": [
        {
          "output_type": "execute_result",
          "data": {
            "text/plain": [
              "14"
            ]
          },
          "metadata": {},
          "execution_count": 2
        }
      ]
    },
    {
      "cell_type": "code",
      "source": [
        "i -= n\n",
        "i"
      ],
      "metadata": {
        "colab": {
          "base_uri": "https://localhost:8080/"
        },
        "id": "kfC7jTj8tog-",
        "outputId": "8c37f2b6-3396-4e49-8573-3af6ed3c73c8"
      },
      "execution_count": null,
      "outputs": [
        {
          "output_type": "execute_result",
          "data": {
            "text/plain": [
              "-6"
            ]
          },
          "metadata": {},
          "execution_count": 3
        }
      ]
    },
    {
      "cell_type": "code",
      "source": [
        "zn = n\n",
        "zn *= a\n",
        "zn"
      ],
      "metadata": {
        "colab": {
          "base_uri": "https://localhost:8080/"
        },
        "id": "ChsU7Z2-trwg",
        "outputId": "b9b61a41-62b0-402e-a051-0196021bc506"
      },
      "execution_count": null,
      "outputs": [
        {
          "output_type": "execute_result",
          "data": {
            "text/plain": [
              "98"
            ]
          },
          "metadata": {},
          "execution_count": 4
        }
      ]
    },
    {
      "cell_type": "code",
      "source": [
        "7*14"
      ],
      "metadata": {
        "colab": {
          "base_uri": "https://localhost:8080/"
        },
        "id": "TkZ-OAb7tteI",
        "outputId": "4e862163-73cb-4043-fe95-0d7c78dd3d19"
      },
      "execution_count": null,
      "outputs": [
        {
          "output_type": "execute_result",
          "data": {
            "text/plain": [
              "98"
            ]
          },
          "metadata": {},
          "execution_count": 5
        }
      ]
    },
    {
      "cell_type": "code",
      "source": [
        "a = 25\n",
        "b = 5\n",
        "a /= b"
      ],
      "metadata": {
        "id": "gR7w2HjmttbT"
      },
      "execution_count": null,
      "outputs": []
    },
    {
      "cell_type": "code",
      "source": [
        "a"
      ],
      "metadata": {
        "colab": {
          "base_uri": "https://localhost:8080/"
        },
        "id": "7Jk1n6FPttXG",
        "outputId": "a0cd6de2-cf8a-49b2-bc61-2448931110d6"
      },
      "execution_count": null,
      "outputs": [
        {
          "output_type": "execute_result",
          "data": {
            "text/plain": [
              "5.0"
            ]
          },
          "metadata": {},
          "execution_count": 7
        }
      ]
    },
    {
      "cell_type": "code",
      "source": [
        "25/5"
      ],
      "metadata": {
        "colab": {
          "base_uri": "https://localhost:8080/"
        },
        "id": "fFn3ZdIQttN8",
        "outputId": "d7ca9aaa-27fb-4a5e-aaa8-a0324d909c8a"
      },
      "execution_count": null,
      "outputs": [
        {
          "output_type": "execute_result",
          "data": {
            "text/plain": [
              "5.0"
            ]
          },
          "metadata": {},
          "execution_count": 8
        }
      ]
    },
    {
      "cell_type": "code",
      "source": [
        "x = 100\n",
        "y = 20"
      ],
      "metadata": {
        "id": "NQ-yJqJstxlx"
      },
      "execution_count": null,
      "outputs": []
    },
    {
      "cell_type": "code",
      "source": [
        "y %= x"
      ],
      "metadata": {
        "id": "vYjrOGsBtxii"
      },
      "execution_count": null,
      "outputs": []
    },
    {
      "cell_type": "code",
      "source": [
        "y"
      ],
      "metadata": {
        "colab": {
          "base_uri": "https://localhost:8080/"
        },
        "id": "JAnP5CiOtxfo",
        "outputId": "d5dd39a4-1b4f-446a-cbf4-06767c62a755"
      },
      "execution_count": null,
      "outputs": [
        {
          "output_type": "execute_result",
          "data": {
            "text/plain": [
              "20"
            ]
          },
          "metadata": {},
          "execution_count": 11
        }
      ]
    },
    {
      "cell_type": "code",
      "source": [
        "20 % 100"
      ],
      "metadata": {
        "colab": {
          "base_uri": "https://localhost:8080/"
        },
        "id": "x7-wBM60txby",
        "outputId": "7e598560-feed-4f9d-d1f9-f7a2cec7c8f4"
      },
      "execution_count": null,
      "outputs": [
        {
          "output_type": "execute_result",
          "data": {
            "text/plain": [
              "20"
            ]
          },
          "metadata": {},
          "execution_count": 12
        }
      ]
    },
    {
      "cell_type": "code",
      "source": [
        "m = 10\n",
        "n = 2"
      ],
      "metadata": {
        "id": "PSBd3l85txY5"
      },
      "execution_count": null,
      "outputs": []
    },
    {
      "cell_type": "code",
      "source": [
        "m //= n"
      ],
      "metadata": {
        "id": "laVj9u56t4Lo"
      },
      "execution_count": null,
      "outputs": []
    },
    {
      "cell_type": "code",
      "source": [
        "m"
      ],
      "metadata": {
        "colab": {
          "base_uri": "https://localhost:8080/"
        },
        "id": "El4WCJGOt4IP",
        "outputId": "4cf2c530-f195-4f38-d287-5a21ca87aa72"
      },
      "execution_count": null,
      "outputs": [
        {
          "output_type": "execute_result",
          "data": {
            "text/plain": [
              "5"
            ]
          },
          "metadata": {},
          "execution_count": 20
        }
      ]
    },
    {
      "cell_type": "code",
      "source": [
        "10//2"
      ],
      "metadata": {
        "colab": {
          "base_uri": "https://localhost:8080/"
        },
        "id": "4Z1s7EkAt4C5",
        "outputId": "a082d13b-90a9-4b2e-f12c-6c0861f38301"
      },
      "execution_count": null,
      "outputs": [
        {
          "output_type": "execute_result",
          "data": {
            "text/plain": [
              "5"
            ]
          },
          "metadata": {},
          "execution_count": 21
        }
      ]
    },
    {
      "cell_type": "code",
      "source": [
        "a = 3\n",
        "b = 2"
      ],
      "metadata": {
        "id": "xUdiEyd5t3_z"
      },
      "execution_count": null,
      "outputs": []
    },
    {
      "cell_type": "code",
      "source": [
        "a**b"
      ],
      "metadata": {
        "colab": {
          "base_uri": "https://localhost:8080/"
        },
        "id": "2iJ-CFvVt8Yl",
        "outputId": "872cd8bd-88c0-4639-d7aa-77f2bce99fb0"
      },
      "execution_count": null,
      "outputs": [
        {
          "output_type": "execute_result",
          "data": {
            "text/plain": [
              "9"
            ]
          },
          "metadata": {},
          "execution_count": 23
        }
      ]
    },
    {
      "cell_type": "code",
      "source": [
        "a **= b"
      ],
      "metadata": {
        "id": "-LmW6etIt8Vi"
      },
      "execution_count": null,
      "outputs": []
    },
    {
      "cell_type": "code",
      "source": [
        "3**2"
      ],
      "metadata": {
        "colab": {
          "base_uri": "https://localhost:8080/"
        },
        "id": "VolrwXPZt8Sj",
        "outputId": "7d61d34e-c19c-4aa8-823f-7446f991181f"
      },
      "execution_count": null,
      "outputs": [
        {
          "output_type": "execute_result",
          "data": {
            "text/plain": [
              "9"
            ]
          },
          "metadata": {},
          "execution_count": 26
        }
      ]
    },
    {
      "cell_type": "code",
      "source": [
        "(3)^2 # não sei qual operação é essa kkry"
      ],
      "metadata": {
        "colab": {
          "base_uri": "https://localhost:8080/"
        },
        "id": "RCU4fIMBt8PX",
        "outputId": "d6f70ca8-10c0-4376-e735-5a3b7552d7fa"
      },
      "execution_count": null,
      "outputs": [
        {
          "output_type": "execute_result",
          "data": {
            "text/plain": [
              "1"
            ]
          },
          "metadata": {},
          "execution_count": 27
        }
      ]
    },
    {
      "cell_type": "markdown",
      "source": [
        "#### 2.Entrada e Saída Padrão"
      ],
      "metadata": {
        "id": "3RwpC1A1eDZ2"
      }
    },
    {
      "cell_type": "code",
      "source": [
        "message = input(\"Diga alguma coisa e eu vou repetir: \")\n",
        "print(message)"
      ],
      "metadata": {
        "colab": {
          "base_uri": "https://localhost:8080/"
        },
        "id": "VWB-FGg6eZQ3",
        "outputId": "e5a98b9f-a319-4ad6-f663-b2ba71cf9a82"
      },
      "execution_count": null,
      "outputs": [
        {
          "output_type": "stream",
          "name": "stdout",
          "text": [
            "Diga alguma coisa e eu vou repetir: Hello! World?\n",
            "Hello! World?\n"
          ]
        }
      ]
    },
    {
      "cell_type": "code",
      "source": [
        "weight = float(input('Qual o peso da sua obra de arte? '))\n",
        "height = float(input('E a altura (m)? '))\n",
        "colab = int(input('É uma obra de quantos colaboradores? '))"
      ],
      "metadata": {
        "colab": {
          "base_uri": "https://localhost:8080/"
        },
        "id": "H551UKMReyil",
        "outputId": "546b16dc-ca80-4eaa-cac2-16005aea4387"
      },
      "execution_count": null,
      "outputs": [
        {
          "name": "stdout",
          "output_type": "stream",
          "text": [
            "Qual o peso da sua obra de arte? 2.945\n",
            "E a altura (m)? 1.50\n",
            "É uma obra de quantos colaboradores? 2\n"
          ]
        }
      ]
    },
    {
      "cell_type": "code",
      "source": [
        "print('Peso: ',weight,'kg')\n",
        "print('Altura: ',height,'m')\n",
        "print('Artistas: ',colab,'pessoas')"
      ],
      "metadata": {
        "colab": {
          "base_uri": "https://localhost:8080/"
        },
        "id": "hgUl4FJufrbU",
        "outputId": "5efeaa89-7aff-40f8-cf41-97b7dd440e6f"
      },
      "execution_count": null,
      "outputs": [
        {
          "output_type": "stream",
          "name": "stdout",
          "text": [
            "Peso:  2.945 kg\n",
            "Altura:  1.5 m\n",
            "Artistas:  2 pessoas\n"
          ]
        }
      ]
    },
    {
      "cell_type": "code",
      "source": [
        "# print(weight, height, colab)\n",
        "# print(weight, height, colab, sep=':')\n",
        "print(weight, height, colab, sep='¨', end='#')"
      ],
      "metadata": {
        "colab": {
          "base_uri": "https://localhost:8080/"
        },
        "id": "T8ttIPVAgTG4",
        "outputId": "85cae620-9ada-4f75-9a4a-112632ac88a6"
      },
      "execution_count": null,
      "outputs": [
        {
          "output_type": "stream",
          "name": "stdout",
          "text": [
            "2.945¨1.5¨2#"
          ]
        }
      ]
    },
    {
      "cell_type": "markdown",
      "source": [
        "#### 3.Estruturas Condicionais"
      ],
      "metadata": {
        "id": "FAYkbFSceI1U"
      }
    },
    {
      "cell_type": "code",
      "source": [
        "# A regra de negócio garante que um cliente é considerado fiel caso a sua frequência de compra seja superior a 10 vezes\n",
        "\n",
        "freq = 19\n",
        "if freq >= 10:\n",
        "  print('Esse cliente é fiel!')"
      ],
      "metadata": {
        "colab": {
          "base_uri": "https://localhost:8080/"
        },
        "id": "sTtgulVogzUE",
        "outputId": "b5dbedc9-4ace-4375-ecd0-87347c71460e"
      },
      "execution_count": null,
      "outputs": [
        {
          "output_type": "stream",
          "name": "stdout",
          "text": [
            "Esse cliente é fiel!\n"
          ]
        }
      ]
    },
    {
      "cell_type": "code",
      "source": [
        "name = str(input('Entre com o nome do cliente: '))\n",
        "f = int(input('Entre com a frequência de compra do cliente: '))\n",
        "month = int(input('Entre com a informação de há quantos meses atrás ocorreu a última compra: '))"
      ],
      "metadata": {
        "colab": {
          "base_uri": "https://localhost:8080/"
        },
        "id": "yYCVhEBFhX4O",
        "outputId": "d512520c-ffa4-4c3a-f35e-2a1f9e842e40"
      },
      "execution_count": null,
      "outputs": [
        {
          "name": "stdout",
          "output_type": "stream",
          "text": [
            "Entre com o nome do cliente: Carine\n",
            "Entre com a frequência de compra do cliente: 50\n",
            "Entre com a informação de há quantos meses atrás ocorreu a última compra:  1\n"
          ]
        }
      ]
    },
    {
      "cell_type": "code",
      "source": [
        "if f < 10:\n",
        "  print(\"%s não é uma cliente fiel!\" % name)\n",
        "else:\n",
        "  print('Obrigada pela confiança %s!\\nVocê é uma cliente fiel e faz com que a Madeira Empresas continue no caminho certo!' % name)"
      ],
      "metadata": {
        "colab": {
          "base_uri": "https://localhost:8080/"
        },
        "id": "v9OQNj8AiHpV",
        "outputId": "883811f2-db97-4350-f9c6-e7559df3da58"
      },
      "execution_count": null,
      "outputs": [
        {
          "output_type": "stream",
          "name": "stdout",
          "text": [
            "Obrigada pela confiança Carine!\n",
            "Você é uma cliente fiel e faz com que a Madeira Empresas continue no caminho certo!\n"
          ]
        }
      ]
    },
    {
      "cell_type": "code",
      "source": [
        "if f < 10:\n",
        "  print(\"%s, você fez %d compras no último mês\\nJá pensou em assinar nosso clube de fidelidade?!\" % (name,f))\n",
        "elif f <= 25:\n",
        "  print('%s você é uma cliente fiel!\\nO que falta para se tornar premium?' % name)\n",
        "elif f <= 51:\n",
        "  print('UAU %s!! Você é mais que uma cliente fiel!\\nCom %d compras você é o suprasumo como cliente!' %(name,f))"
      ],
      "metadata": {
        "colab": {
          "base_uri": "https://localhost:8080/"
        },
        "id": "ZDvlRJU1jXQ5",
        "outputId": "3e56c62e-53da-404a-f4c7-36f8b1b78450"
      },
      "execution_count": null,
      "outputs": [
        {
          "output_type": "stream",
          "name": "stdout",
          "text": [
            "UAU Carine!! Você é mais que uma cliente fiel!\n",
            "Com 50 compras você é o suprasumo como cliente!\n"
          ]
        }
      ]
    },
    {
      "cell_type": "markdown",
      "source": [
        "#### 4.Operadores Lógicos"
      ],
      "metadata": {
        "id": "HBbS4dyUeOCn"
      }
    },
    {
      "cell_type": "code",
      "source": [
        "temperature = float(input('Quantos graus está agora? (°C)'))\n",
        "env = str(input('Você está em ambiente aberto? Sim ou não?'))"
      ],
      "metadata": {
        "colab": {
          "base_uri": "https://localhost:8080/"
        },
        "id": "GaA0OPGNlLAg",
        "outputId": "e246b2bc-3fc0-4159-8460-36d349284b3a"
      },
      "execution_count": null,
      "outputs": [
        {
          "name": "stdout",
          "output_type": "stream",
          "text": [
            "Quantos graus está agora? (°C)29\n",
            "Você está em ambiente aberto? Sim ou não?Não\n"
          ]
        }
      ]
    },
    {
      "cell_type": "code",
      "source": [
        "if env.upper() == 'SIM':\n",
        "  env = 1\n",
        "else:\n",
        "  env = 0"
      ],
      "metadata": {
        "id": "jW5qjm5ol3Yu"
      },
      "execution_count": null,
      "outputs": []
    },
    {
      "cell_type": "code",
      "source": [
        "if temperature > 28 and env != 1:\n",
        "  print('Está muito quente!')\n",
        "elif temperature < 10 or env == 1:\n",
        "  print('Está muito frio!')\n",
        "elif temperature > 11 and temperature <= 25:\n",
        "  print('A temperatira está agradável!')\n",
        "else:\n",
        "  print('Você deveria mudar de ambiente!')"
      ],
      "metadata": {
        "colab": {
          "base_uri": "https://localhost:8080/"
        },
        "id": "AwTzDBZ2mVEM",
        "outputId": "5dbebc7a-113d-40d5-e1ec-f00714f8a6bd"
      },
      "execution_count": null,
      "outputs": [
        {
          "output_type": "stream",
          "name": "stdout",
          "text": [
            "Está muito quente!\n"
          ]
        }
      ]
    },
    {
      "cell_type": "markdown",
      "source": [
        "#### 5.Estruturas de Repetição"
      ],
      "metadata": {
        "id": "cRlgxsSGeSvR"
      }
    },
    {
      "cell_type": "markdown",
      "source": [
        "##### 5.1 While"
      ],
      "metadata": {
        "id": "0YZ2H1Yydtgp"
      }
    },
    {
      "cell_type": "code",
      "source": [
        "number = 0\n",
        "while number <= 5:\n",
        "  print(number)\n",
        "  number += 1"
      ],
      "metadata": {
        "colab": {
          "base_uri": "https://localhost:8080/"
        },
        "id": "cglPmiHkdT0Y",
        "outputId": "24ab59a9-8552-4fcf-f23e-8fb53624eac6"
      },
      "execution_count": null,
      "outputs": [
        {
          "output_type": "stream",
          "name": "stdout",
          "text": [
            "0\n",
            "1\n",
            "2\n",
            "3\n",
            "4\n",
            "5\n"
          ]
        }
      ]
    },
    {
      "cell_type": "code",
      "source": [
        "prompt = \"\\nMe diga algo que repitirei:\"\n",
        "prompt += \"\\nEntre com 'pare' para terminar o programa. \"\n",
        "message = ''\n",
        "while message != 'pare':\n",
        "  message = input(prompt)\n",
        "  print(message)"
      ],
      "metadata": {
        "colab": {
          "base_uri": "https://localhost:8080/"
        },
        "id": "EDAAyELqexBb",
        "outputId": "8cd9acdf-ffa6-4e6d-d62e-c7c3a5150501"
      },
      "execution_count": null,
      "outputs": [
        {
          "output_type": "stream",
          "name": "stdout",
          "text": [
            "\n",
            "Me diga algo que repitirei:\n",
            "Entre com 'pare' para terminar o programa. Oi\n",
            "Oi\n",
            "\n",
            "Me diga algo que repitirei:\n",
            "Entre com 'pare' para terminar o programa. Saudades!\n",
            "Saudades!\n",
            "\n",
            "Me diga algo que repitirei:\n",
            "Entre com 'pare' para terminar o programa. Par\n",
            "Par\n",
            "\n",
            "Me diga algo que repitirei:\n",
            "Entre com 'pare' para terminar o programa. Parar\n",
            "Parar\n",
            "\n",
            "Me diga algo que repitirei:\n",
            "Entre com 'pare' para terminar o programa. Parear\n",
            "Parear\n",
            "\n",
            "Me diga algo que repitirei:\n",
            "Entre com 'pare' para terminar o programa. Pare\n",
            "Pare\n",
            "\n",
            "Me diga algo que repitirei:\n",
            "Entre com 'pare' para terminar o programa. pare\n",
            "pare\n"
          ]
        }
      ]
    },
    {
      "cell_type": "code",
      "source": [
        "prompt = \"\\nMe diga algo que repitirei:\"\n",
        "prompt += \"\\nEntre com 'pare' para terminar o programa. \"\n",
        "active = True\n",
        "while active:\n",
        "  message = input(prompt)\n",
        "  if message == 'pare':\n",
        "    active = False\n",
        "  else:\n",
        "    print(message)"
      ],
      "metadata": {
        "colab": {
          "base_uri": "https://localhost:8080/"
        },
        "id": "Vcd6P2wWfSns",
        "outputId": "7fe96281-c743-43ec-fb64-03697f43ff09"
      },
      "execution_count": null,
      "outputs": [
        {
          "name": "stdout",
          "output_type": "stream",
          "text": [
            "\n",
            "Me diga algo que repitirei:\n",
            "Entre com 'pare' para terminar o programa. Oi Ninoca\n",
            "Oi Ninoca\n",
            "\n",
            "Me diga algo que repitirei:\n",
            "Entre com 'pare' para terminar o programa. Say somethibg\n",
            "Say somethibg\n",
            "\n",
            "Me diga algo que repitirei:\n",
            "Entre com 'pare' para terminar o programa. something\n",
            "something\n",
            "\n",
            "Me diga algo que repitirei:\n",
            "Entre com 'pare' para terminar o programa. pare\n"
          ]
        }
      ]
    },
    {
      "cell_type": "code",
      "source": [
        "prompt = \"\\nVamos jogar um jogo?\"\n",
        "prompt += \"\\nAdivinhe a cidade que estou pensando!\\nEu só paro quando você acertar.\""
      ],
      "metadata": {
        "id": "aQqE_asigGz7"
      },
      "execution_count": null,
      "outputs": []
    },
    {
      "cell_type": "code",
      "source": [
        "while True:\n",
        "  city = input(prompt)\n",
        "  city = city.upper()\n",
        "  if city == 'BH':\n",
        "    print('ACERTOU!! É BH!')\n",
        "    break\n",
        "  else:\n",
        "    print(f'ERROU!! A cidade não é {city.title()}!')"
      ],
      "metadata": {
        "colab": {
          "base_uri": "https://localhost:8080/"
        },
        "id": "9lkp57A5fqPT",
        "outputId": "c5f0fd96-3b2e-4d8c-e39e-13b2e8328fed"
      },
      "execution_count": null,
      "outputs": [
        {
          "output_type": "stream",
          "name": "stdout",
          "text": [
            "\n",
            "Vamos jogar um jogo?\n",
            "Adivinhe a cidade que estou pensando!\n",
            "Eu só paro quando você acertar.bh\n",
            "ACERTOU!! É BH!\n"
          ]
        }
      ]
    },
    {
      "cell_type": "code",
      "source": [
        "inteiro = 0\n",
        "while inteiro < 30:\n",
        "  inteiro += 1\n",
        "  if inteiro % 2 == 0:\n",
        "    continue\n",
        "  print(inteiro)"
      ],
      "metadata": {
        "colab": {
          "base_uri": "https://localhost:8080/"
        },
        "id": "YuwsqjIdhJjD",
        "outputId": "4fb97724-bdb9-4d14-940e-2491b0675742"
      },
      "execution_count": null,
      "outputs": [
        {
          "output_type": "stream",
          "name": "stdout",
          "text": [
            "1\n",
            "3\n",
            "5\n",
            "7\n",
            "9\n",
            "11\n",
            "13\n",
            "15\n",
            "17\n",
            "19\n",
            "21\n",
            "23\n",
            "25\n",
            "27\n",
            "29\n"
          ]
        }
      ]
    },
    {
      "cell_type": "code",
      "source": [
        "num = int(input('Qual número você quer encontrar? '))\n",
        "last = 1\n",
        "before_last = 1\n",
        "\n",
        "if num==1 or num==2:\n",
        "  print('1')\n",
        "else:\n",
        "  c = 3\n",
        "  while c <= num:\n",
        "    termo = last + before_last\n",
        "    before_last = last\n",
        "    last = termo\n",
        "    c += 1\n",
        "  print(termo)"
      ],
      "metadata": {
        "colab": {
          "base_uri": "https://localhost:8080/"
        },
        "id": "6t2RBmD7iRmF",
        "outputId": "e25d946b-8261-43fa-e355-747ef54e30d5"
      },
      "execution_count": null,
      "outputs": [
        {
          "output_type": "stream",
          "name": "stdout",
          "text": [
            "Qual número você quer encontrar? 7\n",
            "13\n"
          ]
        }
      ]
    },
    {
      "cell_type": "markdown",
      "source": [
        "##### 5.2 For"
      ],
      "metadata": {
        "id": "3owMQc31jhle"
      }
    },
    {
      "cell_type": "code",
      "source": [
        "product_code = [4082, 1842, 1990, 7592]\n",
        "for x in product_code:\n",
        "  print(x)"
      ],
      "metadata": {
        "colab": {
          "base_uri": "https://localhost:8080/"
        },
        "id": "8gOJkfrmjjbX",
        "outputId": "0c59d995-9907-4ea5-90cb-261d0534465e"
      },
      "execution_count": null,
      "outputs": [
        {
          "output_type": "stream",
          "name": "stdout",
          "text": [
            "4082\n",
            "1842\n",
            "1990\n",
            "7592\n"
          ]
        }
      ]
    },
    {
      "cell_type": "code",
      "source": [
        "for x in 'nina':\n",
        "  print(x)"
      ],
      "metadata": {
        "colab": {
          "base_uri": "https://localhost:8080/"
        },
        "id": "uvGIXCsBjzz0",
        "outputId": "f5e3bbd1-d7ee-4324-905d-49566128f7e6"
      },
      "execution_count": null,
      "outputs": [
        {
          "output_type": "stream",
          "name": "stdout",
          "text": [
            "n\n",
            "i\n",
            "n\n",
            "a\n"
          ]
        }
      ]
    },
    {
      "cell_type": "code",
      "source": [
        "for y in range(7):\n",
        "  print(y)"
      ],
      "metadata": {
        "colab": {
          "base_uri": "https://localhost:8080/"
        },
        "id": "B0u-2jNnj5Cv",
        "outputId": "9b727daa-16f4-493a-b810-1ee1764e2500"
      },
      "execution_count": null,
      "outputs": [
        {
          "output_type": "stream",
          "name": "stdout",
          "text": [
            "0\n",
            "1\n",
            "2\n",
            "3\n",
            "4\n",
            "5\n",
            "6\n"
          ]
        }
      ]
    },
    {
      "cell_type": "code",
      "source": [
        "for n in range(3,6):\n",
        "  print(n)"
      ],
      "metadata": {
        "colab": {
          "base_uri": "https://localhost:8080/"
        },
        "id": "ZYtRWST_j-SA",
        "outputId": "4c437f24-5c23-4678-cd29-7867f8e8ba2f"
      },
      "execution_count": null,
      "outputs": [
        {
          "output_type": "stream",
          "name": "stdout",
          "text": [
            "3\n",
            "4\n",
            "5\n"
          ]
        }
      ]
    },
    {
      "cell_type": "code",
      "source": [
        "for m in range(0,30,3):\n",
        "  print(m)"
      ],
      "metadata": {
        "colab": {
          "base_uri": "https://localhost:8080/"
        },
        "id": "1JWEwFLskCxT",
        "outputId": "a65b747e-f339-462d-fc41-89ddc672c629"
      },
      "execution_count": null,
      "outputs": [
        {
          "output_type": "stream",
          "name": "stdout",
          "text": [
            "0\n",
            "3\n",
            "6\n",
            "9\n",
            "12\n",
            "15\n",
            "18\n",
            "21\n",
            "24\n",
            "27\n"
          ]
        }
      ]
    },
    {
      "cell_type": "markdown",
      "source": [
        "#### 6.Entrada e Saída a partir de arquivos\n"
      ],
      "metadata": {
        "id": "9AcpmU-CkTwo"
      }
    },
    {
      "cell_type": "code",
      "source": [
        "with open('/content/sample_data/Teste.txt', 'w') as f:\n",
        "    f.write('content')\n"
      ],
      "metadata": {
        "id": "4LxC70yiyu4k"
      },
      "execution_count": 10,
      "outputs": []
    },
    {
      "cell_type": "code",
      "source": [
        "file1 = open('Teste.txt', 'a')"
      ],
      "metadata": {
        "id": "uSjlVdY_kTJu"
      },
      "execution_count": 11,
      "outputs": []
    },
    {
      "cell_type": "code",
      "source": [
        "file1"
      ],
      "metadata": {
        "colab": {
          "base_uri": "https://localhost:8080/"
        },
        "id": "lT5rZrcxyzxH",
        "outputId": "0374b9da-b2b5-4192-a4a8-1f812ad0cf56"
      },
      "execution_count": 12,
      "outputs": [
        {
          "output_type": "execute_result",
          "data": {
            "text/plain": [
              "<_io.TextIOWrapper name='Teste.txt' mode='a' encoding='UTF-8'>"
            ]
          },
          "metadata": {},
          "execution_count": 12
        }
      ]
    },
    {
      "cell_type": "code",
      "source": [
        "file1.close()"
      ],
      "metadata": {
        "id": "QeOCNR-Tkj1M"
      },
      "execution_count": 13,
      "outputs": []
    },
    {
      "cell_type": "code",
      "source": [
        "file2 = open(r\"Teste.txt\", \"w+\")"
      ],
      "metadata": {
        "id": "xjTtcy07y7ZN"
      },
      "execution_count": 14,
      "outputs": []
    },
    {
      "cell_type": "code",
      "source": [
        "file2"
      ],
      "metadata": {
        "colab": {
          "base_uri": "https://localhost:8080/"
        },
        "id": "SGVrPcaTzEpO",
        "outputId": "e899b82c-67c4-4f0c-e3cc-35161e30ff88"
      },
      "execution_count": 15,
      "outputs": [
        {
          "output_type": "execute_result",
          "data": {
            "text/plain": [
              "<_io.TextIOWrapper name='Teste.txt' mode='w+' encoding='UTF-8'>"
            ]
          },
          "metadata": {},
          "execution_count": 15
        }
      ]
    },
    {
      "cell_type": "code",
      "source": [
        "file2.close()"
      ],
      "metadata": {
        "id": "d-bsuFgnzHX-"
      },
      "execution_count": 16,
      "outputs": []
    },
    {
      "cell_type": "code",
      "source": [
        "with open('/content/sample_data/caes.txt', 'r') as reader:\n",
        "  print(reader.read())"
      ],
      "metadata": {
        "colab": {
          "base_uri": "https://localhost:8080/"
        },
        "id": "ZSRkBJWy0TkW",
        "outputId": "988affd8-df5c-411d-d12f-53c28102f074"
      },
      "execution_count": 4,
      "outputs": [
        {
          "output_type": "stream",
          "name": "stdout",
          "text": [
            "Pug\n",
            "Jack Russell Terrier\n",
            "English Springer Spaniel\n",
            "German Shepherd\n",
            "Staffordshire Bull Terrier\n",
            "Cavalier Jing Charles Spaniel\n",
            "Golden Retriever\n",
            "West Highland White Terrier\n",
            "Boxer\n",
            "Border Terrier\n"
          ]
        }
      ]
    },
    {
      "cell_type": "code",
      "source": [
        "# nesse programa são lidos 5 bytes (5 caracteres)\n",
        "with open('/content/sample_data/caes.txt', 'r') as reader:\n",
        "  print(reader.readline(5))\n",
        "  print(reader.readline(5))\n",
        "  print(reader.readline(5))\n",
        "  print(reader.readline(5))\n",
        "  print(reader.readline(5))"
      ],
      "metadata": {
        "colab": {
          "base_uri": "https://localhost:8080/"
        },
        "id": "IJFQx7Yc7-6W",
        "outputId": "6360b5b7-8598-4477-84d8-6c814fcbbe4f"
      },
      "execution_count": 17,
      "outputs": [
        {
          "output_type": "stream",
          "name": "stdout",
          "text": [
            "Pug\n",
            "\n",
            "Jack \n",
            "Russe\n",
            "ll Te\n",
            "rrier\n"
          ]
        }
      ]
    },
    {
      "cell_type": "code",
      "source": [
        "f = open('/content/sample_data/caes.txt')\n",
        "minha_lista = f.readlines()\n",
        "print(minha_lista)"
      ],
      "metadata": {
        "colab": {
          "base_uri": "https://localhost:8080/"
        },
        "id": "2gEqkYjp8iVS",
        "outputId": "31a7e6a4-350d-448f-d39f-9a8485654dae"
      },
      "execution_count": 18,
      "outputs": [
        {
          "output_type": "stream",
          "name": "stdout",
          "text": [
            "['Pug\\n', 'Jack Russell Terrier\\n', 'English Springer Spaniel\\n', 'German Shepherd\\n', 'Staffordshire Bull Terrier\\n', 'Cavalier Jing Charles Spaniel\\n', 'Golden Retriever\\n', 'West Highland White Terrier\\n', 'Boxer\\n', 'Border Terrier']\n"
          ]
        }
      ]
    },
    {
      "cell_type": "code",
      "source": [
        "# arquivo lido por completo e impresso linha por linha\n",
        "with open('/content/sample_data/caes.txt', 'r') as file:\n",
        "  line = file.readline()\n",
        "  # enquanto há linhas\n",
        "  while line != '':\n",
        "    print(line, end='')\n",
        "    line = file.readline()"
      ],
      "metadata": {
        "colab": {
          "base_uri": "https://localhost:8080/"
        },
        "id": "_k-jrkE18wMj",
        "outputId": "3f91043c-2e3a-4f3a-8986-9e2fc750f0e9"
      },
      "execution_count": 21,
      "outputs": [
        {
          "output_type": "stream",
          "name": "stdout",
          "text": [
            "Pug\n",
            "Jack Russell Terrier\n",
            "English Springer Spaniel\n",
            "German Shepherd\n",
            "Staffordshire Bull Terrier\n",
            "Cavalier Jing Charles Spaniel\n",
            "Golden Retriever\n",
            "West Highland White Terrier\n",
            "Boxer\n",
            "Border Terrier"
          ]
        }
      ]
    },
    {
      "cell_type": "code",
      "source": [
        "# usando agora a função readlines\n",
        "with open('/content/sample_data/caes.txt', 'r') as arq:\n",
        "  for l in arq.readlines():\n",
        "    print(l, end='')"
      ],
      "metadata": {
        "colab": {
          "base_uri": "https://localhost:8080/"
        },
        "id": "h-FzcSGk9g8u",
        "outputId": "ee873f1a-7720-4590-e669-029cbae8a177"
      },
      "execution_count": 23,
      "outputs": [
        {
          "output_type": "stream",
          "name": "stdout",
          "text": [
            "Pug\n",
            "Jack Russell Terrier\n",
            "English Springer Spaniel\n",
            "German Shepherd\n",
            "Staffordshire Bull Terrier\n",
            "Cavalier Jing Charles Spaniel\n",
            "Golden Retriever\n",
            "West Highland White Terrier\n",
            "Boxer\n",
            "Border Terrier"
          ]
        }
      ]
    },
    {
      "cell_type": "code",
      "source": [
        "# exemplo para ler em um arquivo\n",
        "with open('/content/sample_data/caes.txt', 'r') as arq:\n",
        "  dogs = arq.readlines()"
      ],
      "metadata": {
        "id": "LmowqTwK-Ial"
      },
      "execution_count": 24,
      "outputs": []
    },
    {
      "cell_type": "code",
      "source": [
        "dogs"
      ],
      "metadata": {
        "colab": {
          "base_uri": "https://localhost:8080/"
        },
        "id": "HkLJxlkC-bgU",
        "outputId": "6a1de27d-1353-405a-de98-19407e6d4b9b"
      },
      "execution_count": 25,
      "outputs": [
        {
          "output_type": "execute_result",
          "data": {
            "text/plain": [
              "['Pug\\n',\n",
              " 'Jack Russell Terrier\\n',\n",
              " 'English Springer Spaniel\\n',\n",
              " 'German Shepherd\\n',\n",
              " 'Staffordshire Bull Terrier\\n',\n",
              " 'Cavalier Jing Charles Spaniel\\n',\n",
              " 'Golden Retriever\\n',\n",
              " 'West Highland White Terrier\\n',\n",
              " 'Boxer\\n',\n",
              " 'Border Terrier']"
            ]
          },
          "metadata": {},
          "execution_count": 25
        }
      ]
    },
    {
      "cell_type": "code",
      "source": [
        "with open('/content/sample_data/caes_reverce.json', 'w') as arq:\n",
        "  arq.writelines(reversed(dogs))"
      ],
      "metadata": {
        "id": "0JDpCo6K-h1m"
      },
      "execution_count": 31,
      "outputs": []
    },
    {
      "cell_type": "code",
      "source": [
        "with open('/content/sample_data/caes_reverce.json', 'r') as arq:\n",
        "  dogs_re = arq.readlines()"
      ],
      "metadata": {
        "id": "ticjgigw-w99"
      },
      "execution_count": 32,
      "outputs": []
    },
    {
      "cell_type": "code",
      "source": [
        "dogs_re"
      ],
      "metadata": {
        "colab": {
          "base_uri": "https://localhost:8080/"
        },
        "id": "QQewhc7z-8CY",
        "outputId": "f87ad9c7-616a-434a-fdd7-95d802ffd0be"
      },
      "execution_count": 33,
      "outputs": [
        {
          "output_type": "execute_result",
          "data": {
            "text/plain": [
              "['Border TerrierBoxer\\n',\n",
              " 'West Highland White Terrier\\n',\n",
              " 'Golden Retriever\\n',\n",
              " 'Cavalier Jing Charles Spaniel\\n',\n",
              " 'Staffordshire Bull Terrier\\n',\n",
              " 'German Shepherd\\n',\n",
              " 'English Springer Spaniel\\n',\n",
              " 'Jack Russell Terrier\\n',\n",
              " 'Pug\\n']"
            ]
          },
          "metadata": {},
          "execution_count": 33
        }
      ]
    },
    {
      "cell_type": "code",
      "source": [
        "with open('/content/sample_data/caes_reverce2.txt', 'w') as arq:\n",
        "  # percorre elementos da lista dogs\n",
        "  for breed in reversed(dogs):\n",
        "    arq.write(breed)"
      ],
      "metadata": {
        "id": "pvtTgDiv_Vjv"
      },
      "execution_count": 34,
      "outputs": []
    },
    {
      "cell_type": "code",
      "source": [
        "with open('/content/sample_data/caes_reverce2.json', 'r') as arq:\n",
        "  dogs_re2 = arq.readlines()"
      ],
      "metadata": {
        "colab": {
          "base_uri": "https://localhost:8080/",
          "height": 190
        },
        "id": "d_y3L5LT_QA7",
        "outputId": "a8e56ae7-d2ab-4148-bf51-48658669d9f6"
      },
      "execution_count": 35,
      "outputs": [
        {
          "output_type": "error",
          "ename": "FileNotFoundError",
          "evalue": "ignored",
          "traceback": [
            "\u001b[0;31m---------------------------------------------------------------------------\u001b[0m",
            "\u001b[0;31mFileNotFoundError\u001b[0m                         Traceback (most recent call last)",
            "\u001b[0;32m<ipython-input-35-8494452730c3>\u001b[0m in \u001b[0;36m<cell line: 1>\u001b[0;34m()\u001b[0m\n\u001b[0;32m----> 1\u001b[0;31m \u001b[0;32mwith\u001b[0m \u001b[0mopen\u001b[0m\u001b[0;34m(\u001b[0m\u001b[0;34m'/content/sample_data/caes_reverce2.json'\u001b[0m\u001b[0;34m,\u001b[0m \u001b[0;34m'r'\u001b[0m\u001b[0;34m)\u001b[0m \u001b[0;32mas\u001b[0m \u001b[0marq\u001b[0m\u001b[0;34m:\u001b[0m\u001b[0;34m\u001b[0m\u001b[0;34m\u001b[0m\u001b[0m\n\u001b[0m\u001b[1;32m      2\u001b[0m   \u001b[0mdogs_re2\u001b[0m \u001b[0;34m=\u001b[0m \u001b[0marq\u001b[0m\u001b[0;34m.\u001b[0m\u001b[0mreadlines\u001b[0m\u001b[0;34m(\u001b[0m\u001b[0;34m)\u001b[0m\u001b[0;34m\u001b[0m\u001b[0;34m\u001b[0m\u001b[0m\n",
            "\u001b[0;31mFileNotFoundError\u001b[0m: [Errno 2] No such file or directory: '/content/sample_data/caes_reverce2.json'"
          ]
        }
      ]
    },
    {
      "cell_type": "code",
      "source": [
        "with open('/content/sample_data/caes_reverce2.txt', 'r') as arq:\n",
        "  dogs_re2 = arq.readlines()"
      ],
      "metadata": {
        "id": "_QeYlgsGAfWq"
      },
      "execution_count": 36,
      "outputs": []
    },
    {
      "cell_type": "code",
      "source": [
        "dogs_re2"
      ],
      "metadata": {
        "colab": {
          "base_uri": "https://localhost:8080/"
        },
        "id": "tvVVN8XGAik6",
        "outputId": "d09f09be-5298-456d-d3d7-9b6c80e503b0"
      },
      "execution_count": 37,
      "outputs": [
        {
          "output_type": "execute_result",
          "data": {
            "text/plain": [
              "['Border TerrierBoxer\\n',\n",
              " 'West Highland White Terrier\\n',\n",
              " 'Golden Retriever\\n',\n",
              " 'Cavalier Jing Charles Spaniel\\n',\n",
              " 'Staffordshire Bull Terrier\\n',\n",
              " 'German Shepherd\\n',\n",
              " 'English Springer Spaniel\\n',\n",
              " 'Jack Russell Terrier\\n',\n",
              " 'Pug\\n']"
            ]
          },
          "metadata": {},
          "execution_count": 37
        }
      ]
    }
  ]
}