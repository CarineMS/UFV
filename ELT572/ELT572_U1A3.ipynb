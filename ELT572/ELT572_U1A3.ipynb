{
  "nbformat": 4,
  "nbformat_minor": 0,
  "metadata": {
    "colab": {
      "provenance": [],
      "authorship_tag": "ABX9TyOb+bN1+6RswdWiYgdqze/S",
      "include_colab_link": true
    },
    "kernelspec": {
      "name": "python3",
      "display_name": "Python 3"
    },
    "language_info": {
      "name": "python"
    }
  },
  "cells": [
    {
      "cell_type": "markdown",
      "metadata": {
        "id": "view-in-github",
        "colab_type": "text"
      },
      "source": [
        "<a href=\"https://colab.research.google.com/github/CarineMS/UFV/blob/main/ELT572_U1A3.ipynb\" target=\"_parent\"><img src=\"https://colab.research.google.com/assets/colab-badge.svg\" alt=\"Open In Colab\"/></a>"
      ]
    },
    {
      "cell_type": "markdown",
      "source": [
        "## Caderno de Exercícios Python\n",
        "\n",
        "\n",
        "#### Capítulo 03 - Arranjos\n",
        "#### Disciplina: Linguagens de Programação para Inteligência Artificial\n",
        "\n",
        "**Aluna:** Carine Madeira Soares  \n",
        "**Instituição:** Universidade Federal de Viçosa\n"
      ],
      "metadata": {
        "id": "BQJ_z6nLC9JS"
      }
    },
    {
      "cell_type": "code",
      "execution_count": 7,
      "metadata": {
        "id": "Y1s3QdI2crJa"
      },
      "outputs": [],
      "source": [
        "import pandas as pd\n",
        "import numpy as np\n",
        "\n",
        "# https://numpy.org/doc/stable/index.html"
      ]
    },
    {
      "cell_type": "markdown",
      "source": [
        "### 3.1 Vetores"
      ],
      "metadata": {
        "id": "GZiaE3yaKmvh"
      }
    },
    {
      "cell_type": "code",
      "source": [
        "notas = np.empty(5) # pode ter lixo na memória\n",
        "notas"
      ],
      "metadata": {
        "colab": {
          "base_uri": "https://localhost:8080/"
        },
        "id": "DtZrwOBEH5hD",
        "outputId": "1ca7e684-608b-4fbc-8319-fe63b433e91d"
      },
      "execution_count": null,
      "outputs": [
        {
          "output_type": "execute_result",
          "data": {
            "text/plain": [
              "array([0.  , 0.25, 0.5 , 0.75, 1.  ])"
            ]
          },
          "metadata": {},
          "execution_count": 5
        }
      ]
    },
    {
      "cell_type": "code",
      "source": [
        "print('notas = ', notas)"
      ],
      "metadata": {
        "colab": {
          "base_uri": "https://localhost:8080/"
        },
        "id": "JfQmDA2qIHLs",
        "outputId": "f91a7709-3a47-4d27-e92f-8f672675858d"
      },
      "execution_count": null,
      "outputs": [
        {
          "output_type": "stream",
          "name": "stdout",
          "text": [
            "notas =  [0.   0.25 0.5  0.75 1.  ]\n"
          ]
        }
      ]
    },
    {
      "cell_type": "code",
      "source": [
        "notas2 = np.zeros(5)\n",
        "notas2"
      ],
      "metadata": {
        "colab": {
          "base_uri": "https://localhost:8080/"
        },
        "id": "3jQ5hqa-IOnR",
        "outputId": "4b75b0c0-65d3-40f0-ed78-331f5460a7df"
      },
      "execution_count": null,
      "outputs": [
        {
          "output_type": "execute_result",
          "data": {
            "text/plain": [
              "array([0., 0., 0., 0., 0.])"
            ]
          },
          "metadata": {},
          "execution_count": 6
        }
      ]
    },
    {
      "cell_type": "code",
      "source": [
        "print('notas 2 = ', notas2)"
      ],
      "metadata": {
        "colab": {
          "base_uri": "https://localhost:8080/"
        },
        "id": "uK36pe6aIdr7",
        "outputId": "b9bd99b5-a236-4a64-a72f-7e08483ee1b3"
      },
      "execution_count": null,
      "outputs": [
        {
          "output_type": "stream",
          "name": "stdout",
          "text": [
            "notas 2 =  [0. 0. 0. 0. 0.]\n"
          ]
        }
      ]
    },
    {
      "cell_type": "code",
      "source": [
        "idades = np.zeros(5, dtype=int)\n",
        "idades"
      ],
      "metadata": {
        "colab": {
          "base_uri": "https://localhost:8080/"
        },
        "id": "UISrM3VOIkMH",
        "outputId": "fca1e825-ae5f-4c85-a1b9-264b91b49423"
      },
      "execution_count": null,
      "outputs": [
        {
          "output_type": "execute_result",
          "data": {
            "text/plain": [
              "array([0, 0, 0, 0, 0])"
            ]
          },
          "metadata": {},
          "execution_count": 8
        }
      ]
    },
    {
      "cell_type": "code",
      "source": [
        "print('idades =', idades)"
      ],
      "metadata": {
        "colab": {
          "base_uri": "https://localhost:8080/"
        },
        "id": "eprGaSCUItCv",
        "outputId": "f58c2930-0608-4756-d70c-364dcbfbd005"
      },
      "execution_count": null,
      "outputs": [
        {
          "output_type": "stream",
          "name": "stdout",
          "text": [
            "idades = [0 0 0 0 0]\n"
          ]
        }
      ]
    },
    {
      "cell_type": "code",
      "source": [
        "contador = np.array([10,8,6,4,2,0])\n",
        "print('Contador =', contador)"
      ],
      "metadata": {
        "colab": {
          "base_uri": "https://localhost:8080/"
        },
        "id": "_wNQV2kSIyl1",
        "outputId": "19b1af50-8fea-4061-e15c-521dc35b1fd6"
      },
      "execution_count": null,
      "outputs": [
        {
          "output_type": "stream",
          "name": "stdout",
          "text": [
            "Contador = [10  8  6  4  2  0]\n"
          ]
        }
      ]
    },
    {
      "cell_type": "code",
      "source": [
        "n = int(input('Informe o tamanho do vetor: '))\n",
        "A = np.empty(n)"
      ],
      "metadata": {
        "colab": {
          "base_uri": "https://localhost:8080/"
        },
        "id": "gTdFw_YEJMVk",
        "outputId": "b3dd820f-aba1-4f79-f111-3cf923ac4e0d"
      },
      "execution_count": null,
      "outputs": [
        {
          "name": "stdout",
          "output_type": "stream",
          "text": [
            "Informe o tamanho do vetor: 5\n"
          ]
        }
      ]
    },
    {
      "cell_type": "code",
      "source": [
        "for i in range(0, n):\n",
        "  A[i] = float(input('Informe o %dº elemento: ' % (i+1)))"
      ],
      "metadata": {
        "colab": {
          "base_uri": "https://localhost:8080/"
        },
        "id": "LiwN4dBeKC95",
        "outputId": "5ca54351-8110-4701-fd5f-1d3346c08eda"
      },
      "execution_count": null,
      "outputs": [
        {
          "name": "stdout",
          "output_type": "stream",
          "text": [
            "Informe o 1º elemento: 1\n",
            "Informe o 2º elemento: 3\n",
            "Informe o 3º elemento: 5\n",
            "Informe o 4º elemento: 7\n",
            "Informe o 5º elemento: 9\n"
          ]
        }
      ]
    },
    {
      "cell_type": "code",
      "source": [
        "for i in range(0, n):\n",
        "  A[i] = A[i] * 3"
      ],
      "metadata": {
        "id": "id7RUdBzKYQJ"
      },
      "execution_count": null,
      "outputs": []
    },
    {
      "cell_type": "code",
      "source": [
        "print('Imprimindo o vetor na tela...')\n",
        "for i in range(0, i):\n",
        "  print('%5.2f' % A[i], end=';')\n",
        "print"
      ],
      "metadata": {
        "colab": {
          "base_uri": "https://localhost:8080/"
        },
        "id": "_-kZ7XtyLEU2",
        "outputId": "d9d8f84e-cbb5-4866-c367-afe40e5e68d8"
      },
      "execution_count": null,
      "outputs": [
        {
          "output_type": "stream",
          "name": "stdout",
          "text": [
            "Imprimindo o vetor na tela...\n",
            " 3.00; 9.00;15.00;21.00;"
          ]
        },
        {
          "output_type": "execute_result",
          "data": {
            "text/plain": [
              "<function print>"
            ]
          },
          "metadata": {},
          "execution_count": 14
        }
      ]
    },
    {
      "cell_type": "markdown",
      "source": [
        "Tentanto replicar o exercício de vetor para a construção de uma matriz"
      ],
      "metadata": {
        "id": "mstiEZ6dGnqW"
      }
    },
    {
      "cell_type": "code",
      "source": [
        "m_quad = input('Você quer uma matriz quadrada? Sim ou Não? ')\n",
        "\n",
        "l = int(input('Insira o número de linhas: '))\n",
        "if m_quad == 'Não':\n",
        "  c = int(input('Insira também o número de colunas: '))\n",
        "else:\n",
        "  c = l"
      ],
      "metadata": {
        "colab": {
          "base_uri": "https://localhost:8080/"
        },
        "id": "LiJX0z18Gu3u",
        "outputId": "a5b3c755-d7af-461c-9b86-f4a7e9fc320e"
      },
      "execution_count": 49,
      "outputs": [
        {
          "name": "stdout",
          "output_type": "stream",
          "text": [
            "Você quer uma matriz quadrada? Sim ou Não? Sim\n",
            "Insira o número de linhas: 2\n"
          ]
        }
      ]
    },
    {
      "cell_type": "code",
      "source": [
        "A = np.empty([l, c])\n",
        "print('Sua matriz é:', A.shape)"
      ],
      "metadata": {
        "colab": {
          "base_uri": "https://localhost:8080/"
        },
        "id": "437znH3sH9lZ",
        "outputId": "1e0684c7-3a6b-4033-897b-5aaf2bebaa60"
      },
      "execution_count": 50,
      "outputs": [
        {
          "output_type": "stream",
          "name": "stdout",
          "text": [
            "Sua matriz é: (2, 2)\n"
          ]
        }
      ]
    },
    {
      "cell_type": "code",
      "source": [
        "for i in range(0, l):\n",
        "  for j in range(0, c):\n",
        "    z = 'Informe o valor A[%d][%d] ' % (i, j)\n",
        "    A[i][j] = float(input(z))"
      ],
      "metadata": {
        "colab": {
          "base_uri": "https://localhost:8080/"
        },
        "id": "2AqpipVvExML",
        "outputId": "5c0881f0-eb74-4436-e2f8-12b715ce7abf"
      },
      "execution_count": 51,
      "outputs": [
        {
          "name": "stdout",
          "output_type": "stream",
          "text": [
            "Informe o valor A[0][0] 1\n",
            "Informe o valor A[0][1] 10\n",
            "Informe o valor A[1][0] 20\n",
            "Informe o valor A[1][1] 2\n"
          ]
        }
      ]
    },
    {
      "cell_type": "code",
      "source": [
        "print('Imprimindo o vetor na tela...')\n",
        "for j in range(0, l):\n",
        "  for i in range(0, c):\n",
        "    print('%5.3f' % A[j][i], end='  ')\n",
        "  print()"
      ],
      "metadata": {
        "colab": {
          "base_uri": "https://localhost:8080/"
        },
        "id": "13k6VQa1GFiL",
        "outputId": "a36b222d-aff3-4b84-ac14-1f2e485b117c"
      },
      "execution_count": 56,
      "outputs": [
        {
          "output_type": "stream",
          "name": "stdout",
          "text": [
            "Imprimindo o vetor na tela...\n",
            "1.000  10.000  \n",
            "20.000  2.000  \n"
          ]
        }
      ]
    },
    {
      "cell_type": "markdown",
      "source": [
        "### 3.2 Strings\n",
        "Podemos trata-los como vetores de caracteres "
      ],
      "metadata": {
        "id": "oLB7ZQ9EKsPU"
      }
    },
    {
      "cell_type": "code",
      "source": [
        "ax = \"PLEASE: say, Hello World!\"\n",
        "print('Caracter de índice 1...')\n",
        "print(ax[1])\n",
        "print()"
      ],
      "metadata": {
        "colab": {
          "base_uri": "https://localhost:8080/"
        },
        "id": "GLHY-hmYK5jg",
        "outputId": "6322301b-109d-44cf-c8aa-f1fd085c0202"
      },
      "execution_count": 36,
      "outputs": [
        {
          "output_type": "stream",
          "name": "stdout",
          "text": [
            "Caracter de índice 1...\n",
            "L\n",
            "\n"
          ]
        }
      ]
    },
    {
      "cell_type": "code",
      "source": [
        "print('Imprime string...')\n",
        "for x in ax:\n",
        "  print(x, end='')\n",
        "print('\\n')"
      ],
      "metadata": {
        "colab": {
          "base_uri": "https://localhost:8080/"
        },
        "id": "2De7NCHBLPyU",
        "outputId": "af18340a-8ee3-4740-a47b-4ac7e6668d60"
      },
      "execution_count": 37,
      "outputs": [
        {
          "output_type": "stream",
          "name": "stdout",
          "text": [
            "Imprime string...\n",
            "PLEASE: say, Hello World!\n",
            "\n"
          ]
        }
      ]
    },
    {
      "cell_type": "code",
      "source": [
        "print('Imprime string...')\n",
        "for i in range(0, len(ax), 2):\n",
        "  print(ax[i], end='')"
      ],
      "metadata": {
        "colab": {
          "base_uri": "https://localhost:8080/"
        },
        "id": "RFrB5qigL6MD",
        "outputId": "359115cb-c827-4aaa-e4b1-137cf73842a1"
      },
      "execution_count": 38,
      "outputs": [
        {
          "output_type": "stream",
          "name": "stdout",
          "text": [
            "Imprime string...\n",
            "PES:sy el ol!"
          ]
        }
      ]
    },
    {
      "cell_type": "markdown",
      "source": [
        "### 3.3 Matrizes\n",
        "São arranjos de duas dimensões, lembrando que os índices de colunas e linhas começam no 0"
      ],
      "metadata": {
        "id": "rGSYUih2M2s_"
      }
    },
    {
      "cell_type": "code",
      "source": [
        "nl = int(input('Número de linhas: '))\n",
        "nc = int(input('Número de colunas: '))"
      ],
      "metadata": {
        "colab": {
          "base_uri": "https://localhost:8080/"
        },
        "id": "fv5SnlCqNMib",
        "outputId": "d6e364fb-bb3b-4f40-e5b9-11562a71f6d7"
      },
      "execution_count": 40,
      "outputs": [
        {
          "name": "stdout",
          "output_type": "stream",
          "text": [
            "Número de linhas: 2\n",
            "Número de colunas: 2\n"
          ]
        }
      ]
    },
    {
      "cell_type": "code",
      "source": [
        "A = np.empty((nl, nc))"
      ],
      "metadata": {
        "id": "fAfptcwvNl2Q"
      },
      "execution_count": 41,
      "outputs": []
    },
    {
      "cell_type": "code",
      "source": [
        "for i in range(0, nl): # linhas vão de 0 a nl-1\n",
        "  for j in range(0, nc):\n",
        "    s = 'Informe o elemento A[%d][%d]: ' % (i, j)\n",
        "    A[i][j] = float(input(s))"
      ],
      "metadata": {
        "colab": {
          "base_uri": "https://localhost:8080/"
        },
        "id": "ay-hLuwyNqH4",
        "outputId": "b6bdebdf-1670-447b-d652-e9464f92afaa"
      },
      "execution_count": 42,
      "outputs": [
        {
          "name": "stdout",
          "output_type": "stream",
          "text": [
            "Informe o elemento A[0][0]: -23\n",
            "Informe o elemento A[0][1]: 5453\n",
            "Informe o elemento A[1][0]: 1\n",
            "Informe o elemento A[1][1]: -0.5847\n"
          ]
        }
      ]
    },
    {
      "cell_type": "code",
      "source": [
        "print('Imprime a matriz... \\n')\n",
        "for i in range(0, nl):\n",
        "  for j in range(0, nc):\n",
        "    print('%5.1f' % (A[i][j]), end='')\n",
        "  print() # imprime quebra de linha\n"
      ],
      "metadata": {
        "colab": {
          "base_uri": "https://localhost:8080/"
        },
        "id": "8UmikzLEOJnV",
        "outputId": "2289be3c-2ca7-4500-bb8a-43d7b9b549e9"
      },
      "execution_count": 43,
      "outputs": [
        {
          "output_type": "stream",
          "name": "stdout",
          "text": [
            "Imprime a matriz... \n",
            "\n",
            "-23.05453.0\n",
            "  1.0 -0.6\n"
          ]
        }
      ]
    }
  ]
}