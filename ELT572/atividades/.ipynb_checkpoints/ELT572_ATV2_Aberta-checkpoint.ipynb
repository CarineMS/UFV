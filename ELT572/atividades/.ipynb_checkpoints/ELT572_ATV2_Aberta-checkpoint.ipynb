{
 "cells": [
  {
   "cell_type": "markdown",
   "metadata": {},
   "source": [
    "## Python\n",
    "### Questões abertas para Python Parte II\n",
    "\n",
    "**Aluna:** Carine Madeira Soares  \n",
    "**Instituição:** Universidade Federal de Viçosa"
   ]
  },
  {
   "cell_type": "code",
   "execution_count": 1,
   "metadata": {},
   "outputs": [],
   "source": [
    "import pandas as pd\n",
    "import numpy as np\n",
    "from funcoes_ATV2 import Aluno, SomaMatriz"
   ]
  },
  {
   "cell_type": "markdown",
   "metadata": {},
   "source": [
    "#### Questão 01)"
   ]
  },
  {
   "cell_type": "markdown",
   "metadata": {},
   "source": [
    "Utilizando vetores e comando de repetição, crie um código que receba as notas de 5 atividades, que será informada pelo usuário. Em seguida, faça a média das notas e imprima na tela a média com a mensagem 'aluno aprovado!' caso a média seria igual ou superior a 60.0 **OU** 'aluno reprovado!' caso a média seja menor que 60.0."
   ]
  },
  {
   "cell_type": "code",
   "execution_count": null,
   "metadata": {},
   "outputs": [],
   "source": [
    "numero_avaliacoes, notas_obtidas = Aluno.parametros_notas()"
   ]
  },
  {
   "cell_type": "code",
   "execution_count": null,
   "metadata": {},
   "outputs": [],
   "source": [
    "Notas_Teste = Aluno.valores_notas(notas_obtidas, numero_avaliacoes)"
   ]
  },
  {
   "cell_type": "code",
   "execution_count": null,
   "metadata": {},
   "outputs": [],
   "source": [
    "med = Aluno.calculo_media(Notas_Teste, numero_avaliacoes)"
   ]
  },
  {
   "cell_type": "markdown",
   "metadata": {},
   "source": [
    "#### Questão 02)"
   ]
  },
  {
   "cell_type": "markdown",
   "metadata": {},
   "source": [
    "Crie um programa de repetição que receba uma matriz de tamanho 5x5 e imprima a soma de cada linha."
   ]
  },
  {
   "cell_type": "code",
   "execution_count": 2,
   "metadata": {},
   "outputs": [],
   "source": [
    "s, m = SomaMatriz.inicializa_matriz()"
   ]
  },
  {
   "cell_type": "code",
   "execution_count": 3,
   "metadata": {},
   "outputs": [],
   "source": [
    "m = SomaMatriz.recebe_valores(s, m)"
   ]
  },
  {
   "cell_type": "code",
   "execution_count": 4,
   "metadata": {},
   "outputs": [
    {
     "name": "stdout",
     "output_type": "stream",
     "text": [
      "[[25. 25.]\n",
      " [ 7.  7.]]\n"
     ]
    }
   ],
   "source": [
    "SomaMatriz.retorna_matriz(m)"
   ]
  },
  {
   "cell_type": "code",
   "execution_count": 5,
   "metadata": {},
   "outputs": [
    {
     "name": "stdout",
     "output_type": "stream",
     "text": [
      "[[50.]\n",
      " [14.]]\n"
     ]
    }
   ],
   "source": [
    "SomaMatriz.soma_linhas(s, m)"
   ]
  },
  {
   "cell_type": "markdown",
   "metadata": {},
   "source": [
    "#### Questão 03)"
   ]
  },
  {
   "cell_type": "markdown",
   "metadata": {},
   "source": [
    "Crie uma função que receba dois inteiros 'ent1' e 'ent2' e retorne um print específico para cada cenário caso a atenda a condição descrita. Segue os cenários:\n",
    "\n",
    "* 'ent1' - 'ent2' é negativo!\\\n",
    "**condição:** Caso ent1 menos ent2 seja menor que zero;\n",
    "\n",
    "* 'ent1' * 'ent2' é negativo!\\\n",
    "**condição:** Caso o produto de ent1  e ent2 seja menor que zero;\n",
    "\n",
    "* 'ent1' + 'ent2' é negativo!\\\n",
    "**condição:** Caso a soma de ent1 e ent2 seja menor que zero;"
   ]
  },
  {
   "cell_type": "code",
   "execution_count": 10,
   "metadata": {},
   "outputs": [],
   "source": [
    "def choose_cenario(ent1, ent2):\n",
    "    # ent1 = int(input('Entre com o primeiro valor inteiro :'))\n",
    "    # ent2 = int(input('Entre com o segundo valor inteiro: '))\n",
    "\n",
    "    if ent1-ent2 < 0:\n",
    "        print('ent1 - ent2 é negativo!')\n",
    "    elif ent1*ent2 < 0:\n",
    "        print('ent1*ent2 é negativo!')\n",
    "    elif ent1+ent2 < 0:\n",
    "        print('ent1+ent2 é negativo!')\n",
    "    else:\n",
    "        print('Nenhum dos cenários foram obtidos')"
   ]
  },
  {
   "cell_type": "code",
   "execution_count": 11,
   "metadata": {},
   "outputs": [
    {
     "name": "stdout",
     "output_type": "stream",
     "text": [
      "Nenhum dos cenários foram obtidos\n"
     ]
    }
   ],
   "source": [
    "choose_cenario(2, 2)"
   ]
  },
  {
   "cell_type": "code",
   "execution_count": 12,
   "metadata": {},
   "outputs": [
    {
     "name": "stdout",
     "output_type": "stream",
     "text": [
      "ent1*ent2 é negativo!\n"
     ]
    }
   ],
   "source": [
    "choose_cenario(2, -1)"
   ]
  },
  {
   "cell_type": "code",
   "execution_count": 13,
   "metadata": {},
   "outputs": [
    {
     "name": "stdout",
     "output_type": "stream",
     "text": [
      "ent1 - ent2 é negativo!\n"
     ]
    }
   ],
   "source": [
    "choose_cenario(-5, 2)"
   ]
  },
  {
   "cell_type": "code",
   "execution_count": 16,
   "metadata": {},
   "outputs": [
    {
     "name": "stdout",
     "output_type": "stream",
     "text": [
      "ent1 - ent2 é negativo!\n"
     ]
    }
   ],
   "source": [
    "choose_cenario(-10, -3)"
   ]
  },
  {
   "cell_type": "code",
   "execution_count": 15,
   "metadata": {},
   "outputs": [
    {
     "name": "stdout",
     "output_type": "stream",
     "text": [
      "ent1+ent2 é negativo!\n"
     ]
    }
   ],
   "source": [
    "choose_cenario(-3, -10)"
   ]
  },
  {
   "cell_type": "markdown",
   "metadata": {},
   "source": [
    "#### Questão 04)"
   ]
  },
  {
   "cell_type": "markdown",
   "metadata": {},
   "source": [
    "Crie uma função que receba um caractere, uma string e o tamanho da string, essa função deve substituir os caracteres pares da string pelo caractere informado como parâmetro da função e retornar a nova string gerada."
   ]
  },
  {
   "cell_type": "code",
   "execution_count": 65,
   "metadata": {},
   "outputs": [],
   "source": [
    "# def inicializa_sentenca():\n",
    "#         '''\n",
    "#         Função que recebe os valores de formato da matriz\n",
    "#         '''\n",
    "#         caracter = str(input('Entre com o caracter que você deseja inserir e substituir nos caracteres pares da string'))\n",
    "#         sentenca = str(input('Entre com uma string: '))\n",
    "#         tam = len(sentenca)\n",
    "#         return caracter, sentenca, tam"
   ]
  },
  {
   "cell_type": "code",
   "execution_count": 62,
   "metadata": {},
   "outputs": [],
   "source": [
    "def substitui_caracter(caracter, sentenca, tam):\n",
    "    n_sent = ''\n",
    "    for i in range(0, tam, 1):\n",
    "        if i % 2 == 0:\n",
    "            n_sent += caracter\n",
    "        else:\n",
    "            n_sent += sentenca[i]\n",
    "    return n_sent"
   ]
  },
  {
   "cell_type": "code",
   "execution_count": 59,
   "metadata": {},
   "outputs": [],
   "source": [
    "caracter = '*'\n",
    "frase = 'Estou cursando a pos graduação em inteligencia artificial e computacional na universidade federal de viçosa'\n",
    "tamanho = len(frase)"
   ]
  },
  {
   "cell_type": "code",
   "execution_count": 63,
   "metadata": {},
   "outputs": [],
   "source": [
    "nova_frase = substitui_caracter(caracter, frase, tamanho)"
   ]
  },
  {
   "cell_type": "code",
   "execution_count": 64,
   "metadata": {},
   "outputs": [
    {
     "name": "stdout",
     "output_type": "stream",
     "text": [
      "*s*o* *u*s*n*o*a*p*s*g*a*u*ç*o*e* *n*e*i*e*c*a*a*t*f*c*a* * *o*p*t*c*o*a* *a*u*i*e*s*d*d* *e*e*a* *e*v*ç*s*\n"
     ]
    }
   ],
   "source": [
    "print(nova_frase)"
   ]
  }
 ],
 "metadata": {
  "kernelspec": {
   "display_name": "Python 3 (ipykernel)",
   "language": "python",
   "name": "python3"
  },
  "language_info": {
   "codemirror_mode": {
    "name": "ipython",
    "version": 3
   },
   "file_extension": ".py",
   "mimetype": "text/x-python",
   "name": "python",
   "nbconvert_exporter": "python",
   "pygments_lexer": "ipython3",
   "version": "3.8.16"
  }
 },
 "nbformat": 4,
 "nbformat_minor": 2
}
