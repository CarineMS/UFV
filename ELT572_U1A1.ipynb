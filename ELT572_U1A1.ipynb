{
  "nbformat": 4,
  "nbformat_minor": 0,
  "metadata": {
    "colab": {
      "provenance": [],
      "collapsed_sections": [
        "LscraurMc2SP",
        "vV2Q-fOwgFS4",
        "EKJS72WtgSJH",
        "gnoiSYyggWwK",
        "Jm7jkABbhpFY",
        "YYES5AQXjCN3",
        "xJA8tL9rjZDx",
        "CZ4c1eqzlG-i",
        "8kf2mbo4mS-y",
        "iKOxagNusLyP"
      ],
      "authorship_tag": "ABX9TyN6NCJsULbwdIyHpCBXVsIf",
      "include_colab_link": true
    },
    "kernelspec": {
      "name": "python3",
      "display_name": "Python 3"
    },
    "language_info": {
      "name": "python"
    }
  },
  "cells": [
    {
      "cell_type": "markdown",
      "metadata": {
        "id": "view-in-github",
        "colab_type": "text"
      },
      "source": [
        "<a href=\"https://colab.research.google.com/github/CarineMS/UFV/blob/main/ELT572_U1A1.ipynb\" target=\"_parent\"><img src=\"https://colab.research.google.com/assets/colab-badge.svg\" alt=\"Open In Colab\"/></a>"
      ]
    },
    {
      "cell_type": "markdown",
      "source": [
        "## Caderno de Exercícios Python\n",
        "\n",
        "\n",
        "#### Capítulo 01 - Elementos básicos da linguagem Python\n",
        "#### Disciplina: Linguagens de Programação para Inteligência Artificial\n",
        "\n",
        "**Aluna:** Carine Madeira Soares  \n",
        "**Instituição:** Universidade Federal de Viçosa\n"
      ],
      "metadata": {
        "id": "BRQc2LLuA-5X"
      }
    },
    {
      "cell_type": "markdown",
      "source": [
        "## Capítulo 01\n",
        "### Elementos básicos da linguagem Python"
      ],
      "metadata": {
        "id": "LscraurMc2SP"
      }
    },
    {
      "cell_type": "markdown",
      "source": [
        "#### 1.Variáveis, Constantes e Tipos de Dados\n"
      ],
      "metadata": {
        "id": "vV2Q-fOwgFS4"
      }
    },
    {
      "cell_type": "code",
      "execution_count": null,
      "metadata": {
        "colab": {
          "base_uri": "https://localhost:8080/"
        },
        "id": "Rjm14netbD1A",
        "outputId": "59283f0d-460f-4cfc-c387-a65be11e8083"
      },
      "outputs": [
        {
          "output_type": "stream",
          "name": "stdout",
          "text": [
            "Hello World!\n"
          ]
        }
      ],
      "source": [
        "print(\"Hello World!\")"
      ]
    },
    {
      "cell_type": "code",
      "source": [
        "msg = \"Hello Big World!\""
      ],
      "metadata": {
        "id": "HswpAXzrfs7R"
      },
      "execution_count": null,
      "outputs": []
    },
    {
      "cell_type": "code",
      "source": [
        "print(msg)"
      ],
      "metadata": {
        "colab": {
          "base_uri": "https://localhost:8080/"
        },
        "id": "v9M-f8URfxGO",
        "outputId": "fb09c869-cdc6-46dd-f186-f19a56d8b612"
      },
      "execution_count": null,
      "outputs": [
        {
          "output_type": "stream",
          "name": "stdout",
          "text": [
            "Hello Big World!\n"
          ]
        }
      ]
    },
    {
      "cell_type": "markdown",
      "source": [
        "#### 2.Números"
      ],
      "metadata": {
        "id": "EKJS72WtgSJH"
      }
    },
    {
      "cell_type": "markdown",
      "source": [
        "##### 2.1 Integers"
      ],
      "metadata": {
        "id": "gnoiSYyggWwK"
      }
    },
    {
      "cell_type": "code",
      "source": [
        "a = 29\n",
        "b = 73"
      ],
      "metadata": {
        "id": "qQOxtIeIgah9"
      },
      "execution_count": null,
      "outputs": []
    },
    {
      "cell_type": "code",
      "source": [
        "c = a + b\n",
        "print(\"a + b = \",c)"
      ],
      "metadata": {
        "colab": {
          "base_uri": "https://localhost:8080/"
        },
        "id": "wES3JOQCggdW",
        "outputId": "7c7ab3de-3ef0-4601-d432-ffe7407ecc05"
      },
      "execution_count": null,
      "outputs": [
        {
          "output_type": "stream",
          "name": "stdout",
          "text": [
            "a + b =  102\n"
          ]
        }
      ]
    },
    {
      "cell_type": "code",
      "source": [
        "d = b - a\n",
        "print(\"b - a = \",d)"
      ],
      "metadata": {
        "colab": {
          "base_uri": "https://localhost:8080/"
        },
        "id": "WFTcSHZPgnjH",
        "outputId": "75e8baf5-bbca-4c57-e7be-2b7bb4392ec7"
      },
      "execution_count": null,
      "outputs": [
        {
          "output_type": "stream",
          "name": "stdout",
          "text": [
            "b - a =  44\n"
          ]
        }
      ]
    },
    {
      "cell_type": "code",
      "source": [
        "e = a * b\n",
        "print(\" a * b = \",e)"
      ],
      "metadata": {
        "colab": {
          "base_uri": "https://localhost:8080/"
        },
        "id": "UGKkkjiQgvOO",
        "outputId": "57b53048-c926-48f5-f34d-99784f301032"
      },
      "execution_count": null,
      "outputs": [
        {
          "output_type": "stream",
          "name": "stdout",
          "text": [
            " a * b =  2117\n"
          ]
        }
      ]
    },
    {
      "cell_type": "code",
      "source": [
        "f = b / a\n",
        "print(\"b / a = \",f)"
      ],
      "metadata": {
        "colab": {
          "base_uri": "https://localhost:8080/"
        },
        "id": "4FYOj-qAg2hD",
        "outputId": "7680445c-ef7c-494b-a1ab-53e1b1f0879b"
      },
      "execution_count": null,
      "outputs": [
        {
          "output_type": "stream",
          "name": "stdout",
          "text": [
            "b / a =  2.5172413793103448\n"
          ]
        }
      ]
    },
    {
      "cell_type": "code",
      "source": [
        "a = 3\n",
        "b = 2\n",
        "c = a**b\n",
        "d = 3**b\n",
        "e = a**2"
      ],
      "metadata": {
        "id": "Zyrf1WdxhAyI"
      },
      "execution_count": null,
      "outputs": []
    },
    {
      "cell_type": "code",
      "source": [
        "print(c, d, e)"
      ],
      "metadata": {
        "colab": {
          "base_uri": "https://localhost:8080/"
        },
        "id": "zALTXC15hMY2",
        "outputId": "a058f000-c2bd-4e42-b7f8-c37a2cc1d209"
      },
      "execution_count": null,
      "outputs": [
        {
          "output_type": "stream",
          "name": "stdout",
          "text": [
            "9 9 9\n"
          ]
        }
      ]
    },
    {
      "cell_type": "code",
      "source": [
        "a = 2\n",
        "b = 3\n",
        "c = 4\n",
        "r1 = a + b * c\n",
        "print(\"r1: \",r1)\n",
        "r2 = (a + b)*c\n",
        "print(\"r2: \",r2)"
      ],
      "metadata": {
        "colab": {
          "base_uri": "https://localhost:8080/"
        },
        "id": "ID0XZUG3hTsh",
        "outputId": "b5a346b3-11fb-4cfb-e760-d45a60f54a13"
      },
      "execution_count": null,
      "outputs": [
        {
          "output_type": "stream",
          "name": "stdout",
          "text": [
            "r1:  14\n",
            "r2:  20\n"
          ]
        }
      ]
    },
    {
      "cell_type": "markdown",
      "source": [
        "##### 2.2 Float "
      ],
      "metadata": {
        "id": "Jm7jkABbhpFY"
      }
    },
    {
      "cell_type": "code",
      "source": [
        "a = 0.1\n",
        "b = 0.2\n",
        "c = a + b\n",
        "d = a + a\n",
        "e = 2 * b\n",
        "print(\"c = \", c)\n",
        "print(\"d = \", d)\n",
        "print(\"e = \", e)"
      ],
      "metadata": {
        "colab": {
          "base_uri": "https://localhost:8080/"
        },
        "id": "IbqOyU42hye2",
        "outputId": "50797918-3ca6-47bd-af05-a177162745c8"
      },
      "execution_count": null,
      "outputs": [
        {
          "output_type": "stream",
          "name": "stdout",
          "text": [
            "c =  0.30000000000000004\n",
            "d =  0.2\n",
            "e =  0.4\n"
          ]
        }
      ]
    },
    {
      "cell_type": "code",
      "source": [
        "a = 4\n",
        "b = 2\n",
        "r1 = a / b\n",
        "print(\"r1: \",r1)\n",
        "c = 1\n",
        "d = 2.0\n",
        "r2 = c + d\n",
        "print(\"r2: \",r2)\n",
        "r3 = 2 * 3.0\n",
        "print(\"r3: \",r3)\n",
        "r4 = 3.0 ** 2\n",
        "print(\"r4: \",r4)"
      ],
      "metadata": {
        "colab": {
          "base_uri": "https://localhost:8080/"
        },
        "id": "vcBW3rzQigLO",
        "outputId": "a7126e15-497f-4e51-ad79-956e2c5333bc"
      },
      "execution_count": null,
      "outputs": [
        {
          "output_type": "stream",
          "name": "stdout",
          "text": [
            "r1:  2.0\n",
            "r2:  3.0\n",
            "r3:  6.0\n",
            "r4:  9.0\n"
          ]
        }
      ]
    },
    {
      "cell_type": "markdown",
      "source": [
        "#### 3.Constantes"
      ],
      "metadata": {
        "id": "YYES5AQXjCN3"
      }
    },
    {
      "cell_type": "code",
      "source": [
        "MAX_VALUE = 100"
      ],
      "metadata": {
        "id": "zUM5Vr3GjEjT"
      },
      "execution_count": null,
      "outputs": []
    },
    {
      "cell_type": "code",
      "source": [
        "print(MAX_VALUE)"
      ],
      "metadata": {
        "colab": {
          "base_uri": "https://localhost:8080/"
        },
        "id": "mb9ZlFkGjSOD",
        "outputId": "3b2a7c51-9197-4d92-bc60-abd1fe77250a"
      },
      "execution_count": null,
      "outputs": [
        {
          "output_type": "stream",
          "name": "stdout",
          "text": [
            "100\n"
          ]
        }
      ]
    },
    {
      "cell_type": "markdown",
      "source": [
        "#### 4.Strings\n"
      ],
      "metadata": {
        "id": "xJA8tL9rjZDx"
      }
    },
    {
      "cell_type": "code",
      "source": [
        "mystring1 = \"I have a son who is 6.\"\n",
        "print(mystring1)"
      ],
      "metadata": {
        "colab": {
          "base_uri": "https://localhost:8080/"
        },
        "id": "uva6-MIejYmr",
        "outputId": "ea8f09a9-d421-4214-d873-ff754cc4a313"
      },
      "execution_count": null,
      "outputs": [
        {
          "output_type": "stream",
          "name": "stdout",
          "text": [
            "I have a son who is 6.\n"
          ]
        }
      ]
    },
    {
      "cell_type": "code",
      "source": [
        "mystring2 = \"nina madeira\"\n",
        "print(mystring2)"
      ],
      "metadata": {
        "colab": {
          "base_uri": "https://localhost:8080/"
        },
        "id": "izdJJ4hjj4PH",
        "outputId": "23f0eed7-0b6a-4bd1-c6bd-8585b0dd459f"
      },
      "execution_count": null,
      "outputs": [
        {
          "output_type": "stream",
          "name": "stdout",
          "text": [
            "nina madeira\n"
          ]
        }
      ]
    },
    {
      "cell_type": "code",
      "source": [
        "name = mystring2\n",
        "print(name.title())"
      ],
      "metadata": {
        "colab": {
          "base_uri": "https://localhost:8080/"
        },
        "id": "87ZnPYGlkAsC",
        "outputId": "113e3f53-3f90-4033-cb77-26ca69b99c30"
      },
      "execution_count": null,
      "outputs": [
        {
          "output_type": "stream",
          "name": "stdout",
          "text": [
            "Nina Madeira\n"
          ]
        }
      ]
    },
    {
      "cell_type": "code",
      "source": [
        "name.upper()"
      ],
      "metadata": {
        "colab": {
          "base_uri": "https://localhost:8080/",
          "height": 35
        },
        "id": "h9Nvd6K3kIjO",
        "outputId": "b7c1c38e-7ef8-4d43-8fe8-ae4dfa19b211"
      },
      "execution_count": null,
      "outputs": [
        {
          "output_type": "execute_result",
          "data": {
            "text/plain": [
              "'NINA MADEIRA'"
            ],
            "application/vnd.google.colaboratory.intrinsic+json": {
              "type": "string"
            }
          },
          "metadata": {},
          "execution_count": 23
        }
      ]
    },
    {
      "cell_type": "code",
      "source": [
        "name.lower()"
      ],
      "metadata": {
        "colab": {
          "base_uri": "https://localhost:8080/",
          "height": 35
        },
        "id": "4vcUAPzYkL-L",
        "outputId": "c6ba2318-0c39-4178-9a5a-d426300ddb0b"
      },
      "execution_count": null,
      "outputs": [
        {
          "output_type": "execute_result",
          "data": {
            "text/plain": [
              "'nina madeira'"
            ],
            "application/vnd.google.colaboratory.intrinsic+json": {
              "type": "string"
            }
          },
          "metadata": {},
          "execution_count": 24
        }
      ]
    },
    {
      "cell_type": "code",
      "source": [
        "first_name = \"nina\""
      ],
      "metadata": {
        "id": "cQg7BvQPkO_W"
      },
      "execution_count": null,
      "outputs": []
    },
    {
      "cell_type": "code",
      "source": [
        "last_name = \"madeira\""
      ],
      "metadata": {
        "id": "bCOgTLtckTWD"
      },
      "execution_count": null,
      "outputs": []
    },
    {
      "cell_type": "code",
      "source": [
        "full_name = f\"{first_name} {last_name}\"\n",
        "print(full_name)"
      ],
      "metadata": {
        "colab": {
          "base_uri": "https://localhost:8080/"
        },
        "id": "FFpaMeYGkWwZ",
        "outputId": "69302499-b28b-4c01-9538-ced8eb84f196"
      },
      "execution_count": null,
      "outputs": [
        {
          "output_type": "stream",
          "name": "stdout",
          "text": [
            "nina madeira\n"
          ]
        }
      ]
    },
    {
      "cell_type": "code",
      "source": [
        "favorite_language = \" Python \""
      ],
      "metadata": {
        "id": "S7FpV2RYkhVJ"
      },
      "execution_count": null,
      "outputs": []
    },
    {
      "cell_type": "code",
      "source": [
        "favorite_language.rstrip()"
      ],
      "metadata": {
        "colab": {
          "base_uri": "https://localhost:8080/",
          "height": 35
        },
        "id": "ZDfWFTG-klP9",
        "outputId": "b473602d-9cfb-468f-fab3-75b0c03e2f89"
      },
      "execution_count": null,
      "outputs": [
        {
          "output_type": "execute_result",
          "data": {
            "text/plain": [
              "' Python'"
            ],
            "application/vnd.google.colaboratory.intrinsic+json": {
              "type": "string"
            }
          },
          "metadata": {},
          "execution_count": 29
        }
      ]
    },
    {
      "cell_type": "code",
      "source": [
        "favorite_language.lstrip()"
      ],
      "metadata": {
        "colab": {
          "base_uri": "https://localhost:8080/",
          "height": 35
        },
        "id": "HfyXBjf-ko-P",
        "outputId": "bd199401-7d99-4690-c020-c93dbf728e7c"
      },
      "execution_count": null,
      "outputs": [
        {
          "output_type": "execute_result",
          "data": {
            "text/plain": [
              "'Python '"
            ],
            "application/vnd.google.colaboratory.intrinsic+json": {
              "type": "string"
            }
          },
          "metadata": {},
          "execution_count": 30
        }
      ]
    },
    {
      "cell_type": "code",
      "source": [
        "favorite_language.strip()"
      ],
      "metadata": {
        "colab": {
          "base_uri": "https://localhost:8080/",
          "height": 35
        },
        "id": "9qJBM3yEks2v",
        "outputId": "12695443-f887-4606-dc13-79e04d719d65"
      },
      "execution_count": null,
      "outputs": [
        {
          "output_type": "execute_result",
          "data": {
            "text/plain": [
              "'Python'"
            ],
            "application/vnd.google.colaboratory.intrinsic+json": {
              "type": "string"
            }
          },
          "metadata": {},
          "execution_count": 31
        }
      ]
    },
    {
      "cell_type": "markdown",
      "source": [
        "#### 5.Operadores Aritméticos\n"
      ],
      "metadata": {
        "id": "CZ4c1eqzlG-i"
      }
    },
    {
      "cell_type": "code",
      "source": [
        "a = 9\n",
        "b = 4"
      ],
      "metadata": {
        "id": "I-7ZEDd3lK54"
      },
      "execution_count": null,
      "outputs": []
    },
    {
      "cell_type": "code",
      "source": [
        "add = a + b\n",
        "sub = a - b\n",
        "mul = a * b\n",
        "div1 =  a / b\n",
        "div2 = a // b\n",
        "mod = a % b\n",
        "pot = a ** b"
      ],
      "metadata": {
        "id": "Y0l5uHTSlNm9"
      },
      "execution_count": null,
      "outputs": []
    },
    {
      "cell_type": "code",
      "source": [
        "print(\"Soma = \",add)"
      ],
      "metadata": {
        "colab": {
          "base_uri": "https://localhost:8080/"
        },
        "id": "zaCRd7aXljk3",
        "outputId": "d812a953-2c8b-4ca8-cb4f-d3af7b45e14a"
      },
      "execution_count": null,
      "outputs": [
        {
          "output_type": "stream",
          "name": "stdout",
          "text": [
            "Soma =  13\n"
          ]
        }
      ]
    },
    {
      "cell_type": "code",
      "source": [
        "print(\"Subtração = \",sub)"
      ],
      "metadata": {
        "colab": {
          "base_uri": "https://localhost:8080/"
        },
        "id": "s8V0w4Rilofg",
        "outputId": "4df276ad-08eb-4162-9c06-0a05474fb232"
      },
      "execution_count": null,
      "outputs": [
        {
          "output_type": "stream",
          "name": "stdout",
          "text": [
            "Subtração =  5\n"
          ]
        }
      ]
    },
    {
      "cell_type": "code",
      "source": [
        "print(\"Multiplicação = \",mul)"
      ],
      "metadata": {
        "colab": {
          "base_uri": "https://localhost:8080/"
        },
        "id": "ksB-ghZUlwMD",
        "outputId": "b6f98d13-7e7f-4597-b032-47ce13f08a0c"
      },
      "execution_count": null,
      "outputs": [
        {
          "output_type": "stream",
          "name": "stdout",
          "text": [
            "Multiplicação =  36\n"
          ]
        }
      ]
    },
    {
      "cell_type": "code",
      "source": [
        "print(\"Divisao = \",div1)"
      ],
      "metadata": {
        "colab": {
          "base_uri": "https://localhost:8080/"
        },
        "id": "W2sGj-A5l1Dy",
        "outputId": "21583077-1cfe-48c1-b471-9fc271e0be57"
      },
      "execution_count": null,
      "outputs": [
        {
          "output_type": "stream",
          "name": "stdout",
          "text": [
            "Divisao =  2.25\n"
          ]
        }
      ]
    },
    {
      "cell_type": "code",
      "source": [
        "print(\"Divisão_int = \",div2)"
      ],
      "metadata": {
        "colab": {
          "base_uri": "https://localhost:8080/"
        },
        "id": "vNt7QLSfl4xS",
        "outputId": "815699e7-fcba-4077-e58a-7c2017c37ced"
      },
      "execution_count": null,
      "outputs": [
        {
          "output_type": "stream",
          "name": "stdout",
          "text": [
            "Divisão_int =  2\n"
          ]
        }
      ]
    },
    {
      "cell_type": "code",
      "source": [
        "print(\"Modulo = \",mod)"
      ],
      "metadata": {
        "colab": {
          "base_uri": "https://localhost:8080/"
        },
        "id": "fFQg5iMSl9G1",
        "outputId": "a12497e1-d2dc-4ad5-f66a-527c8f3d3323"
      },
      "execution_count": null,
      "outputs": [
        {
          "output_type": "stream",
          "name": "stdout",
          "text": [
            "Modulo =  1\n"
          ]
        }
      ]
    },
    {
      "cell_type": "code",
      "source": [
        "print(\"Potência = \",pot)"
      ],
      "metadata": {
        "colab": {
          "base_uri": "https://localhost:8080/"
        },
        "id": "DlySPr9kmA3e",
        "outputId": "c0424946-1c29-48ec-a771-ac95864d8f6a"
      },
      "execution_count": null,
      "outputs": [
        {
          "output_type": "stream",
          "name": "stdout",
          "text": [
            "Potência =  6561\n"
          ]
        }
      ]
    },
    {
      "cell_type": "markdown",
      "source": [
        "#### 6.Operadores Relacionais"
      ],
      "metadata": {
        "id": "8kf2mbo4mS-y"
      }
    },
    {
      "cell_type": "code",
      "source": [
        "a = 13\n",
        "b = 33"
      ],
      "metadata": {
        "id": "dYjeQARurwTz"
      },
      "execution_count": null,
      "outputs": []
    },
    {
      "cell_type": "code",
      "source": [
        "a > b"
      ],
      "metadata": {
        "colab": {
          "base_uri": "https://localhost:8080/"
        },
        "id": "TBArePCnr0WY",
        "outputId": "16a3c3ce-52bb-457c-e54b-f2ef66466fb3"
      },
      "execution_count": null,
      "outputs": [
        {
          "output_type": "execute_result",
          "data": {
            "text/plain": [
              "False"
            ]
          },
          "metadata": {},
          "execution_count": 42
        }
      ]
    },
    {
      "cell_type": "code",
      "source": [
        "a < b"
      ],
      "metadata": {
        "colab": {
          "base_uri": "https://localhost:8080/"
        },
        "id": "GaZbK_ORr2hN",
        "outputId": "b3f2d872-cf54-4447-fb90-e65adbe06c3d"
      },
      "execution_count": null,
      "outputs": [
        {
          "output_type": "execute_result",
          "data": {
            "text/plain": [
              "True"
            ]
          },
          "metadata": {},
          "execution_count": 43
        }
      ]
    },
    {
      "cell_type": "code",
      "source": [
        "a == b"
      ],
      "metadata": {
        "colab": {
          "base_uri": "https://localhost:8080/"
        },
        "id": "Ark0Vtp9r39B",
        "outputId": "3091f98c-0760-4fd2-913e-ccd8ebc3af9c"
      },
      "execution_count": null,
      "outputs": [
        {
          "output_type": "execute_result",
          "data": {
            "text/plain": [
              "False"
            ]
          },
          "metadata": {},
          "execution_count": 44
        }
      ]
    },
    {
      "cell_type": "code",
      "source": [
        "a != b "
      ],
      "metadata": {
        "colab": {
          "base_uri": "https://localhost:8080/"
        },
        "id": "t25Clt3dr5SK",
        "outputId": "099d65db-8180-412b-8e5f-d7f98eb75a98"
      },
      "execution_count": null,
      "outputs": [
        {
          "output_type": "execute_result",
          "data": {
            "text/plain": [
              "True"
            ]
          },
          "metadata": {},
          "execution_count": 45
        }
      ]
    },
    {
      "cell_type": "code",
      "source": [
        "a >= b"
      ],
      "metadata": {
        "colab": {
          "base_uri": "https://localhost:8080/"
        },
        "id": "AIQJgJI0r7pi",
        "outputId": "ace28e17-cdee-4515-c033-a988d67550c2"
      },
      "execution_count": null,
      "outputs": [
        {
          "output_type": "execute_result",
          "data": {
            "text/plain": [
              "False"
            ]
          },
          "metadata": {},
          "execution_count": 46
        }
      ]
    },
    {
      "cell_type": "code",
      "source": [
        "a <= b"
      ],
      "metadata": {
        "colab": {
          "base_uri": "https://localhost:8080/"
        },
        "id": "lmn-Jhzbr9nH",
        "outputId": "c1b69c99-f5e2-4b90-d757-67c32faf8928"
      },
      "execution_count": null,
      "outputs": [
        {
          "output_type": "execute_result",
          "data": {
            "text/plain": [
              "True"
            ]
          },
          "metadata": {},
          "execution_count": 47
        }
      ]
    },
    {
      "cell_type": "markdown",
      "source": [
        "#### 7.Comentários"
      ],
      "metadata": {
        "id": "iKOxagNusLyP"
      }
    },
    {
      "cell_type": "code",
      "source": [
        "# say hello to everyone\n",
        "print(\"Hello Python people!)"
      ],
      "metadata": {
        "colab": {
          "base_uri": "https://localhost:8080/"
        },
        "id": "limhOatssQZO",
        "outputId": "ec744e93-78f0-42d6-ad28-4bc697354585"
      },
      "execution_count": null,
      "outputs": [
        {
          "output_type": "stream",
          "name": "stdout",
          "text": [
            "Hello Python people!\n"
          ]
        }
      ]
    },
    {
      "cell_type": "markdown",
      "source": [
        "#### 8.Identação"
      ],
      "metadata": {
        "id": "VrwQu5o-52JZ"
      }
    },
    {
      "cell_type": "code",
      "source": [
        "a = 10\n",
        "\n",
        "if a > 5:\n",
        "  print('%d é maior que 5!' % a)"
      ],
      "metadata": {
        "colab": {
          "base_uri": "https://localhost:8080/"
        },
        "id": "k28r8ib0563o",
        "outputId": "40b827f0-6086-42f1-94ea-1daf884f38cc"
      },
      "execution_count": null,
      "outputs": [
        {
          "output_type": "stream",
          "name": "stdout",
          "text": [
            "10 é maior que 5!\n"
          ]
        }
      ]
    }
  ]
}