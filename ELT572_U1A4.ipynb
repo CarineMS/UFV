{
  "nbformat": 4,
  "nbformat_minor": 0,
  "metadata": {
    "colab": {
      "provenance": [],
      "authorship_tag": "ABX9TyMZequrvbumoL7H7NBLyDVz",
      "include_colab_link": true
    },
    "kernelspec": {
      "name": "python3",
      "display_name": "Python 3"
    },
    "language_info": {
      "name": "python"
    }
  },
  "cells": [
    {
      "cell_type": "markdown",
      "metadata": {
        "id": "view-in-github",
        "colab_type": "text"
      },
      "source": [
        "<a href=\"https://colab.research.google.com/github/CarineMS/UFV/blob/main/ELT572_U1A4.ipynb\" target=\"_parent\"><img src=\"https://colab.research.google.com/assets/colab-badge.svg\" alt=\"Open In Colab\"/></a>"
      ]
    },
    {
      "cell_type": "markdown",
      "source": [
        "## Caderno de Exercícios Python\n",
        "\n",
        "\n",
        "#### Capítulo 04 - Funções\n",
        "#### Disciplina: Linguagens de Programação para Inteligência Artificial\n",
        "\n",
        "**Aluna:** Carine Madeira Soares  \n",
        "**Instituição:** Universidade Federal de Viçosa\n"
      ],
      "metadata": {
        "id": "d4raWBwzTpHx"
      }
    },
    {
      "cell_type": "code",
      "execution_count": 1,
      "metadata": {
        "id": "1Crg6kHiTl_S"
      },
      "outputs": [],
      "source": [
        "import pandas as pd\n",
        "import numpy as np"
      ]
    },
    {
      "cell_type": "markdown",
      "source": [
        "#### 4.1 Funções"
      ],
      "metadata": {
        "id": "JrtYE35gV-da"
      }
    },
    {
      "cell_type": "code",
      "source": [
        "# exemplos de funções pré-definidas que não precisam de paramêtros\n",
        "# ou de retornar alguma saáida\n",
        "print()"
      ],
      "metadata": {
        "colab": {
          "base_uri": "https://localhost:8080/"
        },
        "id": "GFsSeMgHWBV4",
        "outputId": "ba62d92a-d450-4a4f-f1a3-1039ee1af223"
      },
      "execution_count": null,
      "outputs": [
        {
          "output_type": "stream",
          "name": "stdout",
          "text": [
            "\n"
          ]
        }
      ]
    },
    {
      "cell_type": "code",
      "source": [
        "print('Hello!')"
      ],
      "metadata": {
        "colab": {
          "base_uri": "https://localhost:8080/"
        },
        "id": "ZOTK1Q16WXqf",
        "outputId": "734aa639-84e5-486b-9fce-6a2cb2ee406e"
      },
      "execution_count": null,
      "outputs": [
        {
          "output_type": "stream",
          "name": "stdout",
          "text": [
            "Hello!\n"
          ]
        }
      ]
    },
    {
      "cell_type": "code",
      "source": [
        "name = input('Informe seu nome: ')"
      ],
      "metadata": {
        "colab": {
          "base_uri": "https://localhost:8080/"
        },
        "id": "Jy6lDYWbWaiQ",
        "outputId": "c198420c-0cdf-47e4-9072-52fbc225b2c7"
      },
      "execution_count": null,
      "outputs": [
        {
          "name": "stdout",
          "output_type": "stream",
          "text": [
            "Informe seu nome: Nina\n"
          ]
        }
      ]
    },
    {
      "cell_type": "code",
      "source": [
        "# definição de uma função\n",
        "def greet_user():\n",
        "  '''\n",
        "  Função imprime a saudação na tela\n",
        "  '''\n",
        "  print('Hello!')"
      ],
      "metadata": {
        "id": "aXH9on_eWfx-"
      },
      "execution_count": null,
      "outputs": []
    },
    {
      "cell_type": "code",
      "source": [
        "print('Retorno da função greet_user() ')\n",
        "greet_user()"
      ],
      "metadata": {
        "colab": {
          "base_uri": "https://localhost:8080/"
        },
        "id": "xGsI98qoXAjN",
        "outputId": "b4868df5-ac7c-4387-b7b2-0ef4a3e3f0a1"
      },
      "execution_count": null,
      "outputs": [
        {
          "output_type": "stream",
          "name": "stdout",
          "text": [
            "Retorno da função greet_user() \n",
            "Hello!\n"
          ]
        }
      ]
    },
    {
      "cell_type": "markdown",
      "source": [
        "#### 4.2 Passagem de parâmetro\n"
      ],
      "metadata": {
        "id": "lngXu8rXXPDb"
      }
    },
    {
      "cell_type": "code",
      "source": [
        "def describe_animal(animal_type, pet_name):\n",
        "  '''\n",
        "  Função imprime informação sobre o animal de estimação\n",
        "  Entrada: duas strings a raça e nome do animal\n",
        "  Saída: print na tela \n",
        "  '''\n",
        "  print(f'\\nEu tenho um {animal_type}')\n",
        "  print(f'Meu {animal_type} se chama {pet_name.title()}.')"
      ],
      "metadata": {
        "id": "lZ3TVmEUXS9X"
      },
      "execution_count": null,
      "outputs": []
    },
    {
      "cell_type": "code",
      "source": [
        "describe_animal('cachorro','nico')\n",
        "describe_animal('gato','irmão do Jorel')"
      ],
      "metadata": {
        "colab": {
          "base_uri": "https://localhost:8080/"
        },
        "id": "Hsp0Z8NyZWrk",
        "outputId": "539bfd9a-4450-44a4-c430-ed39d2d47ecf"
      },
      "execution_count": null,
      "outputs": [
        {
          "output_type": "stream",
          "name": "stdout",
          "text": [
            "\n",
            "Eu tenho um cachorro\n",
            "Meu cachorro se chama Nico.\n",
            "\n",
            "Eu tenho um gato\n",
            "Meu gato se chama Irmão Do Jorel.\n"
          ]
        }
      ]
    },
    {
      "cell_type": "markdown",
      "source": [
        "#### 4.3 Retorno de valores"
      ],
      "metadata": {
        "id": "XaRvJsAdZpDp"
      }
    },
    {
      "cell_type": "code",
      "source": [
        "# diferente das funções anteriores que imprimiam na tela,\n",
        "# mas não retornavam nenhum valor veremos os seguintes exemplos"
      ],
      "metadata": {
        "id": "Bzx0r6pRZru8"
      },
      "execution_count": null,
      "outputs": []
    },
    {
      "cell_type": "code",
      "source": [
        "def eco(mensagem, n_rep):\n",
        "  '''\n",
        "  Função replica a mensagem por determinado número de vezes\n",
        "  Entrada: mensagem (str) e o número (int) de repetições\n",
        "  Saída: variável com a mensagem repetida\n",
        "  '''\n",
        "  s = '' # declarando uma variável tipo string vazio\n",
        "  for i in range(0, n_rep):\n",
        "    s += mensagem\n",
        "  return s"
      ],
      "metadata": {
        "id": "nwkJ-XvOZ5yR"
      },
      "execution_count": null,
      "outputs": []
    },
    {
      "cell_type": "code",
      "source": [
        "# chamando a função\n",
        "repetindo = eco('reviver', 20)"
      ],
      "metadata": {
        "id": "_GBuLs_hapZ8"
      },
      "execution_count": null,
      "outputs": []
    },
    {
      "cell_type": "code",
      "source": [
        "print(repetindo)"
      ],
      "metadata": {
        "colab": {
          "base_uri": "https://localhost:8080/"
        },
        "id": "HlEQ9qiubWUX",
        "outputId": "feab87a3-827b-4ab3-dee3-65d22794a664"
      },
      "execution_count": null,
      "outputs": [
        {
          "output_type": "stream",
          "name": "stdout",
          "text": [
            "reviverreviverreviverreviverreviverreviverreviverreviverreviverreviverreviverreviverreviverreviverreviverreviverreviverreviverreviverreviver\n"
          ]
        }
      ]
    },
    {
      "cell_type": "code",
      "source": [
        "def ordernar(x, y):\n",
        "  if x <= y:\n",
        "    return x,y\n",
        "  else:\n",
        "    return y,x"
      ],
      "metadata": {
        "id": "sPll4mwPaZDB"
      },
      "execution_count": 3,
      "outputs": []
    },
    {
      "cell_type": "code",
      "source": [
        "a = float(input('Entre com um valor: '))\n",
        "b = float(input('Entre com um valor: '))\n",
        "a, b = ordernar(a,b)\n",
        "print(a,'<=',b)"
      ],
      "metadata": {
        "colab": {
          "base_uri": "https://localhost:8080/"
        },
        "id": "VGHPmD4EansQ",
        "outputId": "c159c2a9-7d5a-496c-f20e-de30b5521186"
      },
      "execution_count": 4,
      "outputs": [
        {
          "output_type": "stream",
          "name": "stdout",
          "text": [
            "Entre com um valor: 20.1\n",
            "Entre com um valor: 20\n",
            "20.0 <= 20.1\n"
          ]
        }
      ]
    },
    {
      "cell_type": "markdown",
      "source": [
        "#### 4.4 Função Recursiva"
      ],
      "metadata": {
        "id": "VLSU8KmTbHFf"
      }
    },
    {
      "cell_type": "code",
      "source": [
        "def fibonacci_recursiva(n):\n",
        "  if n <=1:\n",
        "    return n\n",
        "  else:\n",
        "    return (fibonacci_recursiva(n-1) + fibonacci_recursiva(n-2))"
      ],
      "metadata": {
        "id": "THZXXI5ibMTk"
      },
      "execution_count": 5,
      "outputs": []
    },
    {
      "cell_type": "code",
      "source": [
        "n_termos = 10\n",
        "if n_termos <= 0:\n",
        "  print('Entrada inválida! Informe um valor maior que zero.')\n",
        "else:\n",
        "  print('Serie Fibonacci...')\n",
        "  for i in range(n_termos):\n",
        "    print(fibonacci_recursiva(i), end=' ')"
      ],
      "metadata": {
        "colab": {
          "base_uri": "https://localhost:8080/"
        },
        "id": "XfbqWhopbqDO",
        "outputId": "dac5a4c5-bcd0-4616-8541-13850c67f2a5"
      },
      "execution_count": 7,
      "outputs": [
        {
          "output_type": "stream",
          "name": "stdout",
          "text": [
            "Serie Fibonacci...\n",
            "0 1 1 2 3 5 8 13 21 34 "
          ]
        }
      ]
    },
    {
      "cell_type": "markdown",
      "source": [
        "#### 4.5 Definições locais e globais"
      ],
      "metadata": {
        "id": "kkPfDWi7b0lW"
      }
    },
    {
      "cell_type": "code",
      "source": [
        "# definição da função\n",
        "def minha_func():\n",
        "  '''\n",
        "  Função retorna o print com o escopo da variável\n",
        "  '''\n",
        "  x = 'Fantástico'\n",
        "  print('Escopo local ...')\n",
        "  print('Python é '+ x)"
      ],
      "metadata": {
        "id": "075AJG_Xb9GV"
      },
      "execution_count": null,
      "outputs": []
    },
    {
      "cell_type": "code",
      "source": [
        "# programa principal\n",
        "x = 'Impressionante'\n",
        "minha_func()\n",
        "print('\\nEscopo global...')\n",
        "print('Python é '+ x)"
      ],
      "metadata": {
        "colab": {
          "base_uri": "https://localhost:8080/"
        },
        "id": "Fu2rSZoccVMa",
        "outputId": "08259aca-24bf-4598-8417-ac8826ef4874"
      },
      "execution_count": null,
      "outputs": [
        {
          "output_type": "stream",
          "name": "stdout",
          "text": [
            "Escopo local ...\n",
            "Python é Fantástico\n",
            "\n",
            "Escopo global...\n",
            "Python é Impressionante\n"
          ]
        }
      ]
    },
    {
      "cell_type": "code",
      "source": [
        "# incluindo uma variável global dentro da definição da função\n",
        "def my_func():\n",
        "  '''\n",
        "  Função retorna o print com o escopo da variável\n",
        "  '''\n",
        "  global x\n",
        "  x = 'Amazing'"
      ],
      "metadata": {
        "id": "Z1rYIZ-Pcrho"
      },
      "execution_count": null,
      "outputs": []
    },
    {
      "cell_type": "code",
      "source": [
        "my_func()\n",
        "print('Python is '+ x)"
      ],
      "metadata": {
        "colab": {
          "base_uri": "https://localhost:8080/"
        },
        "id": "InyZ_feldA48",
        "outputId": "98a82384-c442-4f1b-d65a-374bd8bd344a"
      },
      "execution_count": null,
      "outputs": [
        {
          "output_type": "stream",
          "name": "stdout",
          "text": [
            "Python is Amazing\n"
          ]
        }
      ]
    },
    {
      "cell_type": "code",
      "source": [
        "x = 'Awesome'\n",
        "my_func()\n",
        "print('Python is '+ x)"
      ],
      "metadata": {
        "colab": {
          "base_uri": "https://localhost:8080/"
        },
        "id": "Q4HdwkHYdQHW",
        "outputId": "648619c6-9861-48d6-87ca-04afde621229"
      },
      "execution_count": null,
      "outputs": [
        {
          "output_type": "stream",
          "name": "stdout",
          "text": [
            "Python is Amazing\n"
          ]
        }
      ]
    }
  ]
}