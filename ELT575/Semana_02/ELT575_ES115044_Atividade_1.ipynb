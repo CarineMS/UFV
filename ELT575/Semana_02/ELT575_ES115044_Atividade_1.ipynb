{
  "nbformat": 4,
  "nbformat_minor": 0,
  "metadata": {
    "colab": {
      "provenance": [],
      "collapsed_sections": [
        "FDu84x1PaW1q",
        "4yIlMtBSYkCQ"
      ],
      "include_colab_link": true
    },
    "kernelspec": {
      "name": "python3",
      "display_name": "Python 3"
    },
    "language_info": {
      "name": "python"
    },
    "accelerator": "GPU"
  },
  "cells": [
    {
      "cell_type": "markdown",
      "metadata": {
        "id": "view-in-github",
        "colab_type": "text"
      },
      "source": [
        "<a href=\"https://colab.research.google.com/github/CarineMS/UFV/blob/main/ELT575_ES115044_Atividade_1.ipynb\" target=\"_parent\"><img src=\"https://colab.research.google.com/assets/colab-badge.svg\" alt=\"Open In Colab\"/></a>"
      ]
    },
    {
      "cell_type": "markdown",
      "source": [
        "## Atividade Prática 01\n",
        "\n",
        "## Disciplina: ELT575 - Aprendizado Profundo\n",
        "#### Semana 02 - Redes Neurais Convolucionais\n",
        "\n",
        "**Aluna:** Carine Madeira Soares\n",
        "\n",
        "**Instituição:** Universidade Federal de Viçosa\n"
      ],
      "metadata": {
        "id": "YIepDkC5O8ZX"
      }
    },
    {
      "cell_type": "code",
      "source": [
        "import numpy as np\n",
        "from matplotlib import pyplot as plt\n",
        "from sklearn.model_selection import KFold\n",
        "from tensorflow.keras.datasets import mnist, cifar10\n",
        "from tensorflow.keras.utils import to_categorical\n",
        "from tensorflow.keras.models import Sequential\n",
        "from tensorflow.keras.layers import Conv2D, MaxPooling2D, Dense, Flatten, Dropout, BatchNormalization\n",
        "from tensorflow.keras.optimizers import Adam\n",
        "\n",
        "\n",
        "print('Setup completo!')"
      ],
      "metadata": {
        "id": "mepYIv5SXA6q",
        "colab": {
          "base_uri": "https://localhost:8080/"
        },
        "outputId": "8e73c0c6-6068-4d83-d9a4-1404e3748484"
      },
      "execution_count": null,
      "outputs": [
        {
          "output_type": "stream",
          "name": "stdout",
          "text": [
            "Setup completo!\n"
          ]
        }
      ]
    },
    {
      "cell_type": "markdown",
      "source": [
        "#  Dataset cifar10"
      ],
      "metadata": {
        "id": "FDu84x1PaW1q"
      }
    },
    {
      "cell_type": "code",
      "source": [
        "# carregando dataset e separando dados de treino e teste\n",
        "(trainX, trainY), (testX, testY) = cifar10.load_data()"
      ],
      "metadata": {
        "id": "0oTJGJS7_oQq",
        "colab": {
          "base_uri": "https://localhost:8080/"
        },
        "outputId": "65f8bca6-521f-4b56-db81-41df1e076c01"
      },
      "execution_count": null,
      "outputs": [
        {
          "output_type": "stream",
          "name": "stdout",
          "text": [
            "Downloading data from https://www.cs.toronto.edu/~kriz/cifar-10-python.tar.gz\n",
            "170498071/170498071 [==============================] - 13s 0us/step\n"
          ]
        }
      ]
    },
    {
      "cell_type": "markdown",
      "source": [
        "As 10 possíveis classes do dataset são:\n",
        "* Avião (airplane)\n",
        "* Automóvel (automobile)\n",
        "* Pássaro (bird)\n",
        "* Gato (cat)\n",
        "* Cervo (deer)\n",
        "* Cão (dog)\n",
        "* Sapo (frog)\n",
        "* Cavalo (horse)\n",
        "* Navio (ship)\n",
        "* Caminhão (truck)"
      ],
      "metadata": {
        "id": "2n6hC8diYHCx"
      }
    },
    {
      "cell_type": "code",
      "source": [
        "class_names = [\"airplane\", \"automobile\", \"bird\", \"cat\", \"deer\",\n",
        "               \"dog\", \"frog\", \"horse\", \"ship\", \"truck\"]"
      ],
      "metadata": {
        "id": "yQMTJcisYXYx"
      },
      "execution_count": null,
      "outputs": []
    },
    {
      "cell_type": "markdown",
      "source": [
        "Para compreender o processo de normalização dos dados é interessante visualizar os valores máximo e minimos dos dados X e Y"
      ],
      "metadata": {
        "id": "RRUCz3w9PZQz"
      }
    },
    {
      "cell_type": "code",
      "source": [
        "trainX.min(), trainX.max(), trainX.mean(), len(trainX)"
      ],
      "metadata": {
        "colab": {
          "base_uri": "https://localhost:8080/"
        },
        "id": "N8E49MRp_vDd",
        "outputId": "670ef1c3-76ac-439a-faae-6d6c7f1c1317"
      },
      "execution_count": null,
      "outputs": [
        {
          "output_type": "execute_result",
          "data": {
            "text/plain": [
              "(0, 255, 120.70756512369792, 50000)"
            ]
          },
          "metadata": {},
          "execution_count": 3
        }
      ]
    },
    {
      "cell_type": "code",
      "source": [
        "trainY.min(), trainY.max()"
      ],
      "metadata": {
        "colab": {
          "base_uri": "https://localhost:8080/"
        },
        "id": "LOFZziyq_3Ru",
        "outputId": "295a2fd5-b0a8-40aa-cca4-aecb05526e51"
      },
      "execution_count": null,
      "outputs": [
        {
          "output_type": "execute_result",
          "data": {
            "text/plain": [
              "(0, 9)"
            ]
          },
          "metadata": {},
          "execution_count": 4
        }
      ]
    },
    {
      "cell_type": "code",
      "source": [
        "# plot como exemplo das imagens do dataframe\n",
        "plt.imshow(trainX[8], cmap='gray');"
      ],
      "metadata": {
        "colab": {
          "base_uri": "https://localhost:8080/",
          "height": 430
        },
        "id": "6sdeuEG4zNqp",
        "outputId": "6a7c43f6-de66-4d98-d6c6-4c16659285ee"
      },
      "execution_count": null,
      "outputs": [
        {
          "output_type": "display_data",
          "data": {
            "text/plain": [
              "<Figure size 640x480 with 1 Axes>"
            ],
            "image/png": "[encoded data removed]"
          },
          "metadata": {}
        }
      ]
    },
    {
      "cell_type": "code",
      "source": [
        "class_names[8]"
      ],
      "metadata": {
        "colab": {
          "base_uri": "https://localhost:8080/",
          "height": 36
        },
        "id": "FGAWod3AYres",
        "outputId": "b35a8a37-d903-4c4f-a974-912783013ad4"
      },
      "execution_count": null,
      "outputs": [
        {
          "output_type": "execute_result",
          "data": {
            "text/plain": [
              "'ship'"
            ],
            "application/vnd.google.colaboratory.intrinsic+json": {
              "type": "string"
            }
          },
          "metadata": {},
          "execution_count": 62
        }
      ]
    },
    {
      "cell_type": "code",
      "execution_count": null,
      "metadata": {
        "id": "fIhMNN9u8063"
      },
      "outputs": [],
      "source": [
        "# fazendo um reshape no dataset para ter um único canal\n",
        "trainX = trainX.reshape((trainX.shape[0], 32, 32, 3))\n",
        "testX = testX.reshape((testX.shape[0], 32, 32, 3))\n",
        "\n",
        "# Convertendo valores dos pixels em float\n",
        "trainX = trainX.astype('float32')\n",
        "testX = testX.astype('float32')\n",
        "\n",
        "# normalização para escala [0-1]\n",
        "trainX = trainX / 255.0\n",
        "testX = testX / 255.0\n",
        "\n",
        "# transformando a variável alvo (target) para uma codificação one hot\n",
        "trainY = to_categorical(trainY)\n",
        "testY = to_categorical(testY)"
      ]
    },
    {
      "cell_type": "markdown",
      "source": [
        "Verificando os tamanhos, valores máximos, mínimos e média das variáveis criadas."
      ],
      "metadata": {
        "id": "pLHPz9hnQO8h"
      }
    },
    {
      "cell_type": "code",
      "source": [
        "np.unique(trainY, return_counts=True)"
      ],
      "metadata": {
        "colab": {
          "base_uri": "https://localhost:8080/"
        },
        "id": "A8YQ4EVKAw8A",
        "outputId": "f3a0ec3a-af7c-424a-f7ae-2a082efc09e2"
      },
      "execution_count": null,
      "outputs": [
        {
          "output_type": "execute_result",
          "data": {
            "text/plain": [
              "(array([0., 1.], dtype=float32), array([450000,  50000]))"
            ]
          },
          "metadata": {},
          "execution_count": 11
        }
      ]
    },
    {
      "cell_type": "code",
      "source": [
        "def describe(arr):\n",
        "  # medidas de tendência central\n",
        "  mean = np.mean(arr)\n",
        "  median = np.median(arr)\n",
        "  lenn = len(arr)\n",
        "  ttype = arr.dtype\n",
        "  sshape = arr.shape\n",
        "  val_unique = np.unique(arr, return_counts=True)\n",
        "\n",
        "  # measures of dispersion\n",
        "  min = np.amin(arr)\n",
        "  max = np.amax(arr)\n",
        "  range = np.ptp(arr)\n",
        "  variance = np.var(arr)\n",
        "  sd = np.std(arr)\n",
        "\n",
        "  print(\"Análise Descritiva \\n\")\n",
        "  # print(\"Array =\", arr)\n",
        "  print(\"Medidas de Tendência Central\")\n",
        "  print(\"  Mean =\", mean)\n",
        "  print(\"  Median =\", median)\n",
        "  print(\"\\nMedidas de dispersão\")\n",
        "  print(\"  Minimum =\", min)\n",
        "  print(\"  Maximum =\", max)\n",
        "  print(\"  Range =\", range)\n",
        "  print(\"  Length =\", lenn)\n",
        "  print(\"  Type =\", ttype)\n",
        "  print(\"  Shape =\", sshape)\n",
        "  print(\"  Variance =\", variance)\n",
        "  print(\"  Standard Deviation =\", sd)\n",
        "  print(\"\\nValores únicos =\", val_unique)"
      ],
      "metadata": {
        "id": "Xx8D8pA2R_cp"
      },
      "execution_count": null,
      "outputs": []
    },
    {
      "cell_type": "code",
      "source": [
        "describe(trainY)"
      ],
      "metadata": {
        "colab": {
          "base_uri": "https://localhost:8080/"
        },
        "id": "oq3ayPaBSiGc",
        "outputId": "6722c9e9-bf37-4ff1-ec55-e4ab67335b86"
      },
      "execution_count": null,
      "outputs": [
        {
          "output_type": "stream",
          "name": "stdout",
          "text": [
            "Análise Descritiva \n",
            "\n",
            "Medidas de Tendência Central\n",
            "  Mean = 0.1\n",
            "  Median = 0.0\n",
            "\n",
            "Medidas de dispersão\n",
            "  Minimum = 0.0\n",
            "  Maximum = 1.0\n",
            "  Range = 1.0\n",
            "  Length = 50000\n",
            "  Type = float32\n",
            "  Shape = (50000, 10)\n",
            "  Variance = 0.09000001\n",
            "  Standard Deviation = 0.3\n",
            "\n",
            "Valores únicos = (array([0., 1.], dtype=float32), array([450000,  50000]))\n"
          ]
        }
      ]
    },
    {
      "cell_type": "code",
      "source": [
        "describe(trainX)"
      ],
      "metadata": {
        "colab": {
          "base_uri": "https://localhost:8080/"
        },
        "id": "DEfv_TsPUYA5",
        "outputId": "c1ee9662-7eae-47b4-c699-0b9dcfecbfd3"
      },
      "execution_count": null,
      "outputs": [
        {
          "output_type": "stream",
          "name": "stdout",
          "text": [
            "Análise Descritiva \n",
            "\n",
            "Medidas de Tendência Central\n",
            "  Mean = 0.4733649\n",
            "  Median = 0.45882353\n",
            "\n",
            "Medidas de dispersão\n",
            "  Minimum = 0.0\n",
            "  Maximum = 1.0\n",
            "  Range = 1.0\n",
            "  Length = 50000\n",
            "  Type = float32\n",
            "  Shape = (50000, 32, 32, 3)\n",
            "  Variance = 0.063287\n",
            "  Standard Deviation = 0.25156906\n"
          ]
        }
      ]
    },
    {
      "cell_type": "markdown",
      "source": [
        "# Construindo o modelo"
      ],
      "metadata": {
        "id": "4yIlMtBSYkCQ"
      }
    },
    {
      "cell_type": "markdown",
      "source": [
        "Nesse ponto substituimos as informações do input do exemplo fornecido pelo professor. Logo, foi substituido:\n",
        "`input_shape = (28, 28, 1)` por `input_shape = (32,32,3)`.\n",
        "\n",
        "Mantivesse as entradas da classe `Conv2D` pois optou-se por permanecer com 32 filtros em que cada um deles tenha tamanho 3x3."
      ],
      "metadata": {
        "id": "euC89gnIQgml"
      }
    },
    {
      "cell_type": "code",
      "source": [
        "# definindo modelo\n",
        "def define_model():\n",
        "  model = Sequential()\n",
        "  model.add(Conv2D(32, (3, 3), activation='relu', input_shape=(32, 32, 3)))\n",
        "  model.add(BatchNormalization())\n",
        "  model.add(MaxPooling2D((2, 2)))\n",
        "  model.add(Flatten())\n",
        "  model.add(Dense(100, activation='relu'))\n",
        "  model.add(Dense(10, activation='softmax'))\n",
        "\n",
        "  # compilando modelo\n",
        "  opt = Adam(learning_rate=0.001)\n",
        "  model.compile(optimizer=opt, loss='categorical_crossentropy', metrics=['accuracy'])\n",
        "  return model"
      ],
      "metadata": {
        "id": "suXiZFlbAmmi"
      },
      "execution_count": null,
      "outputs": []
    },
    {
      "cell_type": "markdown",
      "source": [
        "# Treinamento do modelo"
      ],
      "metadata": {
        "id": "S5fX2TpPaj77"
      }
    },
    {
      "cell_type": "code",
      "source": [
        "scores = []\n",
        "histories = []\n",
        "\n",
        "# definindo a validação k-fold\n",
        "kfold = KFold(5, shuffle=True, random_state=1)\n",
        "\n",
        "# loop para as k-folds (cada fold usa subconjuntos de treino e teste diferentes)\n",
        "for train_ix, test_ix in kfold.split(trainX):\n",
        "\n",
        "  model = define_model()\n",
        "\n",
        "  # recorta dados de acordo com índices da k-fold\n",
        "  train_data, train_target, val_data, val_target = trainX[train_ix], trainY[train_ix], trainX[test_ix], trainY[test_ix]\n",
        "\n",
        "  # treinamento do modelo\n",
        "  history = model.fit(train_data, train_target,\n",
        "                      epochs=10, batch_size=32,\n",
        "                      validation_data=(val_data, val_target),\n",
        "                      verbose=1)\n",
        "\n",
        "  # desempenho do modelo\n",
        "  _, acc = model.evaluate(val_data, val_target, verbose=0)\n",
        "  print('> %.3f' % (acc * 100.0))\n",
        "\n",
        "  # armazena resultados de cada modelo treinado dentro da k-fold\n",
        "  scores.append(acc)\n",
        "  histories.append(history)\n",
        "\n",
        "print('Acurácia: média=%.3f desvio=%.3f' % (np.mean(scores)*100, np.std(scores)*100))\n",
        "plt.boxplot(scores)\n",
        "plt.show()"
      ],
      "metadata": {
        "colab": {
          "base_uri": "https://localhost:8080/",
          "height": 1000
        },
        "id": "vNMJ1WpeUNgp",
        "outputId": "ccb401c9-b846-4cac-c3cd-5b6ed73d3166"
      },
      "execution_count": null,
      "outputs": [
        {
          "output_type": "stream",
          "name": "stdout",
          "text": [
            "Epoch 1/10\n",
            "1250/1250 [==============================] - 17s 5ms/step - loss: 1.3959 - accuracy: 0.5056 - val_loss: 1.2248 - val_accuracy: 0.5678\n",
            "Epoch 2/10\n",
            "1250/1250 [==============================] - 5s 4ms/step - loss: 1.0503 - accuracy: 0.6282 - val_loss: 1.3146 - val_accuracy: 0.5604\n",
            "Epoch 3/10\n",
            "1250/1250 [==============================] - 6s 5ms/step - loss: 0.8385 - accuracy: 0.7039 - val_loss: 1.1749 - val_accuracy: 0.6090\n",
            "Epoch 4/10\n",
            "1250/1250 [==============================] - 6s 5ms/step - loss: 0.6634 - accuracy: 0.7662 - val_loss: 1.3115 - val_accuracy: 0.6028\n",
            "Epoch 5/10\n",
            "1250/1250 [==============================] - 6s 5ms/step - loss: 0.4996 - accuracy: 0.8266 - val_loss: 1.4652 - val_accuracy: 0.5880\n",
            "Epoch 6/10\n",
            "1250/1250 [==============================] - 6s 4ms/step - loss: 0.3746 - accuracy: 0.8698 - val_loss: 1.7397 - val_accuracy: 0.5808\n",
            "Epoch 7/10\n",
            "1250/1250 [==============================] - 5s 4ms/step - loss: 0.2846 - accuracy: 0.8999 - val_loss: 2.1124 - val_accuracy: 0.5794\n",
            "Epoch 8/10\n",
            "1250/1250 [==============================] - 6s 5ms/step - loss: 0.2241 - accuracy: 0.9222 - val_loss: 2.2399 - val_accuracy: 0.5645\n",
            "Epoch 9/10\n",
            "1250/1250 [==============================] - 6s 4ms/step - loss: 0.1893 - accuracy: 0.9348 - val_loss: 2.3912 - val_accuracy: 0.5882\n",
            "Epoch 10/10\n",
            "1250/1250 [==============================] - 6s 4ms/step - loss: 0.1657 - accuracy: 0.9429 - val_loss: 2.4148 - val_accuracy: 0.5845\n",
            "> 58.450\n",
            "Epoch 1/10\n",
            "1250/1250 [==============================] - 7s 5ms/step - loss: 1.3445 - accuracy: 0.5305 - val_loss: 1.1268 - val_accuracy: 0.6011\n",
            "Epoch 2/10\n",
            "1250/1250 [==============================] - 6s 5ms/step - loss: 0.9633 - accuracy: 0.6604 - val_loss: 1.7289 - val_accuracy: 0.4700\n",
            "Epoch 3/10\n",
            "1250/1250 [==============================] - 5s 4ms/step - loss: 0.7477 - accuracy: 0.7376 - val_loss: 1.2326 - val_accuracy: 0.6101\n",
            "Epoch 4/10\n",
            "1250/1250 [==============================] - 6s 5ms/step - loss: 0.5675 - accuracy: 0.8000 - val_loss: 1.2518 - val_accuracy: 0.6284\n",
            "Epoch 5/10\n",
            "1250/1250 [==============================] - 5s 4ms/step - loss: 0.4139 - accuracy: 0.8539 - val_loss: 1.5852 - val_accuracy: 0.6078\n",
            "Epoch 6/10\n",
            "1250/1250 [==============================] - 5s 4ms/step - loss: 0.2988 - accuracy: 0.8980 - val_loss: 1.8395 - val_accuracy: 0.5834\n",
            "Epoch 7/10\n",
            "1250/1250 [==============================] - 5s 4ms/step - loss: 0.2253 - accuracy: 0.9219 - val_loss: 1.9960 - val_accuracy: 0.5966\n",
            "Epoch 8/10\n",
            "1250/1250 [==============================] - 6s 5ms/step - loss: 0.1859 - accuracy: 0.9364 - val_loss: 2.3168 - val_accuracy: 0.5973\n",
            "Epoch 9/10\n",
            "1250/1250 [==============================] - 6s 5ms/step - loss: 0.1547 - accuracy: 0.9478 - val_loss: 2.6904 - val_accuracy: 0.5815\n",
            "Epoch 10/10\n",
            "1250/1250 [==============================] - 5s 4ms/step - loss: 0.1410 - accuracy: 0.9541 - val_loss: 2.5954 - val_accuracy: 0.6026\n",
            "> 60.260\n",
            "Epoch 1/10\n",
            "1250/1250 [==============================] - 8s 4ms/step - loss: 1.3564 - accuracy: 0.5247 - val_loss: 1.2297 - val_accuracy: 0.5650\n",
            "Epoch 2/10\n",
            "1250/1250 [==============================] - 6s 5ms/step - loss: 0.9702 - accuracy: 0.6586 - val_loss: 1.2756 - val_accuracy: 0.5792\n",
            "Epoch 3/10\n",
            "1250/1250 [==============================] - 5s 4ms/step - loss: 0.7562 - accuracy: 0.7344 - val_loss: 1.2765 - val_accuracy: 0.5959\n",
            "Epoch 4/10\n",
            "1250/1250 [==============================] - 6s 5ms/step - loss: 0.5776 - accuracy: 0.7959 - val_loss: 1.2946 - val_accuracy: 0.6128\n",
            "Epoch 5/10\n",
            "1250/1250 [==============================] - 5s 4ms/step - loss: 0.4282 - accuracy: 0.8498 - val_loss: 1.4250 - val_accuracy: 0.6056\n",
            "Epoch 6/10\n",
            "1250/1250 [==============================] - 6s 5ms/step - loss: 0.3124 - accuracy: 0.8914 - val_loss: 1.6668 - val_accuracy: 0.6080\n",
            "Epoch 7/10\n",
            "1250/1250 [==============================] - 5s 4ms/step - loss: 0.2363 - accuracy: 0.9199 - val_loss: 1.8959 - val_accuracy: 0.6105\n",
            "Epoch 8/10\n",
            "1250/1250 [==============================] - 6s 5ms/step - loss: 0.1958 - accuracy: 0.9333 - val_loss: 2.1187 - val_accuracy: 0.6239\n",
            "Epoch 9/10\n",
            "1250/1250 [==============================] - 5s 4ms/step - loss: 0.1675 - accuracy: 0.9435 - val_loss: 2.4834 - val_accuracy: 0.6146\n",
            "Epoch 10/10\n",
            "1250/1250 [==============================] - 5s 4ms/step - loss: 0.1483 - accuracy: 0.9512 - val_loss: 2.6813 - val_accuracy: 0.5545\n",
            "> 55.450\n",
            "Epoch 1/10\n",
            "1250/1250 [==============================] - 7s 4ms/step - loss: 1.3746 - accuracy: 0.5139 - val_loss: 1.3488 - val_accuracy: 0.5371\n",
            "Epoch 2/10\n",
            "1250/1250 [==============================] - 7s 5ms/step - loss: 0.9921 - accuracy: 0.6525 - val_loss: 1.1647 - val_accuracy: 0.6091\n",
            "Epoch 3/10\n",
            "1250/1250 [==============================] - 6s 5ms/step - loss: 0.7869 - accuracy: 0.7217 - val_loss: 1.4837 - val_accuracy: 0.5481\n",
            "Epoch 4/10\n",
            "1250/1250 [==============================] - 7s 5ms/step - loss: 0.6022 - accuracy: 0.7878 - val_loss: 1.3384 - val_accuracy: 0.6091\n",
            "Epoch 5/10\n",
            "1250/1250 [==============================] - 5s 4ms/step - loss: 0.4563 - accuracy: 0.8395 - val_loss: 1.4265 - val_accuracy: 0.6126\n",
            "Epoch 6/10\n",
            "1250/1250 [==============================] - 6s 5ms/step - loss: 0.3361 - accuracy: 0.8825 - val_loss: 1.7381 - val_accuracy: 0.6080\n",
            "Epoch 7/10\n",
            "1250/1250 [==============================] - 5s 4ms/step - loss: 0.2455 - accuracy: 0.9165 - val_loss: 1.9674 - val_accuracy: 0.6103\n",
            "Epoch 8/10\n",
            "1250/1250 [==============================] - 6s 5ms/step - loss: 0.1900 - accuracy: 0.9344 - val_loss: 2.1789 - val_accuracy: 0.6038\n",
            "Epoch 9/10\n",
            "1250/1250 [==============================] - 6s 5ms/step - loss: 0.1764 - accuracy: 0.9406 - val_loss: 2.4200 - val_accuracy: 0.5968\n",
            "Epoch 10/10\n",
            "1250/1250 [==============================] - 6s 5ms/step - loss: 0.1422 - accuracy: 0.9520 - val_loss: 2.7345 - val_accuracy: 0.5968\n",
            "> 59.680\n",
            "Epoch 1/10\n",
            "1250/1250 [==============================] - 7s 5ms/step - loss: 1.3663 - accuracy: 0.5193 - val_loss: 1.3989 - val_accuracy: 0.5266\n",
            "Epoch 2/10\n",
            "1250/1250 [==============================] - 6s 5ms/step - loss: 0.9841 - accuracy: 0.6556 - val_loss: 1.2207 - val_accuracy: 0.5942\n",
            "Epoch 3/10\n",
            "1250/1250 [==============================] - 5s 4ms/step - loss: 0.7653 - accuracy: 0.7325 - val_loss: 1.2957 - val_accuracy: 0.5823\n",
            "Epoch 4/10\n",
            "1250/1250 [==============================] - 6s 5ms/step - loss: 0.5880 - accuracy: 0.7937 - val_loss: 1.2803 - val_accuracy: 0.6188\n",
            "Epoch 5/10\n",
            "1250/1250 [==============================] - 6s 4ms/step - loss: 0.4277 - accuracy: 0.8491 - val_loss: 1.5907 - val_accuracy: 0.6059\n",
            "Epoch 6/10\n",
            "1250/1250 [==============================] - 6s 5ms/step - loss: 0.3207 - accuracy: 0.8886 - val_loss: 1.8483 - val_accuracy: 0.6115\n",
            "Epoch 7/10\n",
            "1250/1250 [==============================] - 5s 4ms/step - loss: 0.2426 - accuracy: 0.9177 - val_loss: 1.9590 - val_accuracy: 0.5903\n",
            "Epoch 8/10\n",
            "1250/1250 [==============================] - 6s 5ms/step - loss: 0.2002 - accuracy: 0.9313 - val_loss: 2.1988 - val_accuracy: 0.5960\n",
            "Epoch 9/10\n",
            "1250/1250 [==============================] - 5s 4ms/step - loss: 0.1695 - accuracy: 0.9424 - val_loss: 2.3908 - val_accuracy: 0.5883\n",
            "Epoch 10/10\n",
            "1250/1250 [==============================] - 5s 4ms/step - loss: 0.1422 - accuracy: 0.9519 - val_loss: 2.6179 - val_accuracy: 0.5887\n",
            "> 58.870\n",
            "Acurácia: média=58.542 desvio=1.669\n"
          ]
        },
        {
          "output_type": "display_data",
          "data": {
            "text/plain": [
              "<Figure size 640x480 with 1 Axes>"
            ],
            "image/png": "[encoded data removed]"
          },
          "metadata": {}
        }
      ]
    },
    {
      "cell_type": "markdown",
      "source": [
        "### Testando modelo no conjunto de teste"
      ],
      "metadata": {
        "id": "vQrS59lcrDGb"
      }
    },
    {
      "cell_type": "code",
      "source": [
        "plt.imshow(testX[9,:,:,0], cmap='gray');\n",
        "print(class_names[9])"
      ],
      "metadata": {
        "colab": {
          "base_uri": "https://localhost:8080/",
          "height": 448
        },
        "id": "-kQjP09ZfjEF",
        "outputId": "0f7a2c4e-8e4a-4c47-ea0d-d8943141af18"
      },
      "execution_count": null,
      "outputs": [
        {
          "output_type": "stream",
          "name": "stdout",
          "text": [
            "truck\n"
          ]
        },
        {
          "output_type": "display_data",
          "data": {
            "text/plain": [
              "<Figure size 640x480 with 1 Axes>"
            ],
            "image/png": "[encoded data removed]"
          },
          "metadata": {}
        }
      ]
    },
    {
      "cell_type": "markdown",
      "source": [
        "***"
      ],
      "metadata": {
        "id": "-TEtnrljabah"
      }
    },
    {
      "cell_type": "markdown",
      "source": [
        "# Houve muita diferença no desempenho da rede treinada quando comparado ao exemplo?\n",
        "\n",
        "Sim, no exemplo disponibilizado pelo professor observamos uma acurácia média de 98% e no exemplo acima obtive uma acurácia média de 58%, assim resultando numa diferença de **40%**, ou seja, podemos afirmar sem dúvida se tratar de uma diferença expressiva."
      ],
      "metadata": {
        "id": "ZrA5Jz3pZc9D"
      }
    },
    {
      "cell_type": "markdown",
      "source": [
        "***"
      ],
      "metadata": {
        "id": "kTGuYwNSadct"
      }
    },
    {
      "cell_type": "markdown",
      "source": [
        "# Experimente adicionar mais dois blocos de camadas Conv2D (64 filtros 3x3 - relu) + MaxPooling (2 x 2) antes da camada Flatten e compare os resultados."
      ],
      "metadata": {
        "id": "5qw-cGsjaGHW"
      }
    },
    {
      "cell_type": "code",
      "source": [
        "# definindo modelo\n",
        "def define_model():\n",
        "  model = Sequential()\n",
        "  model.add(Conv2D(64, (3, 3), activation='relu', input_shape=(32, 32, 3)))\n",
        "  model.add(BatchNormalization())\n",
        "  model.add(MaxPooling2D((2, 2)))\n",
        "  model.add(Flatten())\n",
        "  model.add(Dense(100, activation='relu'))\n",
        "  model.add(Dense(10, activation='softmax'))\n",
        "\n",
        "  # compilando modelo\n",
        "  opt = Adam(learning_rate=0.001)\n",
        "  model.compile(optimizer=opt, loss='categorical_crossentropy', metrics=['accuracy'])\n",
        "  return model"
      ],
      "metadata": {
        "id": "-Ii4PtAjaJdq"
      },
      "execution_count": null,
      "outputs": []
    },
    {
      "cell_type": "code",
      "source": [
        "scores = []\n",
        "histories = []\n",
        "\n",
        "# definindo a validação k-fold\n",
        "kfold = KFold(5, shuffle=True, random_state=1)\n",
        "\n",
        "# loop para as k-folds (cada fold usa subconjuntos de treino e teste diferentes)\n",
        "for train_ix, test_ix in kfold.split(trainX):\n",
        "\n",
        "  model = define_model()\n",
        "\n",
        "  # recorta dados de acordo com índices da k-fold\n",
        "  train_data, train_target, val_data, val_target = trainX[train_ix], trainY[train_ix], trainX[test_ix], trainY[test_ix]\n",
        "\n",
        "  # treinamento do modelo\n",
        "  history = model.fit(train_data, train_target,\n",
        "                      epochs=10, batch_size=32,\n",
        "                      validation_data=(val_data, val_target),\n",
        "                      verbose=1)\n",
        "\n",
        "  # desempenho do modelo\n",
        "  _, acc = model.evaluate(val_data, val_target, verbose=0)\n",
        "  print('> %.3f' % (acc * 100.0))\n",
        "\n",
        "  # armazena resultados de cada modelo treinado dentro da k-fold\n",
        "  scores.append(acc)\n",
        "  histories.append(history)\n",
        "\n",
        "print('Acurácia: média=%.3f desvio=%.3f' % (np.mean(scores)*100, np.std(scores)*100))\n",
        "plt.boxplot(scores)\n",
        "plt.show()"
      ],
      "metadata": {
        "colab": {
          "base_uri": "https://localhost:8080/",
          "height": 1000
        },
        "id": "fPhQyNxraRf5",
        "outputId": "145b6392-7a66-4eb3-8caa-4ded16fb3858"
      },
      "execution_count": null,
      "outputs": [
        {
          "output_type": "stream",
          "name": "stdout",
          "text": [
            "Epoch 1/10\n",
            "1250/1250 [==============================] - 8s 6ms/step - loss: 1.3761 - accuracy: 0.5156 - val_loss: 1.4319 - val_accuracy: 0.5118\n",
            "Epoch 2/10\n",
            "1250/1250 [==============================] - 6s 5ms/step - loss: 1.0141 - accuracy: 0.6421 - val_loss: 1.3058 - val_accuracy: 0.5735\n",
            "Epoch 3/10\n",
            "1250/1250 [==============================] - 6s 5ms/step - loss: 0.8067 - accuracy: 0.7168 - val_loss: 1.4320 - val_accuracy: 0.5698\n",
            "Epoch 4/10\n",
            "1250/1250 [==============================] - 6s 5ms/step - loss: 0.6171 - accuracy: 0.7829 - val_loss: 1.2444 - val_accuracy: 0.6237\n",
            "Epoch 5/10\n",
            "1250/1250 [==============================] - 6s 5ms/step - loss: 0.4435 - accuracy: 0.8466 - val_loss: 1.4145 - val_accuracy: 0.6170\n",
            "Epoch 6/10\n",
            "1250/1250 [==============================] - 5s 4ms/step - loss: 0.3278 - accuracy: 0.8871 - val_loss: 1.6691 - val_accuracy: 0.6108\n",
            "Epoch 7/10\n",
            "1250/1250 [==============================] - 6s 5ms/step - loss: 0.2529 - accuracy: 0.9152 - val_loss: 2.0873 - val_accuracy: 0.5959\n",
            "Epoch 8/10\n",
            "1250/1250 [==============================] - 7s 6ms/step - loss: 0.1919 - accuracy: 0.9354 - val_loss: 2.3101 - val_accuracy: 0.6131\n",
            "Epoch 9/10\n",
            "1250/1250 [==============================] - 5s 4ms/step - loss: 0.1768 - accuracy: 0.9403 - val_loss: 2.2369 - val_accuracy: 0.6102\n",
            "Epoch 10/10\n",
            "1250/1250 [==============================] - 7s 5ms/step - loss: 0.1381 - accuracy: 0.9530 - val_loss: 3.2488 - val_accuracy: 0.5779\n",
            "> 57.790\n",
            "Epoch 1/10\n",
            "1250/1250 [==============================] - 9s 6ms/step - loss: 1.3754 - accuracy: 0.5195 - val_loss: 1.1855 - val_accuracy: 0.5890\n",
            "Epoch 2/10\n",
            "1250/1250 [==============================] - 5s 4ms/step - loss: 1.0012 - accuracy: 0.6497 - val_loss: 1.2984 - val_accuracy: 0.5765\n",
            "Epoch 3/10\n",
            "1250/1250 [==============================] - 7s 5ms/step - loss: 0.7939 - accuracy: 0.7221 - val_loss: 1.2739 - val_accuracy: 0.5987\n",
            "Epoch 4/10\n",
            "1250/1250 [==============================] - 5s 4ms/step - loss: 0.6117 - accuracy: 0.7854 - val_loss: 1.3030 - val_accuracy: 0.6147\n",
            "Epoch 5/10\n",
            "1250/1250 [==============================] - 8s 6ms/step - loss: 0.4610 - accuracy: 0.8400 - val_loss: 1.5671 - val_accuracy: 0.5769\n",
            "Epoch 6/10\n",
            "1250/1250 [==============================] - 6s 4ms/step - loss: 0.3407 - accuracy: 0.8842 - val_loss: 1.7790 - val_accuracy: 0.6073\n",
            "Epoch 7/10\n",
            "1250/1250 [==============================] - 6s 5ms/step - loss: 0.2613 - accuracy: 0.9098 - val_loss: 1.9337 - val_accuracy: 0.6230\n",
            "Epoch 8/10\n",
            "1250/1250 [==============================] - 6s 5ms/step - loss: 0.2126 - accuracy: 0.9269 - val_loss: 2.0069 - val_accuracy: 0.5968\n",
            "Epoch 9/10\n",
            "1250/1250 [==============================] - 6s 5ms/step - loss: 0.1739 - accuracy: 0.9409 - val_loss: 2.3348 - val_accuracy: 0.6084\n",
            "Epoch 10/10\n",
            "1250/1250 [==============================] - 6s 5ms/step - loss: 0.1513 - accuracy: 0.9500 - val_loss: 2.5223 - val_accuracy: 0.6079\n",
            "> 60.790\n",
            "Epoch 1/10\n",
            "1250/1250 [==============================] - 9s 5ms/step - loss: 1.3825 - accuracy: 0.5179 - val_loss: 1.7488 - val_accuracy: 0.4608\n",
            "Epoch 2/10\n",
            "1250/1250 [==============================] - 6s 5ms/step - loss: 1.0197 - accuracy: 0.6416 - val_loss: 1.2693 - val_accuracy: 0.5683\n",
            "Epoch 3/10\n",
            "1250/1250 [==============================] - 6s 5ms/step - loss: 0.8230 - accuracy: 0.7103 - val_loss: 1.2850 - val_accuracy: 0.5697\n",
            "Epoch 4/10\n",
            "1250/1250 [==============================] - 6s 4ms/step - loss: 0.6457 - accuracy: 0.7740 - val_loss: 1.3150 - val_accuracy: 0.5964\n",
            "Epoch 5/10\n",
            "1250/1250 [==============================] - 6s 5ms/step - loss: 0.4905 - accuracy: 0.8262 - val_loss: 1.5296 - val_accuracy: 0.6007\n",
            "Epoch 6/10\n",
            "1250/1250 [==============================] - 6s 5ms/step - loss: 0.3597 - accuracy: 0.8741 - val_loss: 1.6051 - val_accuracy: 0.6157\n",
            "Epoch 7/10\n",
            "1250/1250 [==============================] - 6s 5ms/step - loss: 0.2738 - accuracy: 0.9058 - val_loss: 1.9644 - val_accuracy: 0.5964\n",
            "Epoch 8/10\n",
            "1250/1250 [==============================] - 5s 4ms/step - loss: 0.2163 - accuracy: 0.9251 - val_loss: 2.0786 - val_accuracy: 0.5876\n",
            "Epoch 9/10\n",
            "1250/1250 [==============================] - 6s 5ms/step - loss: 0.1751 - accuracy: 0.9386 - val_loss: 2.3536 - val_accuracy: 0.6085\n",
            "Epoch 10/10\n",
            "1250/1250 [==============================] - 6s 5ms/step - loss: 0.1541 - accuracy: 0.9473 - val_loss: 2.7350 - val_accuracy: 0.5815\n",
            "> 58.150\n",
            "Epoch 1/10\n",
            "1250/1250 [==============================] - 7s 5ms/step - loss: 1.3877 - accuracy: 0.5134 - val_loss: 2.1786 - val_accuracy: 0.4174\n",
            "Epoch 2/10\n",
            "1250/1250 [==============================] - 7s 6ms/step - loss: 1.0173 - accuracy: 0.6397 - val_loss: 1.2681 - val_accuracy: 0.5698\n",
            "Epoch 3/10\n",
            "1250/1250 [==============================] - 5s 4ms/step - loss: 0.8014 - accuracy: 0.7170 - val_loss: 1.4138 - val_accuracy: 0.5646\n",
            "Epoch 4/10\n",
            "1250/1250 [==============================] - 6s 5ms/step - loss: 0.6098 - accuracy: 0.7878 - val_loss: 1.3506 - val_accuracy: 0.5890\n",
            "Epoch 5/10\n",
            "1250/1250 [==============================] - 5s 4ms/step - loss: 0.4562 - accuracy: 0.8411 - val_loss: 1.4647 - val_accuracy: 0.6146\n",
            "Epoch 6/10\n",
            "1250/1250 [==============================] - 6s 5ms/step - loss: 0.3264 - accuracy: 0.8889 - val_loss: 2.1545 - val_accuracy: 0.5745\n",
            "Epoch 7/10\n",
            "1250/1250 [==============================] - 6s 5ms/step - loss: 0.2477 - accuracy: 0.9156 - val_loss: 2.0565 - val_accuracy: 0.5957\n",
            "Epoch 8/10\n",
            "1250/1250 [==============================] - 5s 4ms/step - loss: 0.1896 - accuracy: 0.9356 - val_loss: 2.0894 - val_accuracy: 0.6049\n",
            "Epoch 9/10\n",
            "1250/1250 [==============================] - 6s 5ms/step - loss: 0.1751 - accuracy: 0.9416 - val_loss: 2.7833 - val_accuracy: 0.5934\n",
            "Epoch 10/10\n",
            "1250/1250 [==============================] - 5s 4ms/step - loss: 0.1450 - accuracy: 0.9511 - val_loss: 2.5513 - val_accuracy: 0.5948\n",
            "> 59.480\n",
            "Epoch 1/10\n",
            "1250/1250 [==============================] - 7s 5ms/step - loss: 1.3833 - accuracy: 0.5155 - val_loss: 1.2574 - val_accuracy: 0.5650\n",
            "Epoch 2/10\n",
            "1250/1250 [==============================] - 7s 5ms/step - loss: 1.0129 - accuracy: 0.6420 - val_loss: 1.4716 - val_accuracy: 0.5152\n",
            "Epoch 3/10\n",
            "1250/1250 [==============================] - 5s 4ms/step - loss: 0.8208 - accuracy: 0.7113 - val_loss: 1.1848 - val_accuracy: 0.6142\n",
            "Epoch 4/10\n",
            "1250/1250 [==============================] - 7s 5ms/step - loss: 0.6434 - accuracy: 0.7738 - val_loss: 1.2471 - val_accuracy: 0.6155\n",
            "Epoch 5/10\n",
            "1250/1250 [==============================] - 7s 6ms/step - loss: 0.4814 - accuracy: 0.8318 - val_loss: 1.7272 - val_accuracy: 0.5793\n",
            "Epoch 6/10\n",
            "1250/1250 [==============================] - 6s 5ms/step - loss: 0.3561 - accuracy: 0.8766 - val_loss: 1.7725 - val_accuracy: 0.6049\n",
            "Epoch 7/10\n",
            "1250/1250 [==============================] - 5s 4ms/step - loss: 0.2721 - accuracy: 0.9049 - val_loss: 1.8774 - val_accuracy: 0.5993\n",
            "Epoch 8/10\n",
            "1250/1250 [==============================] - 7s 6ms/step - loss: 0.2136 - accuracy: 0.9255 - val_loss: 2.1377 - val_accuracy: 0.6087\n",
            "Epoch 9/10\n",
            "1250/1250 [==============================] - 7s 6ms/step - loss: 0.1781 - accuracy: 0.9390 - val_loss: 2.5696 - val_accuracy: 0.5710\n",
            "Epoch 10/10\n",
            "1250/1250 [==============================] - 8s 6ms/step - loss: 0.1608 - accuracy: 0.9469 - val_loss: 2.4722 - val_accuracy: 0.6012\n",
            "> 60.120\n",
            "Acurácia: média=59.266 desvio=1.142\n"
          ]
        },
        {
          "output_type": "display_data",
          "data": {
            "text/plain": [
              "<Figure size 640x480 with 1 Axes>"
            ],
            "image/png": "[encoded data removed]"
          },
          "metadata": {}
        }
      ]
    },
    {
      "cell_type": "markdown",
      "source": [
        "A inclusão dos dois blocos de camadas a mais com o Conv2D (64 filtros 3x3 - relu) não houve tanta diferença, passamos de **58.54%** para **59.26%**.\n"
      ],
      "metadata": {
        "id": "rPXUU7V4cGro"
      }
    }
  ]
}