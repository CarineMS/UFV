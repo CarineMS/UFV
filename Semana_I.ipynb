{
  "nbformat": 4,
  "nbformat_minor": 0,
  "metadata": {
    "colab": {
      "provenance": [],
      "toc_visible": true,
      "collapsed_sections": [
        "O20v-oDnmiVC",
        "7oJG-3vzmrja",
        "ZVfluLCMmv3Y",
        "fFvRVMsfnncU"
      ],
      "authorship_tag": "ABX9TyMICVBNnn1wpwLRVY3V5lYT",
      "include_colab_link": true
    },
    "kernelspec": {
      "name": "python3",
      "display_name": "Python 3"
    },
    "language_info": {
      "name": "python"
    }
  },
  "cells": [
    {
      "cell_type": "markdown",
      "metadata": {
        "id": "view-in-github",
        "colab_type": "text"
      },
      "source": [
        "<a href=\"https://colab.research.google.com/github/CarineMS/UFV/blob/main/Semana_I.ipynb\" target=\"_parent\"><img src=\"https://colab.research.google.com/assets/colab-badge.svg\" alt=\"Open In Colab\"/></a>"
      ]
    },
    {
      "cell_type": "code",
      "source": [
        "!pip install scikit-optimize"
      ],
      "metadata": {
        "collapsed": true,
        "id": "wMww9VQ_pnO-",
        "colab": {
          "base_uri": "https://localhost:8080/"
        },
        "outputId": "38dff69b-d494-4acd-aeb2-c6ced3492c7c"
      },
      "execution_count": 3,
      "outputs": [
        {
          "output_type": "stream",
          "name": "stdout",
          "text": [
            "Requirement already satisfied: scikit-optimize in /usr/local/lib/python3.11/dist-packages (0.10.2)\n",
            "Requirement already satisfied: joblib>=0.11 in /usr/local/lib/python3.11/dist-packages (from scikit-optimize) (1.4.2)\n",
            "Requirement already satisfied: pyaml>=16.9 in /usr/local/lib/python3.11/dist-packages (from scikit-optimize) (25.1.0)\n",
            "Requirement already satisfied: numpy>=1.20.3 in /usr/local/lib/python3.11/dist-packages (from scikit-optimize) (1.26.4)\n",
            "Requirement already satisfied: scipy>=1.1.0 in /usr/local/lib/python3.11/dist-packages (from scikit-optimize) (1.13.1)\n",
            "Requirement already satisfied: scikit-learn>=1.0.0 in /usr/local/lib/python3.11/dist-packages (from scikit-optimize) (1.6.1)\n",
            "Requirement already satisfied: packaging>=21.3 in /usr/local/lib/python3.11/dist-packages (from scikit-optimize) (24.2)\n",
            "Requirement already satisfied: PyYAML in /usr/local/lib/python3.11/dist-packages (from pyaml>=16.9->scikit-optimize) (6.0.2)\n",
            "Requirement already satisfied: threadpoolctl>=3.1.0 in /usr/local/lib/python3.11/dist-packages (from scikit-learn>=1.0.0->scikit-optimize) (3.5.0)\n"
          ]
        }
      ]
    },
    {
      "cell_type": "markdown",
      "source": [
        "## Libs"
      ],
      "metadata": {
        "id": "O20v-oDnmiVC"
      }
    },
    {
      "cell_type": "code",
      "source": [
        "import pandas as pd\n",
        "import numpy as np\n",
        "\n",
        "from sklearn.linear_model import LogisticRegression\n",
        "from sklearn.naive_bayes import GaussianNB\n",
        "from sklearn.neighbors import KNeighborsClassifier\n",
        "from sklearn.svm import SVC\n",
        "from sklearn.tree import DecisionTreeClassifier\n",
        "from sklearn.ensemble import RandomForestClassifier\n",
        "from sklearn.ensemble import VotingClassifier\n",
        "\n",
        "from sklearn.model_selection import cross_val_score\n",
        "from sklearn.metrics import confusion_matrix\n",
        "from sklearn.preprocessing import StandardScaler\n",
        "\n",
        "import matplotlib.pyplot as plt\n",
        "from skopt import gp_minimize"
      ],
      "metadata": {
        "id": "3e8ZNUBjmhQ3"
      },
      "execution_count": 4,
      "outputs": []
    },
    {
      "cell_type": "code",
      "source": [
        "#baseline 76.555%\n",
        "#modelo 3 76.794%\n",
        "# modelo 5 77.5%"
      ],
      "metadata": {
        "id": "udaPQ2aJmnmK"
      },
      "execution_count": null,
      "outputs": []
    },
    {
      "cell_type": "markdown",
      "source": [
        "***\n",
        "## Load Data"
      ],
      "metadata": {
        "id": "7oJG-3vzmrja"
      }
    },
    {
      "cell_type": "code",
      "source": [
        "# abrir o datase de treino e teste\n",
        "\n",
        "train = pd.read_csv('sample_data/train.csv')\n",
        "test = pd.read_csv('sample_data/test.csv')"
      ],
      "metadata": {
        "id": "Pc2HZ-G4mpVH"
      },
      "execution_count": 5,
      "outputs": []
    },
    {
      "cell_type": "markdown",
      "source": [
        "***\n",
        "## Preprocessing"
      ],
      "metadata": {
        "id": "ZVfluLCMmv3Y"
      }
    },
    {
      "cell_type": "markdown",
      "source": [
        "### Descrição Estatística das Features Numéricas"
      ],
      "metadata": {
        "id": "8RSaWaDRm9M4"
      }
    },
    {
      "cell_type": "code",
      "source": [
        "# descrição estátistica das features núméricas\n",
        "est = train.describe()\n",
        "est"
      ],
      "metadata": {
        "colab": {
          "base_uri": "https://localhost:8080/",
          "height": 300
        },
        "id": "mljJRYGEmyoV",
        "outputId": "77f23653-1eb1-4ba8-f785-0d8cc100b7ee"
      },
      "execution_count": 6,
      "outputs": [
        {
          "output_type": "execute_result",
          "data": {
            "text/plain": [
              "       PassengerId    Survived      Pclass         Age       SibSp  \\\n",
              "count   891.000000  891.000000  891.000000  714.000000  891.000000   \n",
              "mean    446.000000    0.383838    2.308642   29.699118    0.523008   \n",
              "std     257.353842    0.486592    0.836071   14.526497    1.102743   \n",
              "min       1.000000    0.000000    1.000000    0.420000    0.000000   \n",
              "25%     223.500000    0.000000    2.000000   20.125000    0.000000   \n",
              "50%     446.000000    0.000000    3.000000   28.000000    0.000000   \n",
              "75%     668.500000    1.000000    3.000000   38.000000    1.000000   \n",
              "max     891.000000    1.000000    3.000000   80.000000    8.000000   \n",
              "\n",
              "            Parch        Fare  \n",
              "count  891.000000  891.000000  \n",
              "mean     0.381594   32.204208  \n",
              "std      0.806057   49.693429  \n",
              "min      0.000000    0.000000  \n",
              "25%      0.000000    7.910400  \n",
              "50%      0.000000   14.454200  \n",
              "75%      0.000000   31.000000  \n",
              "max      6.000000  512.329200  "
            ],
            "text/html": [
              "\n",
              "  <div id=\"df-926fd0c5-9fff-456d-9cf8-e837ffffa223\" class=\"colab-df-container\">\n",
              "    <div>\n",
              "<style scoped>\n",
              "    .dataframe tbody tr th:only-of-type {\n",
              "        vertical-align: middle;\n",
              "    }\n",
              "\n",
              "    .dataframe tbody tr th {\n",
              "        vertical-align: top;\n",
              "    }\n",
              "\n",
              "    .dataframe thead th {\n",
              "        text-align: right;\n",
              "    }\n",
              "</style>\n",
              "<table border=\"1\" class=\"dataframe\">\n",
              "  <thead>\n",
              "    <tr style=\"text-align: right;\">\n",
              "      <th></th>\n",
              "      <th>PassengerId</th>\n",
              "      <th>Survived</th>\n",
              "      <th>Pclass</th>\n",
              "      <th>Age</th>\n",
              "      <th>SibSp</th>\n",
              "      <th>Parch</th>\n",
              "      <th>Fare</th>\n",
              "    </tr>\n",
              "  </thead>\n",
              "  <tbody>\n",
              "    <tr>\n",
              "      <th>count</th>\n",
              "      <td>891.000000</td>\n",
              "      <td>891.000000</td>\n",
              "      <td>891.000000</td>\n",
              "      <td>714.000000</td>\n",
              "      <td>891.000000</td>\n",
              "      <td>891.000000</td>\n",
              "      <td>891.000000</td>\n",
              "    </tr>\n",
              "    <tr>\n",
              "      <th>mean</th>\n",
              "      <td>446.000000</td>\n",
              "      <td>0.383838</td>\n",
              "      <td>2.308642</td>\n",
              "      <td>29.699118</td>\n",
              "      <td>0.523008</td>\n",
              "      <td>0.381594</td>\n",
              "      <td>32.204208</td>\n",
              "    </tr>\n",
              "    <tr>\n",
              "      <th>std</th>\n",
              "      <td>257.353842</td>\n",
              "      <td>0.486592</td>\n",
              "      <td>0.836071</td>\n",
              "      <td>14.526497</td>\n",
              "      <td>1.102743</td>\n",
              "      <td>0.806057</td>\n",
              "      <td>49.693429</td>\n",
              "    </tr>\n",
              "    <tr>\n",
              "      <th>min</th>\n",
              "      <td>1.000000</td>\n",
              "      <td>0.000000</td>\n",
              "      <td>1.000000</td>\n",
              "      <td>0.420000</td>\n",
              "      <td>0.000000</td>\n",
              "      <td>0.000000</td>\n",
              "      <td>0.000000</td>\n",
              "    </tr>\n",
              "    <tr>\n",
              "      <th>25%</th>\n",
              "      <td>223.500000</td>\n",
              "      <td>0.000000</td>\n",
              "      <td>2.000000</td>\n",
              "      <td>20.125000</td>\n",
              "      <td>0.000000</td>\n",
              "      <td>0.000000</td>\n",
              "      <td>7.910400</td>\n",
              "    </tr>\n",
              "    <tr>\n",
              "      <th>50%</th>\n",
              "      <td>446.000000</td>\n",
              "      <td>0.000000</td>\n",
              "      <td>3.000000</td>\n",
              "      <td>28.000000</td>\n",
              "      <td>0.000000</td>\n",
              "      <td>0.000000</td>\n",
              "      <td>14.454200</td>\n",
              "    </tr>\n",
              "    <tr>\n",
              "      <th>75%</th>\n",
              "      <td>668.500000</td>\n",
              "      <td>1.000000</td>\n",
              "      <td>3.000000</td>\n",
              "      <td>38.000000</td>\n",
              "      <td>1.000000</td>\n",
              "      <td>0.000000</td>\n",
              "      <td>31.000000</td>\n",
              "    </tr>\n",
              "    <tr>\n",
              "      <th>max</th>\n",
              "      <td>891.000000</td>\n",
              "      <td>1.000000</td>\n",
              "      <td>3.000000</td>\n",
              "      <td>80.000000</td>\n",
              "      <td>8.000000</td>\n",
              "      <td>6.000000</td>\n",
              "      <td>512.329200</td>\n",
              "    </tr>\n",
              "  </tbody>\n",
              "</table>\n",
              "</div>\n",
              "    <div class=\"colab-df-buttons\">\n",
              "\n",
              "  <div class=\"colab-df-container\">\n",
              "    <button class=\"colab-df-convert\" onclick=\"convertToInteractive('df-926fd0c5-9fff-456d-9cf8-e837ffffa223')\"\n",
              "            title=\"Convert this dataframe to an interactive table.\"\n",
              "            style=\"display:none;\">\n",
              "\n",
              "  <svg xmlns=\"http://www.w3.org/2000/svg\" height=\"24px\" viewBox=\"0 -960 960 960\">\n",
              "    <path d=\"M120-120v-720h720v720H120Zm60-500h600v-160H180v160Zm220 220h160v-160H400v160Zm0 220h160v-160H400v160ZM180-400h160v-160H180v160Zm440 0h160v-160H620v160ZM180-180h160v-160H180v160Zm440 0h160v-160H620v160Z\"/>\n",
              "  </svg>\n",
              "    </button>\n",
              "\n",
              "  <style>\n",
              "    .colab-df-container {\n",
              "      display:flex;\n",
              "      gap: 12px;\n",
              "    }\n",
              "\n",
              "    .colab-df-convert {\n",
              "      background-color: #E8F0FE;\n",
              "      border: none;\n",
              "      border-radius: 50%;\n",
              "      cursor: pointer;\n",
              "      display: none;\n",
              "      fill: #1967D2;\n",
              "      height: 32px;\n",
              "      padding: 0 0 0 0;\n",
              "      width: 32px;\n",
              "    }\n",
              "\n",
              "    .colab-df-convert:hover {\n",
              "      background-color: #E2EBFA;\n",
              "      box-shadow: 0px 1px 2px rgba(60, 64, 67, 0.3), 0px 1px 3px 1px rgba(60, 64, 67, 0.15);\n",
              "      fill: #174EA6;\n",
              "    }\n",
              "\n",
              "    .colab-df-buttons div {\n",
              "      margin-bottom: 4px;\n",
              "    }\n",
              "\n",
              "    [theme=dark] .colab-df-convert {\n",
              "      background-color: #3B4455;\n",
              "      fill: #D2E3FC;\n",
              "    }\n",
              "\n",
              "    [theme=dark] .colab-df-convert:hover {\n",
              "      background-color: #434B5C;\n",
              "      box-shadow: 0px 1px 3px 1px rgba(0, 0, 0, 0.15);\n",
              "      filter: drop-shadow(0px 1px 2px rgba(0, 0, 0, 0.3));\n",
              "      fill: #FFFFFF;\n",
              "    }\n",
              "  </style>\n",
              "\n",
              "    <script>\n",
              "      const buttonEl =\n",
              "        document.querySelector('#df-926fd0c5-9fff-456d-9cf8-e837ffffa223 button.colab-df-convert');\n",
              "      buttonEl.style.display =\n",
              "        google.colab.kernel.accessAllowed ? 'block' : 'none';\n",
              "\n",
              "      async function convertToInteractive(key) {\n",
              "        const element = document.querySelector('#df-926fd0c5-9fff-456d-9cf8-e837ffffa223');\n",
              "        const dataTable =\n",
              "          await google.colab.kernel.invokeFunction('convertToInteractive',\n",
              "                                                    [key], {});\n",
              "        if (!dataTable) return;\n",
              "\n",
              "        const docLinkHtml = 'Like what you see? Visit the ' +\n",
              "          '<a target=\"_blank\" href=https://colab.research.google.com/notebooks/data_table.ipynb>data table notebook</a>'\n",
              "          + ' to learn more about interactive tables.';\n",
              "        element.innerHTML = '';\n",
              "        dataTable['output_type'] = 'display_data';\n",
              "        await google.colab.output.renderOutput(dataTable, element);\n",
              "        const docLink = document.createElement('div');\n",
              "        docLink.innerHTML = docLinkHtml;\n",
              "        element.appendChild(docLink);\n",
              "      }\n",
              "    </script>\n",
              "  </div>\n",
              "\n",
              "\n",
              "<div id=\"df-72fb1506-c2b6-480b-af19-8d4993bd3af8\">\n",
              "  <button class=\"colab-df-quickchart\" onclick=\"quickchart('df-72fb1506-c2b6-480b-af19-8d4993bd3af8')\"\n",
              "            title=\"Suggest charts\"\n",
              "            style=\"display:none;\">\n",
              "\n",
              "<svg xmlns=\"http://www.w3.org/2000/svg\" height=\"24px\"viewBox=\"0 0 24 24\"\n",
              "     width=\"24px\">\n",
              "    <g>\n",
              "        <path d=\"M19 3H5c-1.1 0-2 .9-2 2v14c0 1.1.9 2 2 2h14c1.1 0 2-.9 2-2V5c0-1.1-.9-2-2-2zM9 17H7v-7h2v7zm4 0h-2V7h2v10zm4 0h-2v-4h2v4z\"/>\n",
              "    </g>\n",
              "</svg>\n",
              "  </button>\n",
              "\n",
              "<style>\n",
              "  .colab-df-quickchart {\n",
              "      --bg-color: #E8F0FE;\n",
              "      --fill-color: #1967D2;\n",
              "      --hover-bg-color: #E2EBFA;\n",
              "      --hover-fill-color: #174EA6;\n",
              "      --disabled-fill-color: #AAA;\n",
              "      --disabled-bg-color: #DDD;\n",
              "  }\n",
              "\n",
              "  [theme=dark] .colab-df-quickchart {\n",
              "      --bg-color: #3B4455;\n",
              "      --fill-color: #D2E3FC;\n",
              "      --hover-bg-color: #434B5C;\n",
              "      --hover-fill-color: #FFFFFF;\n",
              "      --disabled-bg-color: #3B4455;\n",
              "      --disabled-fill-color: #666;\n",
              "  }\n",
              "\n",
              "  .colab-df-quickchart {\n",
              "    background-color: var(--bg-color);\n",
              "    border: none;\n",
              "    border-radius: 50%;\n",
              "    cursor: pointer;\n",
              "    display: none;\n",
              "    fill: var(--fill-color);\n",
              "    height: 32px;\n",
              "    padding: 0;\n",
              "    width: 32px;\n",
              "  }\n",
              "\n",
              "  .colab-df-quickchart:hover {\n",
              "    background-color: var(--hover-bg-color);\n",
              "    box-shadow: 0 1px 2px rgba(60, 64, 67, 0.3), 0 1px 3px 1px rgba(60, 64, 67, 0.15);\n",
              "    fill: var(--button-hover-fill-color);\n",
              "  }\n",
              "\n",
              "  .colab-df-quickchart-complete:disabled,\n",
              "  .colab-df-quickchart-complete:disabled:hover {\n",
              "    background-color: var(--disabled-bg-color);\n",
              "    fill: var(--disabled-fill-color);\n",
              "    box-shadow: none;\n",
              "  }\n",
              "\n",
              "  .colab-df-spinner {\n",
              "    border: 2px solid var(--fill-color);\n",
              "    border-color: transparent;\n",
              "    border-bottom-color: var(--fill-color);\n",
              "    animation:\n",
              "      spin 1s steps(1) infinite;\n",
              "  }\n",
              "\n",
              "  @keyframes spin {\n",
              "    0% {\n",
              "      border-color: transparent;\n",
              "      border-bottom-color: var(--fill-color);\n",
              "      border-left-color: var(--fill-color);\n",
              "    }\n",
              "    20% {\n",
              "      border-color: transparent;\n",
              "      border-left-color: var(--fill-color);\n",
              "      border-top-color: var(--fill-color);\n",
              "    }\n",
              "    30% {\n",
              "      border-color: transparent;\n",
              "      border-left-color: var(--fill-color);\n",
              "      border-top-color: var(--fill-color);\n",
              "      border-right-color: var(--fill-color);\n",
              "    }\n",
              "    40% {\n",
              "      border-color: transparent;\n",
              "      border-right-color: var(--fill-color);\n",
              "      border-top-color: var(--fill-color);\n",
              "    }\n",
              "    60% {\n",
              "      border-color: transparent;\n",
              "      border-right-color: var(--fill-color);\n",
              "    }\n",
              "    80% {\n",
              "      border-color: transparent;\n",
              "      border-right-color: var(--fill-color);\n",
              "      border-bottom-color: var(--fill-color);\n",
              "    }\n",
              "    90% {\n",
              "      border-color: transparent;\n",
              "      border-bottom-color: var(--fill-color);\n",
              "    }\n",
              "  }\n",
              "</style>\n",
              "\n",
              "  <script>\n",
              "    async function quickchart(key) {\n",
              "      const quickchartButtonEl =\n",
              "        document.querySelector('#' + key + ' button');\n",
              "      quickchartButtonEl.disabled = true;  // To prevent multiple clicks.\n",
              "      quickchartButtonEl.classList.add('colab-df-spinner');\n",
              "      try {\n",
              "        const charts = await google.colab.kernel.invokeFunction(\n",
              "            'suggestCharts', [key], {});\n",
              "      } catch (error) {\n",
              "        console.error('Error during call to suggestCharts:', error);\n",
              "      }\n",
              "      quickchartButtonEl.classList.remove('colab-df-spinner');\n",
              "      quickchartButtonEl.classList.add('colab-df-quickchart-complete');\n",
              "    }\n",
              "    (() => {\n",
              "      let quickchartButtonEl =\n",
              "        document.querySelector('#df-72fb1506-c2b6-480b-af19-8d4993bd3af8 button');\n",
              "      quickchartButtonEl.style.display =\n",
              "        google.colab.kernel.accessAllowed ? 'block' : 'none';\n",
              "    })();\n",
              "  </script>\n",
              "</div>\n",
              "\n",
              "  <div id=\"id_420f5962-85f3-42fd-bfbd-5e6058dda6db\">\n",
              "    <style>\n",
              "      .colab-df-generate {\n",
              "        background-color: #E8F0FE;\n",
              "        border: none;\n",
              "        border-radius: 50%;\n",
              "        cursor: pointer;\n",
              "        display: none;\n",
              "        fill: #1967D2;\n",
              "        height: 32px;\n",
              "        padding: 0 0 0 0;\n",
              "        width: 32px;\n",
              "      }\n",
              "\n",
              "      .colab-df-generate:hover {\n",
              "        background-color: #E2EBFA;\n",
              "        box-shadow: 0px 1px 2px rgba(60, 64, 67, 0.3), 0px 1px 3px 1px rgba(60, 64, 67, 0.15);\n",
              "        fill: #174EA6;\n",
              "      }\n",
              "\n",
              "      [theme=dark] .colab-df-generate {\n",
              "        background-color: #3B4455;\n",
              "        fill: #D2E3FC;\n",
              "      }\n",
              "\n",
              "      [theme=dark] .colab-df-generate:hover {\n",
              "        background-color: #434B5C;\n",
              "        box-shadow: 0px 1px 3px 1px rgba(0, 0, 0, 0.15);\n",
              "        filter: drop-shadow(0px 1px 2px rgba(0, 0, 0, 0.3));\n",
              "        fill: #FFFFFF;\n",
              "      }\n",
              "    </style>\n",
              "    <button class=\"colab-df-generate\" onclick=\"generateWithVariable('est')\"\n",
              "            title=\"Generate code using this dataframe.\"\n",
              "            style=\"display:none;\">\n",
              "\n",
              "  <svg xmlns=\"http://www.w3.org/2000/svg\" height=\"24px\"viewBox=\"0 0 24 24\"\n",
              "       width=\"24px\">\n",
              "    <path d=\"M7,19H8.4L18.45,9,17,7.55,7,17.6ZM5,21V16.75L18.45,3.32a2,2,0,0,1,2.83,0l1.4,1.43a1.91,1.91,0,0,1,.58,1.4,1.91,1.91,0,0,1-.58,1.4L9.25,21ZM18.45,9,17,7.55Zm-12,3A5.31,5.31,0,0,0,4.9,8.1,5.31,5.31,0,0,0,1,6.5,5.31,5.31,0,0,0,4.9,4.9,5.31,5.31,0,0,0,6.5,1,5.31,5.31,0,0,0,8.1,4.9,5.31,5.31,0,0,0,12,6.5,5.46,5.46,0,0,0,6.5,12Z\"/>\n",
              "  </svg>\n",
              "    </button>\n",
              "    <script>\n",
              "      (() => {\n",
              "      const buttonEl =\n",
              "        document.querySelector('#id_420f5962-85f3-42fd-bfbd-5e6058dda6db button.colab-df-generate');\n",
              "      buttonEl.style.display =\n",
              "        google.colab.kernel.accessAllowed ? 'block' : 'none';\n",
              "\n",
              "      buttonEl.onclick = () => {\n",
              "        google.colab.notebook.generateWithVariable('est');\n",
              "      }\n",
              "      })();\n",
              "    </script>\n",
              "  </div>\n",
              "\n",
              "    </div>\n",
              "  </div>\n"
            ],
            "application/vnd.google.colaboratory.intrinsic+json": {
              "type": "dataframe",
              "variable_name": "est",
              "summary": "{\n  \"name\": \"est\",\n  \"rows\": 8,\n  \"fields\": [\n    {\n      \"column\": \"PassengerId\",\n      \"properties\": {\n        \"dtype\": \"number\",\n        \"std\": 320.8159711429856,\n        \"min\": 1.0,\n        \"max\": 891.0,\n        \"num_unique_values\": 6,\n        \"samples\": [\n          891.0,\n          446.0,\n          668.5\n        ],\n        \"semantic_type\": \"\",\n        \"description\": \"\"\n      }\n    },\n    {\n      \"column\": \"Survived\",\n      \"properties\": {\n        \"dtype\": \"number\",\n        \"std\": 314.8713661874558,\n        \"min\": 0.0,\n        \"max\": 891.0,\n        \"num_unique_values\": 5,\n        \"samples\": [\n          0.3838383838383838,\n          1.0,\n          0.4865924542648585\n        ],\n        \"semantic_type\": \"\",\n        \"description\": \"\"\n      }\n    },\n    {\n      \"column\": \"Pclass\",\n      \"properties\": {\n        \"dtype\": \"number\",\n        \"std\": 314.2523437079693,\n        \"min\": 0.8360712409770513,\n        \"max\": 891.0,\n        \"num_unique_values\": 6,\n        \"samples\": [\n          891.0,\n          2.308641975308642,\n          3.0\n        ],\n        \"semantic_type\": \"\",\n        \"description\": \"\"\n      }\n    },\n    {\n      \"column\": \"Age\",\n      \"properties\": {\n        \"dtype\": \"number\",\n        \"std\": 242.9056731818781,\n        \"min\": 0.42,\n        \"max\": 714.0,\n        \"num_unique_values\": 8,\n        \"samples\": [\n          29.69911764705882,\n          28.0,\n          714.0\n        ],\n        \"semantic_type\": \"\",\n        \"description\": \"\"\n      }\n    },\n    {\n      \"column\": \"SibSp\",\n      \"properties\": {\n        \"dtype\": \"number\",\n        \"std\": 314.4908277465442,\n        \"min\": 0.0,\n        \"max\": 891.0,\n        \"num_unique_values\": 6,\n        \"samples\": [\n          891.0,\n          0.5230078563411896,\n          8.0\n        ],\n        \"semantic_type\": \"\",\n        \"description\": \"\"\n      }\n    },\n    {\n      \"column\": \"Parch\",\n      \"properties\": {\n        \"dtype\": \"number\",\n        \"std\": 314.65971717879,\n        \"min\": 0.0,\n        \"max\": 891.0,\n        \"num_unique_values\": 5,\n        \"samples\": [\n          0.38159371492704824,\n          6.0,\n          0.8060572211299559\n        ],\n        \"semantic_type\": \"\",\n        \"description\": \"\"\n      }\n    },\n    {\n      \"column\": \"Fare\",\n      \"properties\": {\n        \"dtype\": \"number\",\n        \"std\": 330.6256632228577,\n        \"min\": 0.0,\n        \"max\": 891.0,\n        \"num_unique_values\": 8,\n        \"samples\": [\n          32.204207968574636,\n          14.4542,\n          891.0\n        ],\n        \"semantic_type\": \"\",\n        \"description\": \"\"\n      }\n    }\n  ]\n}"
            }
          },
          "metadata": {},
          "execution_count": 6
        }
      ]
    },
    {
      "cell_type": "code",
      "source": [
        "print(train.info())"
      ],
      "metadata": {
        "colab": {
          "base_uri": "https://localhost:8080/"
        },
        "id": "vE4MZLWkm5g_",
        "outputId": "61c58bc5-2c52-43b8-a5a8-16f44c56a7d8"
      },
      "execution_count": 7,
      "outputs": [
        {
          "output_type": "stream",
          "name": "stdout",
          "text": [
            "<class 'pandas.core.frame.DataFrame'>\n",
            "RangeIndex: 891 entries, 0 to 890\n",
            "Data columns (total 12 columns):\n",
            " #   Column       Non-Null Count  Dtype  \n",
            "---  ------       --------------  -----  \n",
            " 0   PassengerId  891 non-null    int64  \n",
            " 1   Survived     891 non-null    int64  \n",
            " 2   Pclass       891 non-null    int64  \n",
            " 3   Name         891 non-null    object \n",
            " 4   Sex          891 non-null    object \n",
            " 5   Age          714 non-null    float64\n",
            " 6   SibSp        891 non-null    int64  \n",
            " 7   Parch        891 non-null    int64  \n",
            " 8   Ticket       891 non-null    object \n",
            " 9   Fare         891 non-null    float64\n",
            " 10  Cabin        204 non-null    object \n",
            " 11  Embarked     889 non-null    object \n",
            "dtypes: float64(2), int64(5), object(5)\n",
            "memory usage: 83.7+ KB\n",
            "None\n"
          ]
        }
      ]
    },
    {
      "cell_type": "markdown",
      "source": [
        "### Verificando valores nulos ou NAN"
      ],
      "metadata": {
        "id": "TkTAOO7InB96"
      }
    },
    {
      "cell_type": "code",
      "source": [
        "# verificar valores nulos ou NAN\n",
        "print(train.isnull().sum())"
      ],
      "metadata": {
        "colab": {
          "base_uri": "https://localhost:8080/"
        },
        "id": "bLDlgaDvm6yL",
        "outputId": "f8754970-e0bf-4385-b93b-004bd89189a3"
      },
      "execution_count": 8,
      "outputs": [
        {
          "output_type": "stream",
          "name": "stdout",
          "text": [
            "PassengerId      0\n",
            "Survived         0\n",
            "Pclass           0\n",
            "Name             0\n",
            "Sex              0\n",
            "Age            177\n",
            "SibSp            0\n",
            "Parch            0\n",
            "Ticket           0\n",
            "Fare             0\n",
            "Cabin          687\n",
            "Embarked         2\n",
            "dtype: int64\n"
          ]
        }
      ]
    },
    {
      "cell_type": "code",
      "source": [
        "print(test.isnull().sum())"
      ],
      "metadata": {
        "colab": {
          "base_uri": "https://localhost:8080/"
        },
        "id": "pvdHm6N1nFB9",
        "outputId": "57fce8e4-3101-4987-ca8f-85501042e735"
      },
      "execution_count": 9,
      "outputs": [
        {
          "output_type": "stream",
          "name": "stdout",
          "text": [
            "PassengerId      0\n",
            "Pclass           0\n",
            "Name             0\n",
            "Sex              0\n",
            "Age             86\n",
            "SibSp            0\n",
            "Parch            0\n",
            "Ticket           0\n",
            "Fare             1\n",
            "Cabin          327\n",
            "Embarked         0\n",
            "dtype: int64\n"
          ]
        }
      ]
    },
    {
      "cell_type": "code",
      "source": [
        "# mapear as colunas\n",
        "col = pd.Series(list(train.columns))"
      ],
      "metadata": {
        "id": "TBhLx78LnIKA"
      },
      "execution_count": 10,
      "outputs": []
    },
    {
      "cell_type": "code",
      "source": [
        "X_train = train.drop(['PassengerId', 'Survived'], axis = 1)\n",
        "X_test = test.drop(['PassengerId'], axis = 1)"
      ],
      "metadata": {
        "id": "FuOyW75DnLqx"
      },
      "execution_count": 11,
      "outputs": []
    },
    {
      "cell_type": "markdown",
      "source": [
        "***\n",
        "## Create Features"
      ],
      "metadata": {
        "id": "2OsMnoEOnUJH"
      }
    },
    {
      "cell_type": "code",
      "source": [
        "# criar feature\n",
        "\n",
        "def criar_features(X):\n",
        "  subs = {'female':1, 'male':0}\n",
        "  X['mulher'] = X['Sex'].replace(subs)\n",
        "\n",
        "  X['Fare'] = X['Fare'].fillna(X['Fare'].mean())\n",
        "\n",
        "  X['Age'] = X['Age'].fillna(X['Age'].mean())\n",
        "\n",
        "  X['Embarked'] = X['Embarked'].fillna('S')\n",
        "\n",
        "  subs = {'S':1, 'C':2, 'Q':3}\n",
        "  X['porto'] = X['Embarked'].replace(subs)\n",
        "\n",
        "  X['crianca'] = 1\n",
        "  X['crianca'] = np.where(X['Age'] < 12, 1, 0)\n",
        "\n",
        "  return X"
      ],
      "metadata": {
        "id": "nt27FCKGnTby"
      },
      "execution_count": 12,
      "outputs": []
    },
    {
      "cell_type": "code",
      "source": [
        "X_train = criar_features(X_train)\n",
        "X_test = criar_features(X_test)"
      ],
      "metadata": {
        "colab": {
          "base_uri": "https://localhost:8080/"
        },
        "id": "o3DWmcIBncHW",
        "outputId": "20bd87eb-cbd1-45a2-ebc1-fd264b7b213c"
      },
      "execution_count": 13,
      "outputs": [
        {
          "output_type": "stream",
          "name": "stderr",
          "text": [
            "<ipython-input-12-4ac394b943fa>:5: FutureWarning: Downcasting behavior in `replace` is deprecated and will be removed in a future version. To retain the old behavior, explicitly call `result.infer_objects(copy=False)`. To opt-in to the future behavior, set `pd.set_option('future.no_silent_downcasting', True)`\n",
            "  X['mulher'] = X['Sex'].replace(subs)\n",
            "<ipython-input-12-4ac394b943fa>:14: FutureWarning: Downcasting behavior in `replace` is deprecated and will be removed in a future version. To retain the old behavior, explicitly call `result.infer_objects(copy=False)`. To opt-in to the future behavior, set `pd.set_option('future.no_silent_downcasting', True)`\n",
            "  X['porto'] = X['Embarked'].replace(subs)\n",
            "<ipython-input-12-4ac394b943fa>:5: FutureWarning: Downcasting behavior in `replace` is deprecated and will be removed in a future version. To retain the old behavior, explicitly call `result.infer_objects(copy=False)`. To opt-in to the future behavior, set `pd.set_option('future.no_silent_downcasting', True)`\n",
            "  X['mulher'] = X['Sex'].replace(subs)\n",
            "<ipython-input-12-4ac394b943fa>:14: FutureWarning: Downcasting behavior in `replace` is deprecated and will be removed in a future version. To retain the old behavior, explicitly call `result.infer_objects(copy=False)`. To opt-in to the future behavior, set `pd.set_option('future.no_silent_downcasting', True)`\n",
            "  X['porto'] = X['Embarked'].replace(subs)\n"
          ]
        }
      ]
    },
    {
      "cell_type": "markdown",
      "source": [
        "***\n",
        "## Select Features"
      ],
      "metadata": {
        "id": "TZi7-_b4ndhP"
      }
    },
    {
      "cell_type": "code",
      "source": [
        "# Selecionar as features\n",
        "\n",
        "features = ['Pclass', 'Age', 'SibSp',\n",
        "       'Parch', 'Fare', 'mulher', 'porto', 'crianca']\n",
        "\n",
        "X_train = X_train[features]\n",
        "X_test = X_test[features]\n",
        "\n",
        "y_train = train['Survived']"
      ],
      "metadata": {
        "id": "XE5rpehSngo1"
      },
      "execution_count": 14,
      "outputs": []
    },
    {
      "cell_type": "markdown",
      "source": [
        "***\n",
        "## Visualize"
      ],
      "metadata": {
        "id": "fFvRVMsfnncU"
      }
    },
    {
      "cell_type": "code",
      "source": [
        "# Visualização\n",
        "\n",
        "for i in X_train.columns:\n",
        "    plt.hist(X_train[i])\n",
        "    plt.title(i)\n",
        "    plt.show()\n"
      ],
      "metadata": {
        "colab": {
          "base_uri": "https://localhost:8080/",
          "height": 1000
        },
        "id": "5RpBtnYJnpjO",
        "outputId": "9191e6f3-cf84-4948-d61f-d16a789b7462"
      },
      "execution_count": 15,
      "outputs": [
        {
          "output_type": "display_data",
          "data": {
            "text/plain": [
              "<Figure size 640x480 with 1 Axes>"
            ],
            "image/png": "[encoded data removed]"
          },
          "metadata": {}
        },
        {
          "output_type": "display_data",
          "data": {
            "text/plain": [
              "<Figure size 640x480 with 1 Axes>"
            ],
            "image/png": "[encoded data removed]"
          },
          "metadata": {}
        },
        {
          "output_type": "display_data",
          "data": {
            "text/plain": [
              "<Figure size 640x480 with 1 Axes>"
            ],
            "image/png": "[encoded data removed]"
          },
          "metadata": {}
        },
        {
          "output_type": "display_data",
          "data": {
            "text/plain": [
              "<Figure size 640x480 with 1 Axes>"
            ],
            "image/png": "[encoded data removed]"
          },
          "metadata": {}
        },
        {
          "output_type": "display_data",
          "data": {
            "text/plain": [
              "<Figure size 640x480 with 1 Axes>"
            ],
            "image/png": "[encoded data removed]"
          },
          "metadata": {}
        },
        {
          "output_type": "display_data",
          "data": {
            "text/plain": [
              "<Figure size 640x480 with 1 Axes>"
            ],
            "image/png": "[encoded data removed]"
          },
          "metadata": {}
        },
        {
          "output_type": "display_data",
          "data": {
            "text/plain": [
              "<Figure size 640x480 with 1 Axes>"
            ],
            "image/png": "[encoded data removed]"
          },
          "metadata": {}
        },
        {
          "output_type": "display_data",
          "data": {
            "text/plain": [
              "<Figure size 640x480 with 1 Axes>"
            ],
            "image/png": "[encoded data removed]"
          },
          "metadata": {}
        }
      ]
    },
    {
      "cell_type": "code",
      "source": [
        "# Groupy\n",
        "\n",
        "gp = train.groupby(['Survived']).count()\n",
        "gp"
      ],
      "metadata": {
        "colab": {
          "base_uri": "https://localhost:8080/",
          "height": 143
        },
        "id": "BVZ_N01En1SG",
        "outputId": "4113a74b-2fd3-48fb-a272-80671e64e24c"
      },
      "execution_count": 16,
      "outputs": [
        {
          "output_type": "execute_result",
          "data": {
            "text/plain": [
              "          PassengerId  Pclass  Name  Sex  Age  SibSp  Parch  Ticket  Fare  \\\n",
              "Survived                                                                    \n",
              "0                 549     549   549  549  424    549    549     549   549   \n",
              "1                 342     342   342  342  290    342    342     342   342   \n",
              "\n",
              "          Cabin  Embarked  \n",
              "Survived                   \n",
              "0            68       549  \n",
              "1           136       340  "
            ],
            "text/html": [
              "\n",
              "  <div id=\"df-b4f54682-3faa-4a9a-8050-dbaf4f1ccf08\" class=\"colab-df-container\">\n",
              "    <div>\n",
              "<style scoped>\n",
              "    .dataframe tbody tr th:only-of-type {\n",
              "        vertical-align: middle;\n",
              "    }\n",
              "\n",
              "    .dataframe tbody tr th {\n",
              "        vertical-align: top;\n",
              "    }\n",
              "\n",
              "    .dataframe thead th {\n",
              "        text-align: right;\n",
              "    }\n",
              "</style>\n",
              "<table border=\"1\" class=\"dataframe\">\n",
              "  <thead>\n",
              "    <tr style=\"text-align: right;\">\n",
              "      <th></th>\n",
              "      <th>PassengerId</th>\n",
              "      <th>Pclass</th>\n",
              "      <th>Name</th>\n",
              "      <th>Sex</th>\n",
              "      <th>Age</th>\n",
              "      <th>SibSp</th>\n",
              "      <th>Parch</th>\n",
              "      <th>Ticket</th>\n",
              "      <th>Fare</th>\n",
              "      <th>Cabin</th>\n",
              "      <th>Embarked</th>\n",
              "    </tr>\n",
              "    <tr>\n",
              "      <th>Survived</th>\n",
              "      <th></th>\n",
              "      <th></th>\n",
              "      <th></th>\n",
              "      <th></th>\n",
              "      <th></th>\n",
              "      <th></th>\n",
              "      <th></th>\n",
              "      <th></th>\n",
              "      <th></th>\n",
              "      <th></th>\n",
              "      <th></th>\n",
              "    </tr>\n",
              "  </thead>\n",
              "  <tbody>\n",
              "    <tr>\n",
              "      <th>0</th>\n",
              "      <td>549</td>\n",
              "      <td>549</td>\n",
              "      <td>549</td>\n",
              "      <td>549</td>\n",
              "      <td>424</td>\n",
              "      <td>549</td>\n",
              "      <td>549</td>\n",
              "      <td>549</td>\n",
              "      <td>549</td>\n",
              "      <td>68</td>\n",
              "      <td>549</td>\n",
              "    </tr>\n",
              "    <tr>\n",
              "      <th>1</th>\n",
              "      <td>342</td>\n",
              "      <td>342</td>\n",
              "      <td>342</td>\n",
              "      <td>342</td>\n",
              "      <td>290</td>\n",
              "      <td>342</td>\n",
              "      <td>342</td>\n",
              "      <td>342</td>\n",
              "      <td>342</td>\n",
              "      <td>136</td>\n",
              "      <td>340</td>\n",
              "    </tr>\n",
              "  </tbody>\n",
              "</table>\n",
              "</div>\n",
              "    <div class=\"colab-df-buttons\">\n",
              "\n",
              "  <div class=\"colab-df-container\">\n",
              "    <button class=\"colab-df-convert\" onclick=\"convertToInteractive('df-b4f54682-3faa-4a9a-8050-dbaf4f1ccf08')\"\n",
              "            title=\"Convert this dataframe to an interactive table.\"\n",
              "            style=\"display:none;\">\n",
              "\n",
              "  <svg xmlns=\"http://www.w3.org/2000/svg\" height=\"24px\" viewBox=\"0 -960 960 960\">\n",
              "    <path d=\"M120-120v-720h720v720H120Zm60-500h600v-160H180v160Zm220 220h160v-160H400v160Zm0 220h160v-160H400v160ZM180-400h160v-160H180v160Zm440 0h160v-160H620v160ZM180-180h160v-160H180v160Zm440 0h160v-160H620v160Z\"/>\n",
              "  </svg>\n",
              "    </button>\n",
              "\n",
              "  <style>\n",
              "    .colab-df-container {\n",
              "      display:flex;\n",
              "      gap: 12px;\n",
              "    }\n",
              "\n",
              "    .colab-df-convert {\n",
              "      background-color: #E8F0FE;\n",
              "      border: none;\n",
              "      border-radius: 50%;\n",
              "      cursor: pointer;\n",
              "      display: none;\n",
              "      fill: #1967D2;\n",
              "      height: 32px;\n",
              "      padding: 0 0 0 0;\n",
              "      width: 32px;\n",
              "    }\n",
              "\n",
              "    .colab-df-convert:hover {\n",
              "      background-color: #E2EBFA;\n",
              "      box-shadow: 0px 1px 2px rgba(60, 64, 67, 0.3), 0px 1px 3px 1px rgba(60, 64, 67, 0.15);\n",
              "      fill: #174EA6;\n",
              "    }\n",
              "\n",
              "    .colab-df-buttons div {\n",
              "      margin-bottom: 4px;\n",
              "    }\n",
              "\n",
              "    [theme=dark] .colab-df-convert {\n",
              "      background-color: #3B4455;\n",
              "      fill: #D2E3FC;\n",
              "    }\n",
              "\n",
              "    [theme=dark] .colab-df-convert:hover {\n",
              "      background-color: #434B5C;\n",
              "      box-shadow: 0px 1px 3px 1px rgba(0, 0, 0, 0.15);\n",
              "      filter: drop-shadow(0px 1px 2px rgba(0, 0, 0, 0.3));\n",
              "      fill: #FFFFFF;\n",
              "    }\n",
              "  </style>\n",
              "\n",
              "    <script>\n",
              "      const buttonEl =\n",
              "        document.querySelector('#df-b4f54682-3faa-4a9a-8050-dbaf4f1ccf08 button.colab-df-convert');\n",
              "      buttonEl.style.display =\n",
              "        google.colab.kernel.accessAllowed ? 'block' : 'none';\n",
              "\n",
              "      async function convertToInteractive(key) {\n",
              "        const element = document.querySelector('#df-b4f54682-3faa-4a9a-8050-dbaf4f1ccf08');\n",
              "        const dataTable =\n",
              "          await google.colab.kernel.invokeFunction('convertToInteractive',\n",
              "                                                    [key], {});\n",
              "        if (!dataTable) return;\n",
              "\n",
              "        const docLinkHtml = 'Like what you see? Visit the ' +\n",
              "          '<a target=\"_blank\" href=https://colab.research.google.com/notebooks/data_table.ipynb>data table notebook</a>'\n",
              "          + ' to learn more about interactive tables.';\n",
              "        element.innerHTML = '';\n",
              "        dataTable['output_type'] = 'display_data';\n",
              "        await google.colab.output.renderOutput(dataTable, element);\n",
              "        const docLink = document.createElement('div');\n",
              "        docLink.innerHTML = docLinkHtml;\n",
              "        element.appendChild(docLink);\n",
              "      }\n",
              "    </script>\n",
              "  </div>\n",
              "\n",
              "\n",
              "<div id=\"df-3dea71a4-edbe-4656-a8d0-36a131d646d6\">\n",
              "  <button class=\"colab-df-quickchart\" onclick=\"quickchart('df-3dea71a4-edbe-4656-a8d0-36a131d646d6')\"\n",
              "            title=\"Suggest charts\"\n",
              "            style=\"display:none;\">\n",
              "\n",
              "<svg xmlns=\"http://www.w3.org/2000/svg\" height=\"24px\"viewBox=\"0 0 24 24\"\n",
              "     width=\"24px\">\n",
              "    <g>\n",
              "        <path d=\"M19 3H5c-1.1 0-2 .9-2 2v14c0 1.1.9 2 2 2h14c1.1 0 2-.9 2-2V5c0-1.1-.9-2-2-2zM9 17H7v-7h2v7zm4 0h-2V7h2v10zm4 0h-2v-4h2v4z\"/>\n",
              "    </g>\n",
              "</svg>\n",
              "  </button>\n",
              "\n",
              "<style>\n",
              "  .colab-df-quickchart {\n",
              "      --bg-color: #E8F0FE;\n",
              "      --fill-color: #1967D2;\n",
              "      --hover-bg-color: #E2EBFA;\n",
              "      --hover-fill-color: #174EA6;\n",
              "      --disabled-fill-color: #AAA;\n",
              "      --disabled-bg-color: #DDD;\n",
              "  }\n",
              "\n",
              "  [theme=dark] .colab-df-quickchart {\n",
              "      --bg-color: #3B4455;\n",
              "      --fill-color: #D2E3FC;\n",
              "      --hover-bg-color: #434B5C;\n",
              "      --hover-fill-color: #FFFFFF;\n",
              "      --disabled-bg-color: #3B4455;\n",
              "      --disabled-fill-color: #666;\n",
              "  }\n",
              "\n",
              "  .colab-df-quickchart {\n",
              "    background-color: var(--bg-color);\n",
              "    border: none;\n",
              "    border-radius: 50%;\n",
              "    cursor: pointer;\n",
              "    display: none;\n",
              "    fill: var(--fill-color);\n",
              "    height: 32px;\n",
              "    padding: 0;\n",
              "    width: 32px;\n",
              "  }\n",
              "\n",
              "  .colab-df-quickchart:hover {\n",
              "    background-color: var(--hover-bg-color);\n",
              "    box-shadow: 0 1px 2px rgba(60, 64, 67, 0.3), 0 1px 3px 1px rgba(60, 64, 67, 0.15);\n",
              "    fill: var(--button-hover-fill-color);\n",
              "  }\n",
              "\n",
              "  .colab-df-quickchart-complete:disabled,\n",
              "  .colab-df-quickchart-complete:disabled:hover {\n",
              "    background-color: var(--disabled-bg-color);\n",
              "    fill: var(--disabled-fill-color);\n",
              "    box-shadow: none;\n",
              "  }\n",
              "\n",
              "  .colab-df-spinner {\n",
              "    border: 2px solid var(--fill-color);\n",
              "    border-color: transparent;\n",
              "    border-bottom-color: var(--fill-color);\n",
              "    animation:\n",
              "      spin 1s steps(1) infinite;\n",
              "  }\n",
              "\n",
              "  @keyframes spin {\n",
              "    0% {\n",
              "      border-color: transparent;\n",
              "      border-bottom-color: var(--fill-color);\n",
              "      border-left-color: var(--fill-color);\n",
              "    }\n",
              "    20% {\n",
              "      border-color: transparent;\n",
              "      border-left-color: var(--fill-color);\n",
              "      border-top-color: var(--fill-color);\n",
              "    }\n",
              "    30% {\n",
              "      border-color: transparent;\n",
              "      border-left-color: var(--fill-color);\n",
              "      border-top-color: var(--fill-color);\n",
              "      border-right-color: var(--fill-color);\n",
              "    }\n",
              "    40% {\n",
              "      border-color: transparent;\n",
              "      border-right-color: var(--fill-color);\n",
              "      border-top-color: var(--fill-color);\n",
              "    }\n",
              "    60% {\n",
              "      border-color: transparent;\n",
              "      border-right-color: var(--fill-color);\n",
              "    }\n",
              "    80% {\n",
              "      border-color: transparent;\n",
              "      border-right-color: var(--fill-color);\n",
              "      border-bottom-color: var(--fill-color);\n",
              "    }\n",
              "    90% {\n",
              "      border-color: transparent;\n",
              "      border-bottom-color: var(--fill-color);\n",
              "    }\n",
              "  }\n",
              "</style>\n",
              "\n",
              "  <script>\n",
              "    async function quickchart(key) {\n",
              "      const quickchartButtonEl =\n",
              "        document.querySelector('#' + key + ' button');\n",
              "      quickchartButtonEl.disabled = true;  // To prevent multiple clicks.\n",
              "      quickchartButtonEl.classList.add('colab-df-spinner');\n",
              "      try {\n",
              "        const charts = await google.colab.kernel.invokeFunction(\n",
              "            'suggestCharts', [key], {});\n",
              "      } catch (error) {\n",
              "        console.error('Error during call to suggestCharts:', error);\n",
              "      }\n",
              "      quickchartButtonEl.classList.remove('colab-df-spinner');\n",
              "      quickchartButtonEl.classList.add('colab-df-quickchart-complete');\n",
              "    }\n",
              "    (() => {\n",
              "      let quickchartButtonEl =\n",
              "        document.querySelector('#df-3dea71a4-edbe-4656-a8d0-36a131d646d6 button');\n",
              "      quickchartButtonEl.style.display =\n",
              "        google.colab.kernel.accessAllowed ? 'block' : 'none';\n",
              "    })();\n",
              "  </script>\n",
              "</div>\n",
              "\n",
              "  <div id=\"id_0c4a0623-931e-4c7c-881f-49e80f361461\">\n",
              "    <style>\n",
              "      .colab-df-generate {\n",
              "        background-color: #E8F0FE;\n",
              "        border: none;\n",
              "        border-radius: 50%;\n",
              "        cursor: pointer;\n",
              "        display: none;\n",
              "        fill: #1967D2;\n",
              "        height: 32px;\n",
              "        padding: 0 0 0 0;\n",
              "        width: 32px;\n",
              "      }\n",
              "\n",
              "      .colab-df-generate:hover {\n",
              "        background-color: #E2EBFA;\n",
              "        box-shadow: 0px 1px 2px rgba(60, 64, 67, 0.3), 0px 1px 3px 1px rgba(60, 64, 67, 0.15);\n",
              "        fill: #174EA6;\n",
              "      }\n",
              "\n",
              "      [theme=dark] .colab-df-generate {\n",
              "        background-color: #3B4455;\n",
              "        fill: #D2E3FC;\n",
              "      }\n",
              "\n",
              "      [theme=dark] .colab-df-generate:hover {\n",
              "        background-color: #434B5C;\n",
              "        box-shadow: 0px 1px 3px 1px rgba(0, 0, 0, 0.15);\n",
              "        filter: drop-shadow(0px 1px 2px rgba(0, 0, 0, 0.3));\n",
              "        fill: #FFFFFF;\n",
              "      }\n",
              "    </style>\n",
              "    <button class=\"colab-df-generate\" onclick=\"generateWithVariable('gp')\"\n",
              "            title=\"Generate code using this dataframe.\"\n",
              "            style=\"display:none;\">\n",
              "\n",
              "  <svg xmlns=\"http://www.w3.org/2000/svg\" height=\"24px\"viewBox=\"0 0 24 24\"\n",
              "       width=\"24px\">\n",
              "    <path d=\"M7,19H8.4L18.45,9,17,7.55,7,17.6ZM5,21V16.75L18.45,3.32a2,2,0,0,1,2.83,0l1.4,1.43a1.91,1.91,0,0,1,.58,1.4,1.91,1.91,0,0,1-.58,1.4L9.25,21ZM18.45,9,17,7.55Zm-12,3A5.31,5.31,0,0,0,4.9,8.1,5.31,5.31,0,0,0,1,6.5,5.31,5.31,0,0,0,4.9,4.9,5.31,5.31,0,0,0,6.5,1,5.31,5.31,0,0,0,8.1,4.9,5.31,5.31,0,0,0,12,6.5,5.46,5.46,0,0,0,6.5,12Z\"/>\n",
              "  </svg>\n",
              "    </button>\n",
              "    <script>\n",
              "      (() => {\n",
              "      const buttonEl =\n",
              "        document.querySelector('#id_0c4a0623-931e-4c7c-881f-49e80f361461 button.colab-df-generate');\n",
              "      buttonEl.style.display =\n",
              "        google.colab.kernel.accessAllowed ? 'block' : 'none';\n",
              "\n",
              "      buttonEl.onclick = () => {\n",
              "        google.colab.notebook.generateWithVariable('gp');\n",
              "      }\n",
              "      })();\n",
              "    </script>\n",
              "  </div>\n",
              "\n",
              "    </div>\n",
              "  </div>\n"
            ],
            "application/vnd.google.colaboratory.intrinsic+json": {
              "type": "dataframe",
              "variable_name": "gp",
              "summary": "{\n  \"name\": \"gp\",\n  \"rows\": 2,\n  \"fields\": [\n    {\n      \"column\": \"Survived\",\n      \"properties\": {\n        \"dtype\": \"number\",\n        \"std\": 0,\n        \"min\": 0,\n        \"max\": 1,\n        \"num_unique_values\": 2,\n        \"samples\": [\n          1,\n          0\n        ],\n        \"semantic_type\": \"\",\n        \"description\": \"\"\n      }\n    },\n    {\n      \"column\": \"PassengerId\",\n      \"properties\": {\n        \"dtype\": \"number\",\n        \"std\": 146,\n        \"min\": 342,\n        \"max\": 549,\n        \"num_unique_values\": 2,\n        \"samples\": [\n          342,\n          549\n        ],\n        \"semantic_type\": \"\",\n        \"description\": \"\"\n      }\n    },\n    {\n      \"column\": \"Pclass\",\n      \"properties\": {\n        \"dtype\": \"number\",\n        \"std\": 146,\n        \"min\": 342,\n        \"max\": 549,\n        \"num_unique_values\": 2,\n        \"samples\": [\n          342,\n          549\n        ],\n        \"semantic_type\": \"\",\n        \"description\": \"\"\n      }\n    },\n    {\n      \"column\": \"Name\",\n      \"properties\": {\n        \"dtype\": \"number\",\n        \"std\": 146,\n        \"min\": 342,\n        \"max\": 549,\n        \"num_unique_values\": 2,\n        \"samples\": [\n          342,\n          549\n        ],\n        \"semantic_type\": \"\",\n        \"description\": \"\"\n      }\n    },\n    {\n      \"column\": \"Sex\",\n      \"properties\": {\n        \"dtype\": \"number\",\n        \"std\": 146,\n        \"min\": 342,\n        \"max\": 549,\n        \"num_unique_values\": 2,\n        \"samples\": [\n          342,\n          549\n        ],\n        \"semantic_type\": \"\",\n        \"description\": \"\"\n      }\n    },\n    {\n      \"column\": \"Age\",\n      \"properties\": {\n        \"dtype\": \"number\",\n        \"std\": 94,\n        \"min\": 290,\n        \"max\": 424,\n        \"num_unique_values\": 2,\n        \"samples\": [\n          290,\n          424\n        ],\n        \"semantic_type\": \"\",\n        \"description\": \"\"\n      }\n    },\n    {\n      \"column\": \"SibSp\",\n      \"properties\": {\n        \"dtype\": \"number\",\n        \"std\": 146,\n        \"min\": 342,\n        \"max\": 549,\n        \"num_unique_values\": 2,\n        \"samples\": [\n          342,\n          549\n        ],\n        \"semantic_type\": \"\",\n        \"description\": \"\"\n      }\n    },\n    {\n      \"column\": \"Parch\",\n      \"properties\": {\n        \"dtype\": \"number\",\n        \"std\": 146,\n        \"min\": 342,\n        \"max\": 549,\n        \"num_unique_values\": 2,\n        \"samples\": [\n          342,\n          549\n        ],\n        \"semantic_type\": \"\",\n        \"description\": \"\"\n      }\n    },\n    {\n      \"column\": \"Ticket\",\n      \"properties\": {\n        \"dtype\": \"number\",\n        \"std\": 146,\n        \"min\": 342,\n        \"max\": 549,\n        \"num_unique_values\": 2,\n        \"samples\": [\n          342,\n          549\n        ],\n        \"semantic_type\": \"\",\n        \"description\": \"\"\n      }\n    },\n    {\n      \"column\": \"Fare\",\n      \"properties\": {\n        \"dtype\": \"number\",\n        \"std\": 146,\n        \"min\": 342,\n        \"max\": 549,\n        \"num_unique_values\": 2,\n        \"samples\": [\n          342,\n          549\n        ],\n        \"semantic_type\": \"\",\n        \"description\": \"\"\n      }\n    },\n    {\n      \"column\": \"Cabin\",\n      \"properties\": {\n        \"dtype\": \"number\",\n        \"std\": 48,\n        \"min\": 68,\n        \"max\": 136,\n        \"num_unique_values\": 2,\n        \"samples\": [\n          136,\n          68\n        ],\n        \"semantic_type\": \"\",\n        \"description\": \"\"\n      }\n    },\n    {\n      \"column\": \"Embarked\",\n      \"properties\": {\n        \"dtype\": \"number\",\n        \"std\": 147,\n        \"min\": 340,\n        \"max\": 549,\n        \"num_unique_values\": 2,\n        \"samples\": [\n          340,\n          549\n        ],\n        \"semantic_type\": \"\",\n        \"description\": \"\"\n      }\n    }\n  ]\n}"
            }
          },
          "metadata": {},
          "execution_count": 16
        }
      ]
    },
    {
      "cell_type": "code",
      "source": [
        "# pivot_table\n",
        "\n",
        "table = pd.pivot_table(train, index = ['Survived'], columns = ['Pclass'], values = 'PassengerId', aggfunc = 'count')\n",
        "table"
      ],
      "metadata": {
        "colab": {
          "base_uri": "https://localhost:8080/",
          "height": 143
        },
        "id": "wSRK6O6Bn3L1",
        "outputId": "a7070e04-f66c-46c8-d44c-0f2178fb1635"
      },
      "execution_count": 17,
      "outputs": [
        {
          "output_type": "execute_result",
          "data": {
            "text/plain": [
              "Pclass      1   2    3\n",
              "Survived              \n",
              "0          80  97  372\n",
              "1         136  87  119"
            ],
            "text/html": [
              "\n",
              "  <div id=\"df-0ece6e5e-ee6f-4c67-a961-0a04e551bddb\" class=\"colab-df-container\">\n",
              "    <div>\n",
              "<style scoped>\n",
              "    .dataframe tbody tr th:only-of-type {\n",
              "        vertical-align: middle;\n",
              "    }\n",
              "\n",
              "    .dataframe tbody tr th {\n",
              "        vertical-align: top;\n",
              "    }\n",
              "\n",
              "    .dataframe thead th {\n",
              "        text-align: right;\n",
              "    }\n",
              "</style>\n",
              "<table border=\"1\" class=\"dataframe\">\n",
              "  <thead>\n",
              "    <tr style=\"text-align: right;\">\n",
              "      <th>Pclass</th>\n",
              "      <th>1</th>\n",
              "      <th>2</th>\n",
              "      <th>3</th>\n",
              "    </tr>\n",
              "    <tr>\n",
              "      <th>Survived</th>\n",
              "      <th></th>\n",
              "      <th></th>\n",
              "      <th></th>\n",
              "    </tr>\n",
              "  </thead>\n",
              "  <tbody>\n",
              "    <tr>\n",
              "      <th>0</th>\n",
              "      <td>80</td>\n",
              "      <td>97</td>\n",
              "      <td>372</td>\n",
              "    </tr>\n",
              "    <tr>\n",
              "      <th>1</th>\n",
              "      <td>136</td>\n",
              "      <td>87</td>\n",
              "      <td>119</td>\n",
              "    </tr>\n",
              "  </tbody>\n",
              "</table>\n",
              "</div>\n",
              "    <div class=\"colab-df-buttons\">\n",
              "\n",
              "  <div class=\"colab-df-container\">\n",
              "    <button class=\"colab-df-convert\" onclick=\"convertToInteractive('df-0ece6e5e-ee6f-4c67-a961-0a04e551bddb')\"\n",
              "            title=\"Convert this dataframe to an interactive table.\"\n",
              "            style=\"display:none;\">\n",
              "\n",
              "  <svg xmlns=\"http://www.w3.org/2000/svg\" height=\"24px\" viewBox=\"0 -960 960 960\">\n",
              "    <path d=\"M120-120v-720h720v720H120Zm60-500h600v-160H180v160Zm220 220h160v-160H400v160Zm0 220h160v-160H400v160ZM180-400h160v-160H180v160Zm440 0h160v-160H620v160ZM180-180h160v-160H180v160Zm440 0h160v-160H620v160Z\"/>\n",
              "  </svg>\n",
              "    </button>\n",
              "\n",
              "  <style>\n",
              "    .colab-df-container {\n",
              "      display:flex;\n",
              "      gap: 12px;\n",
              "    }\n",
              "\n",
              "    .colab-df-convert {\n",
              "      background-color: #E8F0FE;\n",
              "      border: none;\n",
              "      border-radius: 50%;\n",
              "      cursor: pointer;\n",
              "      display: none;\n",
              "      fill: #1967D2;\n",
              "      height: 32px;\n",
              "      padding: 0 0 0 0;\n",
              "      width: 32px;\n",
              "    }\n",
              "\n",
              "    .colab-df-convert:hover {\n",
              "      background-color: #E2EBFA;\n",
              "      box-shadow: 0px 1px 2px rgba(60, 64, 67, 0.3), 0px 1px 3px 1px rgba(60, 64, 67, 0.15);\n",
              "      fill: #174EA6;\n",
              "    }\n",
              "\n",
              "    .colab-df-buttons div {\n",
              "      margin-bottom: 4px;\n",
              "    }\n",
              "\n",
              "    [theme=dark] .colab-df-convert {\n",
              "      background-color: #3B4455;\n",
              "      fill: #D2E3FC;\n",
              "    }\n",
              "\n",
              "    [theme=dark] .colab-df-convert:hover {\n",
              "      background-color: #434B5C;\n",
              "      box-shadow: 0px 1px 3px 1px rgba(0, 0, 0, 0.15);\n",
              "      filter: drop-shadow(0px 1px 2px rgba(0, 0, 0, 0.3));\n",
              "      fill: #FFFFFF;\n",
              "    }\n",
              "  </style>\n",
              "\n",
              "    <script>\n",
              "      const buttonEl =\n",
              "        document.querySelector('#df-0ece6e5e-ee6f-4c67-a961-0a04e551bddb button.colab-df-convert');\n",
              "      buttonEl.style.display =\n",
              "        google.colab.kernel.accessAllowed ? 'block' : 'none';\n",
              "\n",
              "      async function convertToInteractive(key) {\n",
              "        const element = document.querySelector('#df-0ece6e5e-ee6f-4c67-a961-0a04e551bddb');\n",
              "        const dataTable =\n",
              "          await google.colab.kernel.invokeFunction('convertToInteractive',\n",
              "                                                    [key], {});\n",
              "        if (!dataTable) return;\n",
              "\n",
              "        const docLinkHtml = 'Like what you see? Visit the ' +\n",
              "          '<a target=\"_blank\" href=https://colab.research.google.com/notebooks/data_table.ipynb>data table notebook</a>'\n",
              "          + ' to learn more about interactive tables.';\n",
              "        element.innerHTML = '';\n",
              "        dataTable['output_type'] = 'display_data';\n",
              "        await google.colab.output.renderOutput(dataTable, element);\n",
              "        const docLink = document.createElement('div');\n",
              "        docLink.innerHTML = docLinkHtml;\n",
              "        element.appendChild(docLink);\n",
              "      }\n",
              "    </script>\n",
              "  </div>\n",
              "\n",
              "\n",
              "<div id=\"df-39750d02-2de0-4008-8881-6049e895a842\">\n",
              "  <button class=\"colab-df-quickchart\" onclick=\"quickchart('df-39750d02-2de0-4008-8881-6049e895a842')\"\n",
              "            title=\"Suggest charts\"\n",
              "            style=\"display:none;\">\n",
              "\n",
              "<svg xmlns=\"http://www.w3.org/2000/svg\" height=\"24px\"viewBox=\"0 0 24 24\"\n",
              "     width=\"24px\">\n",
              "    <g>\n",
              "        <path d=\"M19 3H5c-1.1 0-2 .9-2 2v14c0 1.1.9 2 2 2h14c1.1 0 2-.9 2-2V5c0-1.1-.9-2-2-2zM9 17H7v-7h2v7zm4 0h-2V7h2v10zm4 0h-2v-4h2v4z\"/>\n",
              "    </g>\n",
              "</svg>\n",
              "  </button>\n",
              "\n",
              "<style>\n",
              "  .colab-df-quickchart {\n",
              "      --bg-color: #E8F0FE;\n",
              "      --fill-color: #1967D2;\n",
              "      --hover-bg-color: #E2EBFA;\n",
              "      --hover-fill-color: #174EA6;\n",
              "      --disabled-fill-color: #AAA;\n",
              "      --disabled-bg-color: #DDD;\n",
              "  }\n",
              "\n",
              "  [theme=dark] .colab-df-quickchart {\n",
              "      --bg-color: #3B4455;\n",
              "      --fill-color: #D2E3FC;\n",
              "      --hover-bg-color: #434B5C;\n",
              "      --hover-fill-color: #FFFFFF;\n",
              "      --disabled-bg-color: #3B4455;\n",
              "      --disabled-fill-color: #666;\n",
              "  }\n",
              "\n",
              "  .colab-df-quickchart {\n",
              "    background-color: var(--bg-color);\n",
              "    border: none;\n",
              "    border-radius: 50%;\n",
              "    cursor: pointer;\n",
              "    display: none;\n",
              "    fill: var(--fill-color);\n",
              "    height: 32px;\n",
              "    padding: 0;\n",
              "    width: 32px;\n",
              "  }\n",
              "\n",
              "  .colab-df-quickchart:hover {\n",
              "    background-color: var(--hover-bg-color);\n",
              "    box-shadow: 0 1px 2px rgba(60, 64, 67, 0.3), 0 1px 3px 1px rgba(60, 64, 67, 0.15);\n",
              "    fill: var(--button-hover-fill-color);\n",
              "  }\n",
              "\n",
              "  .colab-df-quickchart-complete:disabled,\n",
              "  .colab-df-quickchart-complete:disabled:hover {\n",
              "    background-color: var(--disabled-bg-color);\n",
              "    fill: var(--disabled-fill-color);\n",
              "    box-shadow: none;\n",
              "  }\n",
              "\n",
              "  .colab-df-spinner {\n",
              "    border: 2px solid var(--fill-color);\n",
              "    border-color: transparent;\n",
              "    border-bottom-color: var(--fill-color);\n",
              "    animation:\n",
              "      spin 1s steps(1) infinite;\n",
              "  }\n",
              "\n",
              "  @keyframes spin {\n",
              "    0% {\n",
              "      border-color: transparent;\n",
              "      border-bottom-color: var(--fill-color);\n",
              "      border-left-color: var(--fill-color);\n",
              "    }\n",
              "    20% {\n",
              "      border-color: transparent;\n",
              "      border-left-color: var(--fill-color);\n",
              "      border-top-color: var(--fill-color);\n",
              "    }\n",
              "    30% {\n",
              "      border-color: transparent;\n",
              "      border-left-color: var(--fill-color);\n",
              "      border-top-color: var(--fill-color);\n",
              "      border-right-color: var(--fill-color);\n",
              "    }\n",
              "    40% {\n",
              "      border-color: transparent;\n",
              "      border-right-color: var(--fill-color);\n",
              "      border-top-color: var(--fill-color);\n",
              "    }\n",
              "    60% {\n",
              "      border-color: transparent;\n",
              "      border-right-color: var(--fill-color);\n",
              "    }\n",
              "    80% {\n",
              "      border-color: transparent;\n",
              "      border-right-color: var(--fill-color);\n",
              "      border-bottom-color: var(--fill-color);\n",
              "    }\n",
              "    90% {\n",
              "      border-color: transparent;\n",
              "      border-bottom-color: var(--fill-color);\n",
              "    }\n",
              "  }\n",
              "</style>\n",
              "\n",
              "  <script>\n",
              "    async function quickchart(key) {\n",
              "      const quickchartButtonEl =\n",
              "        document.querySelector('#' + key + ' button');\n",
              "      quickchartButtonEl.disabled = true;  // To prevent multiple clicks.\n",
              "      quickchartButtonEl.classList.add('colab-df-spinner');\n",
              "      try {\n",
              "        const charts = await google.colab.kernel.invokeFunction(\n",
              "            'suggestCharts', [key], {});\n",
              "      } catch (error) {\n",
              "        console.error('Error during call to suggestCharts:', error);\n",
              "      }\n",
              "      quickchartButtonEl.classList.remove('colab-df-spinner');\n",
              "      quickchartButtonEl.classList.add('colab-df-quickchart-complete');\n",
              "    }\n",
              "    (() => {\n",
              "      let quickchartButtonEl =\n",
              "        document.querySelector('#df-39750d02-2de0-4008-8881-6049e895a842 button');\n",
              "      quickchartButtonEl.style.display =\n",
              "        google.colab.kernel.accessAllowed ? 'block' : 'none';\n",
              "    })();\n",
              "  </script>\n",
              "</div>\n",
              "\n",
              "  <div id=\"id_e2b76a50-bc30-448c-8f81-5579fe66fc15\">\n",
              "    <style>\n",
              "      .colab-df-generate {\n",
              "        background-color: #E8F0FE;\n",
              "        border: none;\n",
              "        border-radius: 50%;\n",
              "        cursor: pointer;\n",
              "        display: none;\n",
              "        fill: #1967D2;\n",
              "        height: 32px;\n",
              "        padding: 0 0 0 0;\n",
              "        width: 32px;\n",
              "      }\n",
              "\n",
              "      .colab-df-generate:hover {\n",
              "        background-color: #E2EBFA;\n",
              "        box-shadow: 0px 1px 2px rgba(60, 64, 67, 0.3), 0px 1px 3px 1px rgba(60, 64, 67, 0.15);\n",
              "        fill: #174EA6;\n",
              "      }\n",
              "\n",
              "      [theme=dark] .colab-df-generate {\n",
              "        background-color: #3B4455;\n",
              "        fill: #D2E3FC;\n",
              "      }\n",
              "\n",
              "      [theme=dark] .colab-df-generate:hover {\n",
              "        background-color: #434B5C;\n",
              "        box-shadow: 0px 1px 3px 1px rgba(0, 0, 0, 0.15);\n",
              "        filter: drop-shadow(0px 1px 2px rgba(0, 0, 0, 0.3));\n",
              "        fill: #FFFFFF;\n",
              "      }\n",
              "    </style>\n",
              "    <button class=\"colab-df-generate\" onclick=\"generateWithVariable('table')\"\n",
              "            title=\"Generate code using this dataframe.\"\n",
              "            style=\"display:none;\">\n",
              "\n",
              "  <svg xmlns=\"http://www.w3.org/2000/svg\" height=\"24px\"viewBox=\"0 0 24 24\"\n",
              "       width=\"24px\">\n",
              "    <path d=\"M7,19H8.4L18.45,9,17,7.55,7,17.6ZM5,21V16.75L18.45,3.32a2,2,0,0,1,2.83,0l1.4,1.43a1.91,1.91,0,0,1,.58,1.4,1.91,1.91,0,0,1-.58,1.4L9.25,21ZM18.45,9,17,7.55Zm-12,3A5.31,5.31,0,0,0,4.9,8.1,5.31,5.31,0,0,0,1,6.5,5.31,5.31,0,0,0,4.9,4.9,5.31,5.31,0,0,0,6.5,1,5.31,5.31,0,0,0,8.1,4.9,5.31,5.31,0,0,0,12,6.5,5.46,5.46,0,0,0,6.5,12Z\"/>\n",
              "  </svg>\n",
              "    </button>\n",
              "    <script>\n",
              "      (() => {\n",
              "      const buttonEl =\n",
              "        document.querySelector('#id_e2b76a50-bc30-448c-8f81-5579fe66fc15 button.colab-df-generate');\n",
              "      buttonEl.style.display =\n",
              "        google.colab.kernel.accessAllowed ? 'block' : 'none';\n",
              "\n",
              "      buttonEl.onclick = () => {\n",
              "        google.colab.notebook.generateWithVariable('table');\n",
              "      }\n",
              "      })();\n",
              "    </script>\n",
              "  </div>\n",
              "\n",
              "    </div>\n",
              "  </div>\n"
            ],
            "application/vnd.google.colaboratory.intrinsic+json": {
              "type": "dataframe",
              "variable_name": "table",
              "summary": "{\n  \"name\": \"table\",\n  \"rows\": 2,\n  \"fields\": [\n    {\n      \"column\": \"Survived\",\n      \"properties\": {\n        \"dtype\": \"number\",\n        \"std\": 0,\n        \"min\": 0,\n        \"max\": 1,\n        \"num_unique_values\": 2,\n        \"samples\": [\n          1,\n          0\n        ],\n        \"semantic_type\": \"\",\n        \"description\": \"\"\n      }\n    },\n    {\n      \"column\": 1,\n      \"properties\": {\n        \"dtype\": \"number\",\n        \"std\": 39,\n        \"min\": 80,\n        \"max\": 136,\n        \"num_unique_values\": 2,\n        \"samples\": [\n          136,\n          80\n        ],\n        \"semantic_type\": \"\",\n        \"description\": \"\"\n      }\n    },\n    {\n      \"column\": 2,\n      \"properties\": {\n        \"dtype\": \"number\",\n        \"std\": 7,\n        \"min\": 87,\n        \"max\": 97,\n        \"num_unique_values\": 2,\n        \"samples\": [\n          87,\n          97\n        ],\n        \"semantic_type\": \"\",\n        \"description\": \"\"\n      }\n    },\n    {\n      \"column\": 3,\n      \"properties\": {\n        \"dtype\": \"number\",\n        \"std\": 178,\n        \"min\": 119,\n        \"max\": 372,\n        \"num_unique_values\": 2,\n        \"samples\": [\n          119,\n          372\n        ],\n        \"semantic_type\": \"\",\n        \"description\": \"\"\n      }\n    }\n  ]\n}"
            }
          },
          "metadata": {},
          "execution_count": 17
        }
      ]
    },
    {
      "cell_type": "markdown",
      "source": [
        "***\n",
        "## Standardization and Normalization"
      ],
      "metadata": {
        "id": "h1-UePo_n5up"
      }
    },
    {
      "cell_type": "code",
      "source": [
        "# Padronização das variáveis\n",
        "\n",
        "scaler = StandardScaler() #media 0 e desvio padrão 1\n",
        "\n",
        "X_train_sc = scaler.fit_transform(X_train)\n",
        "\n",
        "X_test_sc = scaler.transform(X_test)\n"
      ],
      "metadata": {
        "id": "GgrK4i7zoPLW"
      },
      "execution_count": 18,
      "outputs": []
    },
    {
      "cell_type": "markdown",
      "source": [
        "***\n",
        "## Modeling and Cross Validation"
      ],
      "metadata": {
        "id": "CULM6ELWoT83"
      }
    },
    {
      "cell_type": "markdown",
      "source": [
        "### Logistic Regression"
      ],
      "metadata": {
        "id": "cQN_R9HVqmg_"
      }
    },
    {
      "cell_type": "code",
      "source": [
        "# Logistic Regression\n",
        "model_lr = LogisticRegression (random_state= 0 )\n",
        "\n",
        "score = cross_val_score(model_lr, X_train_sc, y_train, cv = 10)\n",
        "\n",
        "print(np.mean(score))"
      ],
      "metadata": {
        "colab": {
          "base_uri": "https://localhost:8080/"
        },
        "id": "PXxDqXbCoYiT",
        "outputId": "707862f4-cc92-40c0-cff7-f82ff4b5ff3d"
      },
      "execution_count": null,
      "outputs": [
        {
          "output_type": "stream",
          "name": "stdout",
          "text": [
            "0.8047066167290886\n"
          ]
        }
      ]
    },
    {
      "cell_type": "markdown",
      "source": [
        "### Naive Bayes"
      ],
      "metadata": {
        "id": "r5iVTTHNqrwJ"
      }
    },
    {
      "cell_type": "code",
      "source": [
        "# Naive Bayes para Classificação\n",
        "model_nb = GaussianNB()\n",
        "\n",
        "score = cross_val_score(model_nb, X_train_sc, y_train, cv = 10)\n",
        "\n",
        "print(np.mean(score))"
      ],
      "metadata": {
        "colab": {
          "base_uri": "https://localhost:8080/"
        },
        "id": "WkQ4C9TioadB",
        "outputId": "fc9d451c-9e8e-4a4a-db7b-b77e6df73c23"
      },
      "execution_count": null,
      "outputs": [
        {
          "output_type": "stream",
          "name": "stdout",
          "text": [
            "0.8036079900124845\n"
          ]
        }
      ]
    },
    {
      "cell_type": "markdown",
      "source": [
        " ### KNN"
      ],
      "metadata": {
        "id": "EspMApqYq7j1"
      }
    },
    {
      "cell_type": "code",
      "source": [
        "# KNN para classificação\n",
        "model_knn = KNeighborsClassifier(n_neighbors= 5, p = 2)\n",
        "\n",
        "score = cross_val_score(model_knn, X_train_sc, y_train, cv = 10)\n",
        "\n",
        "print(np.mean(score))"
      ],
      "metadata": {
        "colab": {
          "base_uri": "https://localhost:8080/"
        },
        "id": "QvJ65QoDocr3",
        "outputId": "eec15884-bbbf-4088-aebc-26abb8b6c503"
      },
      "execution_count": null,
      "outputs": [
        {
          "output_type": "stream",
          "name": "stdout",
          "text": [
            "0.811498127340824\n"
          ]
        }
      ]
    },
    {
      "cell_type": "markdown",
      "source": [
        "### SVM"
      ],
      "metadata": {
        "id": "ggiLmMUHrA4Z"
      }
    },
    {
      "cell_type": "code",
      "source": [
        "# SVM para classificação\n",
        "model_svc = SVC(C = 3, kernel = 'rbf', degree = 2, gamma = 0.1)\n",
        "\n",
        "score = cross_val_score(model_svc, X_train_sc, y_train, cv = 10)\n",
        "\n",
        "print(np.mean(score))\n"
      ],
      "metadata": {
        "colab": {
          "base_uri": "https://localhost:8080/"
        },
        "id": "5mBGXTgAoeJH",
        "outputId": "6ef43b68-4ff2-4f48-aecf-b23a01af0a1a"
      },
      "execution_count": null,
      "outputs": [
        {
          "output_type": "stream",
          "name": "stdout",
          "text": [
            "0.8316479400749064\n"
          ]
        }
      ]
    },
    {
      "cell_type": "markdown",
      "source": [
        "### Decision Tree"
      ],
      "metadata": {
        "id": "ZDmL1yxvrNAw"
      }
    },
    {
      "cell_type": "code",
      "source": [
        "# Decision Tree\n",
        "model_dt = DecisionTreeClassifier(criterion = 'entropy', max_depth = 3, min_samples_split = 2, min_samples_leaf = 1, random_state = 0)\n",
        "\n",
        "score = cross_val_score(model_dt, X_train_sc, y_train, cv = 10)\n",
        "\n",
        "print(np.mean(score))"
      ],
      "metadata": {
        "colab": {
          "base_uri": "https://localhost:8080/"
        },
        "id": "KGwHZoEaofhP",
        "outputId": "143df2e6-6dda-46f4-bb60-b588fbcc5986"
      },
      "execution_count": null,
      "outputs": [
        {
          "output_type": "stream",
          "name": "stdout",
          "text": [
            "0.8170536828963796\n"
          ]
        }
      ]
    },
    {
      "cell_type": "markdown",
      "source": [
        "### Random Forest"
      ],
      "metadata": {
        "id": "HW4cRh7-rXMr"
      }
    },
    {
      "cell_type": "code",
      "source": [
        "# Random Forest\n",
        "model_rf = RandomForestClassifier(criterion = 'entropy', n_estimators = 100, max_depth = 5, min_samples_split = 2, min_samples_leaf = 1, random_state = 0)\n",
        "\n",
        "score = cross_val_score(model_rf, X_train_sc, y_train, cv = 10)\n",
        "\n",
        "print(np.mean(score))\n"
      ],
      "metadata": {
        "colab": {
          "base_uri": "https://localhost:8080/"
        },
        "id": "GXNvXAwAohat",
        "outputId": "ea588110-6156-4edf-ff49-cd1e484e6abf"
      },
      "execution_count": null,
      "outputs": [
        {
          "output_type": "stream",
          "name": "stdout",
          "text": [
            "0.8261048689138576\n"
          ]
        }
      ]
    },
    {
      "cell_type": "markdown",
      "source": [
        "***\n",
        "## Hyperparameter Optimization"
      ],
      "metadata": {
        "id": "SNaRU0giolQ-"
      }
    },
    {
      "cell_type": "code",
      "source": [
        "# Otimização de hiperparametros RF\n",
        "def treinar_modelo_rf(parametros):\n",
        "\n",
        "  model_rf = RandomForestClassifier(criterion = parametros[0],\n",
        "                                    n_estimators = parametros[1],\n",
        "                                    max_depth = parametros[2],\n",
        "                                    min_samples_split = parametros[3],\n",
        "                                    min_samples_leaf = parametros[4],\n",
        "                                    random_state = 0,\n",
        "                                    n_jobs = -1 )\n",
        "\n",
        "  score = cross_val_score(model_rf, X_train_sc, y_train, cv = 10)\n",
        "\n",
        "  mean_score = np.mean(score)\n",
        "\n",
        "  print(np.mean(score))\n",
        "\n",
        "  return -mean_score"
      ],
      "metadata": {
        "id": "Ao5D57J-rcNr"
      },
      "execution_count": 19,
      "outputs": []
    },
    {
      "cell_type": "code",
      "source": [
        "parametros = [('entropy', 'gini'),\n",
        "              (100, 1000),\n",
        "              (3, 20),\n",
        "              (2, 10),\n",
        "              (1, 10)]\n",
        "\n",
        "\n",
        "otimos_rf = gp_minimize(treinar_modelo_rf, parametros, random_state = 0, verbose = 1, n_calls = 30, n_random_starts = 10  )\n",
        "print(otimos_rf.fun, otimos_rf.x)"
      ],
      "metadata": {
        "colab": {
          "base_uri": "https://localhost:8080/"
        },
        "collapsed": true,
        "id": "_kSwKFibok0_",
        "outputId": "545ed865-0500-4cd9-e0a7-82dbe67fec2c"
      },
      "execution_count": 20,
      "outputs": [
        {
          "output_type": "stream",
          "name": "stdout",
          "text": [
            "Iteration No: 1 started. Evaluating function at random point.\n",
            "0.8227465667915107\n",
            "Iteration No: 1 ended. Evaluation done at random point.\n",
            "Time taken: 38.8943\n",
            "Function value obtained: -0.8227\n",
            "Current minimum: -0.8227\n",
            "Iteration No: 2 started. Evaluating function at random point.\n",
            "0.829450686641698\n",
            "Iteration No: 2 ended. Evaluation done at random point.\n",
            "Time taken: 10.4170\n",
            "Function value obtained: -0.8295\n",
            "Current minimum: -0.8295\n",
            "Iteration No: 3 started. Evaluating function at random point.\n",
            "0.8249937578027466\n",
            "Iteration No: 3 ended. Evaluation done at random point.\n",
            "Time taken: 13.5377\n",
            "Function value obtained: -0.8250\n",
            "Current minimum: -0.8295\n",
            "Iteration No: 4 started. Evaluating function at random point.\n",
            "0.8227340823970037\n",
            "Iteration No: 4 ended. Evaluation done at random point.\n",
            "Time taken: 10.4090\n",
            "Function value obtained: -0.8227\n",
            "Current minimum: -0.8295\n",
            "Iteration No: 5 started. Evaluating function at random point.\n",
            "0.8272409488139825\n",
            "Iteration No: 5 ended. Evaluation done at random point.\n",
            "Time taken: 20.9870\n",
            "Function value obtained: -0.8272\n",
            "Current minimum: -0.8295\n",
            "Iteration No: 6 started. Evaluating function at random point.\n",
            "0.8294881398252185\n",
            "Iteration No: 6 ended. Evaluation done at random point.\n",
            "Time taken: 14.7393\n",
            "Function value obtained: -0.8295\n",
            "Current minimum: -0.8295\n",
            "Iteration No: 7 started. Evaluating function at random point.\n",
            "0.8227340823970037\n",
            "Iteration No: 7 ended. Evaluation done at random point.\n",
            "Time taken: 20.9376\n",
            "Function value obtained: -0.8227\n",
            "Current minimum: -0.8295\n",
            "Iteration No: 8 started. Evaluating function at random point.\n",
            "0.8250062421972533\n",
            "Iteration No: 8 ended. Evaluation done at random point.\n",
            "Time taken: 7.8246\n",
            "Function value obtained: -0.8250\n",
            "Current minimum: -0.8295\n",
            "Iteration No: 9 started. Evaluating function at random point.\n",
            "0.8238451935081148\n",
            "Iteration No: 9 ended. Evaluation done at random point.\n",
            "Time taken: 23.0279\n",
            "Function value obtained: -0.8238\n",
            "Current minimum: -0.8295\n",
            "Iteration No: 10 started. Evaluating function at random point.\n",
            "0.8272409488139825\n",
            "Iteration No: 10 ended. Evaluation done at random point.\n",
            "Time taken: 12.3228\n",
            "Function value obtained: -0.8272\n",
            "Current minimum: -0.8295\n",
            "Iteration No: 11 started. Searching for the next optimal point.\n",
            "0.8115106117353308\n",
            "Iteration No: 11 ended. Search finished for the next optimal point.\n",
            "Time taken: 8.1397\n",
            "Function value obtained: -0.8115\n",
            "Current minimum: -0.8295\n",
            "Iteration No: 12 started. Searching for the next optimal point.\n",
            "0.8227340823970037\n",
            "Iteration No: 12 ended. Search finished for the next optimal point.\n",
            "Time taken: 23.3865\n",
            "Function value obtained: -0.8227\n",
            "Current minimum: -0.8295\n",
            "Iteration No: 13 started. Searching for the next optimal point.\n",
            "0.827191011235955\n",
            "Iteration No: 13 ended. Search finished for the next optimal point.\n",
            "Time taken: 23.1120\n",
            "Function value obtained: -0.8272\n",
            "Current minimum: -0.8295\n",
            "Iteration No: 14 started. Searching for the next optimal point.\n",
            "0.8316853932584269\n",
            "Iteration No: 14 ended. Search finished for the next optimal point.\n",
            "Time taken: 23.9825\n",
            "Function value obtained: -0.8317\n",
            "Current minimum: -0.8317\n",
            "Iteration No: 15 started. Searching for the next optimal point.\n",
            "0.8283770287141075\n",
            "Iteration No: 15 ended. Search finished for the next optimal point.\n",
            "Time taken: 17.8198\n",
            "Function value obtained: -0.8284\n",
            "Current minimum: -0.8317\n",
            "Iteration No: 16 started. Searching for the next optimal point.\n",
            "0.8260923845193509\n",
            "Iteration No: 16 ended. Search finished for the next optimal point.\n",
            "Time taken: 13.4717\n",
            "Function value obtained: -0.8261\n",
            "Current minimum: -0.8317\n",
            "Iteration No: 17 started. Searching for the next optimal point.\n",
            "0.8260923845193509\n",
            "Iteration No: 17 ended. Search finished for the next optimal point.\n",
            "Time taken: 3.1174\n",
            "Function value obtained: -0.8261\n",
            "Current minimum: -0.8317\n",
            "Iteration No: 18 started. Searching for the next optimal point.\n",
            "0.8227465667915107\n",
            "Iteration No: 18 ended. Search finished for the next optimal point.\n",
            "Time taken: 20.1612\n",
            "Function value obtained: -0.8227\n",
            "Current minimum: -0.8317\n",
            "Iteration No: 19 started. Searching for the next optimal point.\n",
            "0.827191011235955\n",
            "Iteration No: 19 ended. Search finished for the next optimal point.\n",
            "Time taken: 21.6284\n",
            "Function value obtained: -0.8272\n",
            "Current minimum: -0.8317\n",
            "Iteration No: 20 started. Searching for the next optimal point.\n",
            "0.8238951310861424\n",
            "Iteration No: 20 ended. Search finished for the next optimal point.\n",
            "Time taken: 19.9597\n",
            "Function value obtained: -0.8239\n",
            "Current minimum: -0.8317\n",
            "Iteration No: 21 started. Searching for the next optimal point.\n",
            "0.8204993757802747\n",
            "Iteration No: 21 ended. Search finished for the next optimal point.\n",
            "Time taken: 22.3178\n",
            "Function value obtained: -0.8205\n",
            "Current minimum: -0.8317\n",
            "Iteration No: 22 started. Searching for the next optimal point.\n",
            "0.8294881398252185\n",
            "Iteration No: 22 ended. Search finished for the next optimal point.\n",
            "Time taken: 24.5005\n",
            "Function value obtained: -0.8295\n",
            "Current minimum: -0.8317\n",
            "Iteration No: 23 started. Searching for the next optimal point.\n",
            "0.8193757802746567\n",
            "Iteration No: 23 ended. Search finished for the next optimal point.\n",
            "Time taken: 24.7303\n",
            "Function value obtained: -0.8194\n",
            "Current minimum: -0.8317\n",
            "Iteration No: 24 started. Searching for the next optimal point.\n",
            "0.8294756554307117\n",
            "Iteration No: 24 ended. Search finished for the next optimal point.\n",
            "Time taken: 17.9268\n",
            "Function value obtained: -0.8295\n",
            "Current minimum: -0.8317\n",
            "Iteration No: 25 started. Searching for the next optimal point.\n",
            "0.8294881398252185\n",
            "Iteration No: 25 ended. Search finished for the next optimal point.\n",
            "Time taken: 6.0257\n",
            "Function value obtained: -0.8295\n",
            "Current minimum: -0.8317\n",
            "Iteration No: 26 started. Searching for the next optimal point.\n",
            "0.8272534332084895\n",
            "Iteration No: 26 ended. Search finished for the next optimal point.\n",
            "Time taken: 15.0168\n",
            "Function value obtained: -0.8273\n",
            "Current minimum: -0.8317\n",
            "Iteration No: 27 started. Searching for the next optimal point.\n",
            "0.8238451935081148\n",
            "Iteration No: 27 ended. Search finished for the next optimal point.\n",
            "Time taken: 4.5011\n",
            "Function value obtained: -0.8238\n",
            "Current minimum: -0.8317\n",
            "Iteration No: 28 started. Searching for the next optimal point.\n",
            "0.8249812734082397\n",
            "Iteration No: 28 ended. Search finished for the next optimal point.\n",
            "Time taken: 4.9886\n",
            "Function value obtained: -0.8250\n",
            "Current minimum: -0.8317\n",
            "Iteration No: 29 started. Searching for the next optimal point.\n",
            "0.8283770287141075\n",
            "Iteration No: 29 ended. Search finished for the next optimal point.\n",
            "Time taken: 6.4350\n",
            "Function value obtained: -0.8284\n",
            "Current minimum: -0.8317\n",
            "Iteration No: 30 started. Searching for the next optimal point.\n",
            "0.8238701622971286\n",
            "Iteration No: 30 ended. Search finished for the next optimal point.\n",
            "Time taken: 14.4421\n",
            "Function value obtained: -0.8239\n",
            "Current minimum: -0.8317\n",
            "-0.8316853932584269 ['entropy', 974, 4, 10, 1]\n"
          ]
        }
      ]
    },
    {
      "cell_type": "code",
      "source": [
        "# Otimização de hiperparametros SVC\n",
        "def treinar_modelo_svc(parametros):\n",
        "\n",
        "  model_svc = SVC(C=parametros[0], # C\n",
        "                  kernel=parametros[1], # kernel\n",
        "                  degree=parametros[2], # degree\n",
        "                  gamma=parametros[3]  # gamma\n",
        "  )\n",
        "\n",
        "  score = cross_val_score(model_svc, X_train_sc, y_train, cv = 10)\n",
        "\n",
        "  mean_score = np.mean(score)\n",
        "\n",
        "  print(np.mean(score))\n",
        "\n",
        "  return -mean_score"
      ],
      "metadata": {
        "id": "h9Lk0T5guuMU"
      },
      "execution_count": 21,
      "outputs": []
    },
    {
      "cell_type": "code",
      "source": [
        "parametros_svc = [(1, 10),\n",
        "              ('rbf', 'linear','poly'),\n",
        "              (1, 5),\n",
        "              (0.1, 0.5)]\n",
        "\n",
        "\n",
        "otimos_svc = gp_minimize(treinar_modelo_svc, parametros_svc, random_state = 0, verbose = 1, n_calls = 30, n_random_starts = 10  )\n",
        "print(otimos_svc.fun, otimos_svc.x)"
      ],
      "metadata": {
        "colab": {
          "base_uri": "https://localhost:8080/"
        },
        "id": "450c6-jdwr0R",
        "outputId": "a35c5c28-5533-4ae3-ce50-646c8f5f21d1",
        "collapsed": true
      },
      "execution_count": 29,
      "outputs": [
        {
          "output_type": "stream",
          "name": "stdout",
          "text": [
            "Iteration No: 1 started. Evaluating function at random point.\n",
            "0.7811985018726592\n",
            "Iteration No: 1 ended. Evaluation done at random point.\n",
            "Time taken: 12.6499\n",
            "Function value obtained: -0.7812\n",
            "Current minimum: -0.7812\n",
            "Iteration No: 2 started. Evaluating function at random point.\n",
            "0.7923595505617979\n",
            "Iteration No: 2 ended. Evaluation done at random point.\n",
            "Time taken: 1.0849\n",
            "Function value obtained: -0.7924\n",
            "Current minimum: -0.7924\n",
            "Iteration No: 3 started. Evaluating function at random point.\n",
            "0.7923595505617979\n",
            "Iteration No: 3 ended. Evaluation done at random point.\n",
            "Time taken: 0.4976\n",
            "Function value obtained: -0.7924\n",
            "Current minimum: -0.7924\n",
            "Iteration No: 4 started. Evaluating function at random point.\n",
            "0.8204369538077403\n",
            "Iteration No: 4 ended. Evaluation done at random point.\n",
            "Time taken: 2.0131\n",
            "Function value obtained: -0.8204\n",
            "Current minimum: -0.8204\n",
            "Iteration No: 5 started. Evaluating function at random point.\n",
            "0.8204369538077403\n",
            "Iteration No: 5 ended. Evaluation done at random point.\n",
            "Time taken: 2.0553\n",
            "Function value obtained: -0.8204\n",
            "Current minimum: -0.8204\n",
            "Iteration No: 6 started. Evaluating function at random point.\n",
            "0.7901872659176029\n",
            "Iteration No: 6 ended. Evaluation done at random point.\n",
            "Time taken: 5.0154\n",
            "Function value obtained: -0.7902\n",
            "Current minimum: -0.8204\n",
            "Iteration No: 7 started. Evaluating function at random point.\n",
            "0.7923595505617979\n",
            "Iteration No: 7 ended. Evaluation done at random point.\n",
            "Time taken: 0.9830\n",
            "Function value obtained: -0.7924\n",
            "Current minimum: -0.8204\n",
            "Iteration No: 8 started. Evaluating function at random point.\n",
            "0.7923595505617979\n",
            "Iteration No: 8 ended. Evaluation done at random point.\n",
            "Time taken: 0.4156\n",
            "Function value obtained: -0.7924\n",
            "Current minimum: -0.8204\n",
            "Iteration No: 9 started. Evaluating function at random point.\n",
            "0.8350187265917602\n",
            "Iteration No: 9 ended. Evaluation done at random point.\n",
            "Time taken: 0.2353\n",
            "Function value obtained: -0.8350\n",
            "Current minimum: -0.8350\n",
            "Iteration No: 10 started. Evaluating function at random point.\n",
            "0.7923595505617979\n",
            "Iteration No: 10 ended. Evaluation done at random point.\n",
            "Time taken: 0.7418\n",
            "Function value obtained: -0.7924\n",
            "Current minimum: -0.8350\n",
            "Iteration No: 11 started. Searching for the next optimal point.\n",
            "0.8103745318352059\n",
            "Iteration No: 11 ended. Search finished for the next optimal point.\n",
            "Time taken: 0.6958\n",
            "Function value obtained: -0.8104\n",
            "Current minimum: -0.8350\n",
            "Iteration No: 12 started. Searching for the next optimal point.\n",
            "0.8271535580524343\n",
            "Iteration No: 12 ended. Search finished for the next optimal point.\n",
            "Time taken: 0.5825\n",
            "Function value obtained: -0.8272\n",
            "Current minimum: -0.8350\n",
            "Iteration No: 13 started. Searching for the next optimal point.\n",
            "0.8350187265917605\n",
            "Iteration No: 13 ended. Search finished for the next optimal point.\n",
            "Time taken: 0.6811\n",
            "Function value obtained: -0.8350\n",
            "Current minimum: -0.8350\n",
            "Iteration No: 14 started. Searching for the next optimal point.\n",
            "0.7923595505617979\n",
            "Iteration No: 14 ended. Search finished for the next optimal point.\n",
            "Time taken: 0.7931\n",
            "Function value obtained: -0.7924\n",
            "Current minimum: -0.8350\n",
            "Iteration No: 15 started. Searching for the next optimal point.\n",
            "0.8350187265917605\n",
            "Iteration No: 15 ended. Search finished for the next optimal point.\n",
            "Time taken: 0.6972\n",
            "Function value obtained: -0.8350\n",
            "Current minimum: -0.8350\n",
            "Iteration No: 16 started. Searching for the next optimal point.\n",
            "0.8271535580524343\n",
            "Iteration No: 16 ended. Search finished for the next optimal point.\n",
            "Time taken: 0.6061\n",
            "Function value obtained: -0.8272\n",
            "Current minimum: -0.8350\n",
            "Iteration No: 17 started. Searching for the next optimal point.\n",
            "0.828314606741573\n",
            "Iteration No: 17 ended. Search finished for the next optimal point.\n",
            "Time taken: 0.5600\n",
            "Function value obtained: -0.8283\n",
            "Current minimum: -0.8350\n",
            "Iteration No: 18 started. Searching for the next optimal point.\n",
            "0.8350187265917605\n",
            "Iteration No: 18 ended. Search finished for the next optimal point.\n",
            "Time taken: 0.9369\n",
            "Function value obtained: -0.8350\n",
            "Current minimum: -0.8350\n",
            "Iteration No: 19 started. Searching for the next optimal point.\n",
            "0.8114981273408238\n",
            "Iteration No: 19 ended. Search finished for the next optimal point.\n",
            "Time taken: 0.7775\n",
            "Function value obtained: -0.8115\n",
            "Current minimum: -0.8350\n",
            "Iteration No: 20 started. Searching for the next optimal point.\n",
            "0.7923595505617979\n",
            "Iteration No: 20 ended. Search finished for the next optimal point.\n",
            "Time taken: 0.7690\n",
            "Function value obtained: -0.7924\n",
            "Current minimum: -0.8350\n",
            "Iteration No: 21 started. Searching for the next optimal point.\n",
            "0.8305368289637952\n",
            "Iteration No: 21 ended. Search finished for the next optimal point.\n",
            "Time taken: 0.7119\n",
            "Function value obtained: -0.8305\n",
            "Current minimum: -0.8350\n",
            "Iteration No: 22 started. Searching for the next optimal point.\n",
            "0.8294132334581773\n",
            "Iteration No: 22 ended. Search finished for the next optimal point.\n",
            "Time taken: 1.1497\n",
            "Function value obtained: -0.8294\n",
            "Current minimum: -0.8350\n",
            "Iteration No: 23 started. Searching for the next optimal point.\n",
            "0.8260299625468164\n",
            "Iteration No: 23 ended. Search finished for the next optimal point.\n",
            "Time taken: 2.2614\n",
            "Function value obtained: -0.8260\n",
            "Current minimum: -0.8350\n",
            "Iteration No: 24 started. Searching for the next optimal point.\n",
            "0.8316479400749064\n",
            "Iteration No: 24 ended. Search finished for the next optimal point.\n",
            "Time taken: 1.4260\n",
            "Function value obtained: -0.8316\n",
            "Current minimum: -0.8350\n",
            "Iteration No: 25 started. Searching for the next optimal point.\n",
            "0.8204744069912611\n",
            "Iteration No: 25 ended. Search finished for the next optimal point.\n",
            "Time taken: 1.0943\n",
            "Function value obtained: -0.8205\n",
            "Current minimum: -0.8350\n",
            "Iteration No: 26 started. Searching for the next optimal point.\n",
            "0.7890886392009986\n",
            "Iteration No: 26 ended. Search finished for the next optimal point.\n",
            "Time taken: 6.3641\n",
            "Function value obtained: -0.7891\n",
            "Current minimum: -0.8350\n",
            "Iteration No: 27 started. Searching for the next optimal point.\n",
            "0.8260674157303372\n",
            "Iteration No: 27 ended. Search finished for the next optimal point.\n",
            "Time taken: 0.7523\n",
            "Function value obtained: -0.8261\n",
            "Current minimum: -0.8350\n",
            "Iteration No: 28 started. Searching for the next optimal point.\n",
            "0.8226841448189761\n",
            "Iteration No: 28 ended. Search finished for the next optimal point.\n",
            "Time taken: 1.0824\n",
            "Function value obtained: -0.8227\n",
            "Current minimum: -0.8350\n",
            "Iteration No: 29 started. Searching for the next optimal point.\n",
            "0.8204369538077403\n",
            "Iteration No: 29 ended. Search finished for the next optimal point.\n",
            "Time taken: 1.3619\n",
            "Function value obtained: -0.8204\n",
            "Current minimum: -0.8350\n",
            "Iteration No: 30 started. Searching for the next optimal point.\n",
            "0.8271535580524343\n",
            "Iteration No: 30 ended. Search finished for the next optimal point.\n",
            "Time taken: 0.9962\n",
            "Function value obtained: -0.8272\n",
            "Current minimum: -0.8350\n",
            "-0.8350187265917605 [9, 'rbf', 1, 0.10203671500965422]\n"
          ]
        }
      ]
    },
    {
      "cell_type": "code",
      "source": [
        "# Usando os dados do autotunning\n",
        "\n",
        "model_rf = RandomForestClassifier(criterion=otimos_rf.x[0],\n",
        "                                  n_estimators= otimos_rf.x[1],\n",
        "                                  max_depth=otimos_rf.x[2],\n",
        "                                  min_samples_split=otimos_rf.x[3],\n",
        "                                  min_samples_leaf=otimos_rf.x[4],\n",
        "                                  random_state=0,\n",
        "                                  n_jobs=-1)\n",
        "model_svc = SVC(C=otimos_svc.x[0],\n",
        "                kernel=otimos_svc.x[1],\n",
        "                degree=otimos_svc.x[2],\n",
        "                gamma=otimos_svc.x[3])\n"
      ],
      "metadata": {
        "id": "3HAUZBJHzdU9"
      },
      "execution_count": 30,
      "outputs": []
    },
    {
      "cell_type": "markdown",
      "source": [
        "***\n",
        "## Ensanble Model"
      ],
      "metadata": {
        "id": "_dus2ivgow40"
      }
    },
    {
      "cell_type": "code",
      "source": [
        "# Ensanble model (Voting)\n",
        "model_voting = VotingClassifier(estimators = [('SVC', model_svc), ('RF', model_rf)], voting = 'hard') # svc and rf 0.8392 # lr, knn, svc and rf 0.8328\n",
        "\n",
        "model_voting.fit(X_train_sc, y_train)\n",
        "\n",
        "score = cross_val_score(model_voting, X_train_sc, y_train, cv = 10)\n",
        "\n",
        "print(np.mean(score))"
      ],
      "metadata": {
        "colab": {
          "base_uri": "https://localhost:8080/"
        },
        "id": "WADs-VvBpHqU",
        "outputId": "98d4619d-d042-4e18-a658-f03ad59d8777"
      },
      "execution_count": 33,
      "outputs": [
        {
          "output_type": "stream",
          "name": "stdout",
          "text": [
            "0.8338951310861423\n"
          ]
        }
      ]
    },
    {
      "cell_type": "markdown",
      "source": [
        "***\n",
        "## Final Model"
      ],
      "metadata": {
        "id": "b_ILWJYZpJxw"
      }
    },
    {
      "cell_type": "code",
      "source": [
        "# # modelo final\n",
        "# model_rf = RandomForestClassifier(criterion = otimos.x[0], n_estimators = otimos.x[1], max_depth = otimos.x[2],\n",
        "#                                     min_samples_split = otimos.x[3], min_samples_leaf = otimos.x[4], random_state = 0, n_jobs = -1 )\n",
        "\n",
        "# model_rf.fit(X_train_sc, y_train)\n",
        "\n",
        "# y_pred = model_rf.predict(X_train_sc)\n",
        "\n",
        "# mc = confusion_matrix(y_train, y_pred)\n",
        "# print(mc)\n",
        "\n",
        "# score = model_rf.score(X_train_sc, y_train)\n",
        "# print(score)"
      ],
      "metadata": {
        "id": "CmaN7tO6pNve"
      },
      "execution_count": null,
      "outputs": []
    },
    {
      "cell_type": "markdown",
      "source": [
        "***\n",
        "## Predict and Creating Data for Submission"
      ],
      "metadata": {
        "id": "3eE2_QKipS9l"
      }
    },
    {
      "cell_type": "code",
      "execution_count": 34,
      "metadata": {
        "id": "bhW-U2VwmGfe"
      },
      "outputs": [],
      "source": [
        "# predição nos dados de teste\n",
        "y_pred = model_voting.predict(X_test_sc)\n",
        "\n",
        "submission = pd.DataFrame(test['PassengerId'])\n",
        "\n",
        "submission['Survived'] = y_pred\n",
        "\n",
        "submission.to_csv('submission.csv', index = False)"
      ]
    },
    {
      "cell_type": "markdown",
      "source": [
        "## Result Kaggle\n",
        "![image.png](data:image/png;base64,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)"
      ],
      "metadata": {
        "id": "ABWRejuo_ix2"
      }
    },
    {
      "cell_type": "markdown",
      "source": [
        "A estrutura do código se manteve, contendo como alterações pontos específicos:\n",
        "\n",
        "* Tunagem dos hiperparâmetros do modelo SVC\n",
        "  *  Para esse processo, estabeleceu-se as mesmas características de 30 chamadas e 10 resultados aletórios iniciais.\n",
        "  * Resultado:\n",
        "    * Score: -0.8350187265917605\n",
        "    * Parametros: [C=9, kernel='rbf', degree=1, gamma=0.10203671500965422]\n",
        "* Optou-se por manter o ensanble, entretanto, retirou-se Logistic Regression e o modelo KNN.\n",
        "\n",
        "O resultado obtido no Kaggle foi de 77,75% de acurácia. Melhora sutil ao ser comparado com o resultado do Professor Sarvio Valente."
      ],
      "metadata": {
        "id": "auGxLtB7_on1"
      }
    }
  ]
}