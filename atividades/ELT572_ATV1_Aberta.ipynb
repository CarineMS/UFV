{
  "cells": [
    {
      "cell_type": "markdown",
      "metadata": {
        "id": "WsCaDWG-RUaB"
      },
      "source": [
        "## Python\n",
        "### Questões abertas para Python Parte I\n",
        "\n",
        "**Aluna:** Carine Madeira Soares  \n",
        "**Matrícula:** ES115044"
      ]
    },
    {
      "cell_type": "markdown",
      "metadata": {
        "id": "94aPsdqORhKj"
      },
      "source": [
        "#### Questão 01)"
      ]
    },
    {
      "cell_type": "code",
      "execution_count": 2,
      "metadata": {
        "id": "KHnkkWc1P9-i"
      },
      "outputs": [],
      "source": [
        "# definição dos valores das variáveis\n",
        "a = 13\n",
        "b = 18\n",
        "c = b - a\n",
        "d = a + c\n",
        "e = b - c "
      ]
    },
    {
      "cell_type": "code",
      "execution_count": 3,
      "metadata": {
        "colab": {
          "base_uri": "https://localhost:8080/"
        },
        "id": "uMrwJEMFQTm4",
        "outputId": "95cb65b3-6558-4b58-92c7-7b7cc5769dc9"
      },
      "outputs": [
        {
          "name": "stdout",
          "output_type": "stream",
          "text": [
            "b - a =  5\n"
          ]
        }
      ],
      "source": [
        "print('b - a = ', c)"
      ]
    },
    {
      "cell_type": "code",
      "execution_count": 4,
      "metadata": {
        "colab": {
          "base_uri": "https://localhost:8080/"
        },
        "id": "MUjoswFzQYK2",
        "outputId": "6aa59acd-1b58-47e2-d9c6-b91bd9b166c9"
      },
      "outputs": [
        {
          "name": "stdout",
          "output_type": "stream",
          "text": [
            "a + c =  18\n"
          ]
        }
      ],
      "source": [
        "print('a + c = ', d)"
      ]
    },
    {
      "cell_type": "code",
      "execution_count": 5,
      "metadata": {
        "colab": {
          "base_uri": "https://localhost:8080/"
        },
        "id": "injK3KaUQcgw",
        "outputId": "d68b3878-b7ed-4805-c2bc-5ab8f9fdd0c0"
      },
      "outputs": [
        {
          "name": "stdout",
          "output_type": "stream",
          "text": [
            "b - c =  13\n"
          ]
        }
      ],
      "source": [
        "print('b - c = ', e)"
      ]
    },
    {
      "cell_type": "code",
      "execution_count": 6,
      "metadata": {
        "colab": {
          "base_uri": "https://localhost:8080/"
        },
        "id": "4C6wvFqOQhGU",
        "outputId": "06b24d1e-6dd4-4f87-97e7-f8b3d6ebd8b0"
      },
      "outputs": [
        {
          "name": "stdout",
          "output_type": "stream",
          "text": [
            "a > b: False\n"
          ]
        }
      ],
      "source": [
        "print('a > b:', a>b)"
      ]
    },
    {
      "cell_type": "code",
      "execution_count": 7,
      "metadata": {
        "colab": {
          "base_uri": "https://localhost:8080/"
        },
        "id": "ZDXx20VmQmts",
        "outputId": "752d0398-3061-4c09-916e-c180769f2a7e"
      },
      "outputs": [
        {
          "name": "stdout",
          "output_type": "stream",
          "text": [
            "d < b: False\n"
          ]
        }
      ],
      "source": [
        "print('d < b:', d <b)"
      ]
    },
    {
      "cell_type": "code",
      "execution_count": 8,
      "metadata": {
        "colab": {
          "base_uri": "https://localhost:8080/"
        },
        "id": "BhqWR8fOQrMR",
        "outputId": "d036a71b-126a-48b5-f69f-0ca848423089"
      },
      "outputs": [
        {
          "name": "stdout",
          "output_type": "stream",
          "text": [
            "d == e: False\n"
          ]
        }
      ],
      "source": [
        "print('d == e:', d == e)"
      ]
    },
    {
      "cell_type": "code",
      "execution_count": 9,
      "metadata": {
        "colab": {
          "base_uri": "https://localhost:8080/"
        },
        "id": "s_ljnfYXQwRR",
        "outputId": "b1f66e6b-c1b8-45d3-8ca3-c5c3afef8ac2"
      },
      "outputs": [
        {
          "name": "stdout",
          "output_type": "stream",
          "text": [
            "a != a: False\n"
          ]
        }
      ],
      "source": [
        "print('a != a:', a != a)"
      ]
    },
    {
      "cell_type": "code",
      "execution_count": 10,
      "metadata": {
        "colab": {
          "base_uri": "https://localhost:8080/"
        },
        "id": "0cw6iNi3Q1f2",
        "outputId": "7cb844b6-646e-415c-86fc-1d4656ae9dca"
      },
      "outputs": [
        {
          "name": "stdout",
          "output_type": "stream",
          "text": [
            "a >= d: False\n"
          ]
        }
      ],
      "source": [
        "print('a >= d:', a >= d)"
      ]
    },
    {
      "cell_type": "code",
      "execution_count": 11,
      "metadata": {
        "colab": {
          "base_uri": "https://localhost:8080/"
        },
        "id": "D1RGLeJzRBKj",
        "outputId": "69b44999-f1b6-4018-a03e-f2b37ca1b953"
      },
      "outputs": [
        {
          "name": "stdout",
          "output_type": "stream",
          "text": [
            "d <= e: False\n"
          ]
        }
      ],
      "source": [
        "print('d <= e:', d <= e)"
      ]
    },
    {
      "cell_type": "markdown",
      "metadata": {
        "id": "lNL6-d2DRkAq"
      },
      "source": [
        "#### Questão 02)"
      ]
    },
    {
      "cell_type": "code",
      "execution_count": 12,
      "metadata": {
        "id": "X0ksN-JPRl_p"
      },
      "outputs": [],
      "source": [
        "# definindo os valores inteiros das variáveis\n",
        "a = 5\n",
        "b = 2\n",
        "c = b * a\n",
        "d = a * a\n",
        "e = b * b"
      ]
    },
    {
      "cell_type": "code",
      "execution_count": 13,
      "metadata": {
        "colab": {
          "base_uri": "https://localhost:8080/"
        },
        "id": "YfMWtJsPRxJU",
        "outputId": "9fea7109-1e08-4df5-fec5-a0209c743368"
      },
      "outputs": [
        {
          "name": "stdout",
          "output_type": "stream",
          "text": [
            "b * a =  10\n"
          ]
        }
      ],
      "source": [
        "print('b * a = ', c)"
      ]
    },
    {
      "cell_type": "code",
      "execution_count": 14,
      "metadata": {
        "colab": {
          "base_uri": "https://localhost:8080/"
        },
        "id": "iYPSBTfXR7uM",
        "outputId": "aed6630c-823c-407f-de06-2772ca869c23"
      },
      "outputs": [
        {
          "name": "stdout",
          "output_type": "stream",
          "text": [
            "a * a =  25\n"
          ]
        }
      ],
      "source": [
        "print('a * a = ', d)"
      ]
    },
    {
      "cell_type": "code",
      "execution_count": 15,
      "metadata": {
        "colab": {
          "base_uri": "https://localhost:8080/"
        },
        "id": "MYRf-Nh5SACG",
        "outputId": "fd89c10a-1edf-4d4a-f7c0-78a4283ed87e"
      },
      "outputs": [
        {
          "name": "stdout",
          "output_type": "stream",
          "text": [
            "b * b =  4\n"
          ]
        }
      ],
      "source": [
        "print('b * b = ', e)"
      ]
    },
    {
      "cell_type": "code",
      "execution_count": 16,
      "metadata": {
        "colab": {
          "base_uri": "https://localhost:8080/"
        },
        "id": "ERCewdUESGgX",
        "outputId": "100531cf-9d45-4743-b210-4e0a7569467d"
      },
      "outputs": [
        {
          "name": "stdout",
          "output_type": "stream",
          "text": [
            "d > e: True\n"
          ]
        }
      ],
      "source": [
        "print('d > e:', d > e)"
      ]
    },
    {
      "cell_type": "code",
      "execution_count": 17,
      "metadata": {
        "colab": {
          "base_uri": "https://localhost:8080/"
        },
        "id": "4u4x_0RgSR7g",
        "outputId": "2ba84bdf-cd77-4ae4-fbd3-7c8d7915a60d"
      },
      "outputs": [
        {
          "name": "stdout",
          "output_type": "stream",
          "text": [
            "d < e: False\n"
          ]
        }
      ],
      "source": [
        "print('d < e:', d < e)"
      ]
    },
    {
      "cell_type": "code",
      "execution_count": 18,
      "metadata": {
        "colab": {
          "base_uri": "https://localhost:8080/"
        },
        "id": "lzCBKnCUSWzD",
        "outputId": "90fd3f49-5dfe-4d89-9be0-9090984924a7"
      },
      "outputs": [
        {
          "name": "stdout",
          "output_type": "stream",
          "text": [
            "(d * b) != (e * a): True\n"
          ]
        }
      ],
      "source": [
        "print('(d * b) != (e * a):', (d * b) != (e * a))"
      ]
    },
    {
      "cell_type": "code",
      "execution_count": 19,
      "metadata": {
        "colab": {
          "base_uri": "https://localhost:8080/"
        },
        "id": "8WDfGHX4Smla",
        "outputId": "e6e8d3ef-1d42-4129-b6a8-51d329822cd9"
      },
      "outputs": [
        {
          "name": "stdout",
          "output_type": "stream",
          "text": [
            "a >= c: False\n"
          ]
        }
      ],
      "source": [
        "print('a >= c:', a >= c)"
      ]
    },
    {
      "cell_type": "code",
      "execution_count": 20,
      "metadata": {
        "colab": {
          "base_uri": "https://localhost:8080/"
        },
        "id": "jWK899_NSviQ",
        "outputId": "63fb6852-16fe-4148-f05d-5c3c39a002d7"
      },
      "outputs": [
        {
          "name": "stdout",
          "output_type": "stream",
          "text": [
            "c >= e: True\n"
          ]
        }
      ],
      "source": [
        "print('c >= e:', c >= e)"
      ]
    },
    {
      "cell_type": "markdown",
      "metadata": {
        "id": "06qu4lOoUC6N"
      },
      "source": [
        "#### Questão 04) "
      ]
    },
    {
      "cell_type": "code",
      "execution_count": 21,
      "metadata": {
        "id": "PdffbvosUGzo"
      },
      "outputs": [],
      "source": [
        "# definição das variáveis\n",
        "x = 64"
      ]
    },
    {
      "cell_type": "code",
      "execution_count": null,
      "metadata": {
        "colab": {
          "base_uri": "https://localhost:8080/"
        },
        "id": "TlaIMqypUMW9",
        "outputId": "c1bfed57-f5a3-46cb-bee4-cb4924ceba7c"
      },
      "outputs": [
        {
          "name": "stdout",
          "output_type": "stream",
          "text": [
            "64\n",
            "32\n",
            "16\n",
            "8\n",
            "4\n"
          ]
        }
      ],
      "source": [
        "while x > 2:\n",
        "  print(x)\n",
        "  x = int( x/2 )"
      ]
    },
    {
      "cell_type": "markdown",
      "metadata": {
        "id": "LpcmlPHUUgyN"
      },
      "source": [
        "#### Questão 04)"
      ]
    },
    {
      "cell_type": "code",
      "execution_count": 22,
      "metadata": {
        "colab": {
          "base_uri": "https://localhost:8080/"
        },
        "id": "GcPfU3TXWPWo",
        "outputId": "ef5fd674-67ba-490a-b1ba-aaf073ad14ab"
      },
      "outputs": [
        {
          "name": "stdout",
          "output_type": "stream",
          "text": [
            "Nota inválida!\n",
            "Aluno APROVADO!\n"
          ]
        }
      ],
      "source": [
        "nota = int(input('Digite uma nota entre 0 e 100: '))\n",
        "while nota > 100 or nota < 0:\n",
        "  print('Nota inválida!')\n",
        "  nota = int(input('Digite uma nota entre 0 e 100: '))\n",
        "\n",
        "if nota < 60:\n",
        "  print('Aluno REPROVADO!')\n",
        "else:\n",
        "  print('Aluno APROVADO!')"
      ]
    }
  ],
  "metadata": {
    "colab": {
      "provenance": []
    },
    "kernelspec": {
      "display_name": "ufv",
      "language": "python",
      "name": "python3"
    },
    "language_info": {
      "codemirror_mode": {
        "name": "ipython",
        "version": 3
      },
      "file_extension": ".py",
      "mimetype": "text/x-python",
      "name": "python",
      "nbconvert_exporter": "python",
      "pygments_lexer": "ipython3",
      "version": "3.8.16"
    },
    "vscode": {
      "interpreter": {
        "hash": "843b10575b5b1569368e6fd0411aed610632e719479575842f1a8a04f15c8efb"
      }
    }
  },
  "nbformat": 4,
  "nbformat_minor": 0
}
