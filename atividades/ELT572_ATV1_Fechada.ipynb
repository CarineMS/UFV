{
 "cells": [
  {
   "attachments": {},
   "cell_type": "markdown",
   "metadata": {},
   "source": [
    "## Python\n",
    "### Questões fechadas para Python Parte I\n",
    "\n",
    "**Aluna:** Carine Madeira Soares  \n",
    "**Instituição:** Universidade Federal de Viçosa"
   ]
  }
 ],
 "metadata": {
  "kernelspec": {
   "display_name": "ufv",
   "language": "python",
   "name": "python3"
  },
  "language_info": {
   "name": "python",
   "version": "3.8.16"
  },
  "orig_nbformat": 4
 },
 "nbformat": 4,
 "nbformat_minor": 2
}
