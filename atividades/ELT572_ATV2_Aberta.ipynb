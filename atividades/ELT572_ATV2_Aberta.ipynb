{
 "cells": [
  {
   "cell_type": "markdown",
   "metadata": {},
   "source": [
    "## Python\n",
    "### Questões abertas para Python Parte II\n",
    "\n",
    "**Aluna:** Carine Madeira Soares  \n",
    "**Instituição:** Universidade Federal de Viçosa"
   ]
  },
  {
   "cell_type": "code",
   "execution_count": 1,
   "metadata": {},
   "outputs": [],
   "source": [
    "import pandas as pd\n",
    "import numpy as np\n",
    "from calcular_status_aluno import Aluno"
   ]
  },
  {
   "attachments": {},
   "cell_type": "markdown",
   "metadata": {},
   "source": [
    "#### Questão 01)"
   ]
  },
  {
   "attachments": {},
   "cell_type": "markdown",
   "metadata": {},
   "source": [
    "Utilizando vetores e comando de repetição, crie um código que receba as notas de 5 atividades, que será informada pelo usuário. Em seguida, faça a média das notas e imprima na tela a média com a mensagem 'aluno aprovado!' caso a média seria igual ou superior a 60.0 **OU** 'aluno reprovado!' caso a média seja menor que 60.0."
   ]
  },
  {
   "cell_type": "code",
   "execution_count": 3,
   "metadata": {},
   "outputs": [],
   "source": [
    "numero_avaliacoes, notas_obtidas = Aluno.parametros_notas()"
   ]
  },
  {
   "cell_type": "code",
   "execution_count": 4,
   "metadata": {},
   "outputs": [],
   "source": [
    "Notas_Teste = Aluno.valores_notas(notas_obtidas, numero_avaliacoes)"
   ]
  },
  {
   "cell_type": "code",
   "execution_count": 5,
   "metadata": {},
   "outputs": [
    {
     "name": "stdout",
     "output_type": "stream",
     "text": [
      "A média das notas do Aluno é 65.0\n",
      "Aluno aprovado!\n"
     ]
    }
   ],
   "source": [
    "med = Aluno.calculo_media(Notas_Teste, numero_avaliacoes)"
   ]
  },
  {
   "attachments": {},
   "cell_type": "markdown",
   "metadata": {},
   "source": [
    "#### Questão 02)"
   ]
  },
  {
   "attachments": {},
   "cell_type": "markdown",
   "metadata": {},
   "source": [
    "Crie um programa de repetição que receba uma matriz de tamanho 5x5 e imprima a soma de cada linha."
   ]
  },
  {
   "cell_type": "code",
   "execution_count": null,
   "metadata": {},
   "outputs": [],
   "source": []
  },
  {
   "attachments": {},
   "cell_type": "markdown",
   "metadata": {},
   "source": [
    "#### Questão 03)"
   ]
  },
  {
   "attachments": {},
   "cell_type": "markdown",
   "metadata": {},
   "source": [
    "Crie uma função que receba dois inteiros 'ent1' e 'ent2' e retorne um print específico para cada cenário caso a atenda a condição descrita. Segue os cenários:\n",
    "\n",
    "* 'ent1' - 'ent2' é negativo!\\\n",
    "**condição:** Caso ent1 menos ent2 seja menor que zero;\n",
    "\n",
    "* 'ent1' * 'ent2' é negativo!\\\n",
    "**condição:** Caso o produto de ent1  e ent2 seja menor que zero;\n",
    "\n",
    "* 'ent1' + 'ent2' é negativo!\\\n",
    "**condição:** Caso a soma de ent1 e ent2 seja menor que zero;"
   ]
  },
  {
   "cell_type": "code",
   "execution_count": null,
   "metadata": {},
   "outputs": [],
   "source": []
  },
  {
   "attachments": {},
   "cell_type": "markdown",
   "metadata": {},
   "source": [
    "#### Questão 04)"
   ]
  },
  {
   "attachments": {},
   "cell_type": "markdown",
   "metadata": {},
   "source": [
    "Crie uma função que receba um caractere, uma string e o tamanho da string, essa função deve substituir os caracteres pares da string pelo caractere informado como parâmetro da função e retornar a nova string gerada."
   ]
  }
 ],
 "metadata": {
  "kernelspec": {
   "display_name": "ufv",
   "language": "python",
   "name": "python3"
  },
  "language_info": {
   "codemirror_mode": {
    "name": "ipython",
    "version": 3
   },
   "file_extension": ".py",
   "mimetype": "text/x-python",
   "name": "python",
   "nbconvert_exporter": "python",
   "pygments_lexer": "ipython3",
   "version": "3.8.16"
  },
  "orig_nbformat": 4
 },
 "nbformat": 4,
 "nbformat_minor": 2
}
