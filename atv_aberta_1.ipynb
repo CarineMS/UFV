{
 "cells": [
  {
   "cell_type": "code",
   "execution_count": null,
   "metadata": {},
   "outputs": [],
   "source": []
  }
 ],
 "metadata": {
  "kernelspec": {
   "display_name": "ufv",
   "language": "python",
   "name": "python3"
  },
  "language_info": {
   "name": "python",
   "version": "3.8.16 (default, Mar  2 2023, 03:18:16) [MSC v.1916 64 bit (AMD64)]"
  },
  "orig_nbformat": 4,
  "vscode": {
   "interpreter": {
    "hash": "843b10575b5b1569368e6fd0411aed610632e719479575842f1a8a04f15c8efb"
   }
  }
 },
 "nbformat": 4,
 "nbformat_minor": 2
}
